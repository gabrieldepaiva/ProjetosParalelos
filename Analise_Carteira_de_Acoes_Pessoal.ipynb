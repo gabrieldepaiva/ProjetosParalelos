{
  "nbformat": 4,
  "nbformat_minor": 0,
  "metadata": {
    "colab": {
      "name": "Analise-Carteira_de_Acoes_Pessoal.ipynb",
      "provenance": [],
      "collapsed_sections": [],
      "authorship_tag": "ABX9TyNTDZgC4d8/irkrXX4vFGK2",
      "include_colab_link": true
    },
    "kernelspec": {
      "name": "python3",
      "display_name": "Python 3"
    }
  },
  "cells": [
    {
      "cell_type": "markdown",
      "metadata": {
        "id": "view-in-github",
        "colab_type": "text"
      },
      "source": [
        "<a href=\"https://colab.research.google.com/github/gabrieldepaiva/Projetos_Financas-Python/blob/main/Analise_Carteira_de_Acoes_Pessoal.ipynb\" target=\"_parent\"><img src=\"https://colab.research.google.com/assets/colab-badge.svg\" alt=\"Open In Colab\"/></a>"
      ]
    },
    {
      "cell_type": "markdown",
      "metadata": {
        "id": "U2oTOoz5wUK9"
      },
      "source": [
        "## Importação das Bibliotecas Necessárias"
      ]
    },
    {
      "cell_type": "code",
      "metadata": {
        "id": "prcH2AeyiJGm",
        "colab": {
          "base_uri": "https://localhost:8080/"
        },
        "cellView": "form",
        "outputId": "28ebdecc-726b-481b-b88f-f4c39b90b8b0"
      },
      "source": [
        "#@title\n",
        "import pandas as pd\n",
        "from pandas_datareader import data\n",
        "import numpy as np\n",
        "import matplotlib.pyplot as plt\n",
        "from google.colab.data_table import DataTable\n",
        "print('Pacotes Necessários Carregados com Sucesso')"
      ],
      "execution_count": 6,
      "outputs": [
        {
          "output_type": "stream",
          "text": [
            "Pacotes Necessários Carregados com Sucesso\n"
          ],
          "name": "stdout"
        }
      ]
    },
    {
      "cell_type": "markdown",
      "metadata": {
        "id": "iNztm5baxev3"
      },
      "source": [
        "## Escolha dos ativos que compõem a carteira"
      ]
    },
    {
      "cell_type": "code",
      "metadata": {
        "id": "TYhr4Om2NpYB",
        "colab": {
          "base_uri": "https://localhost:8080/",
          "height": 214
        },
        "cellView": "form",
        "outputId": "4c7bdf86-ad3a-4a33-b3a5-427eba52ba02"
      },
      "source": [
        "#@title\n",
        "print('Pesquisa rápida de cada código das ações das empresas listadas na bolsa de valores')\n",
        "DataBase = pd.read_csv('https://raw.githubusercontent.com/gabrieldepaiva/Projetos_Financas-Python/main/Tickers.csv',sep=';')\n",
        "DataTable(DataBase,include_index=False,num_rows_per_page=5)"
      ],
      "execution_count": 5,
      "outputs": [
        {
          "output_type": "stream",
          "text": [
            "Pesquisa rápida de cada código das ações das empresas listadas na bolsa de valores\n"
          ],
          "name": "stdout"
        },
        {
          "output_type": "execute_result",
          "data": {
            "application/vnd.google.colaboratory.module+javascript": "\n      import \"https://ssl.gstatic.com/colaboratory/data_table/a6224c040fa35dcf/data_table.js\";\n\n      window.createDataTable({\n        data: [[\"AES Tiete Energia SA Brazilian Units\",\n\"TIET11.SA\"],\n [\"AF Invest FII - Recebiveis Imobiliarios\",\n\"AFCR11.SA\"],\n [\"Aliansce Sonae Shopping Centers SA\",\n\"ALSO3.SA\"],\n [\"Alianza Trust Renda Imobiliaria FII\",\n\"ALZR11.SA\"],\n [\"Alpargatas SA\",\n\"ALPA3.SA\"],\n [\"Alpargatas SA Preference Shares\",\n\"ALPA4.SA\"],\n [\"Alper Consultoria e Corretora deSegursSA\",\n\"APER3.SA\"],\n [\"Alupar Investimento SA Brazilian Units\",\n\"ALUP11.SA\"],\n [\"Ambev SA\",\n\"ABEV3.SA\"],\n [\"Anima Holding SA\",\n\"ANIM3.SA\"],\n [\"Aragon - Fundo de Investimento Imobiliario\",\n\"RBCO11.SA\"],\n [\"Arezzo Industria E Comercio SA\",\n\"ARZZ3.SA\"],\n [\"Atacadao SA\",\n\"CRFB3.SA\"],\n [\"Autonomy Edificios Corporativos FII\",\n\"AIEC11.SA\"],\n [\"Azul SA\",\n\"AZUL4.SA\"],\n [\"B2W Companhia Digital\",\n\"BTOW3.SA\"],\n [\"B3 SA Brasil Bolsa Balcao\",\n\"B3SA3.SA\"],\n [\"Bahema Educacao SA\",\n\"BAHI3.SA\"],\n [\"Banco ABC Brasil SA\",\n\"ABCB4.SA\"],\n [\"Banco Bradesco SA\",\n\"BBDC3.SA\"],\n [\"Banco Bradesco SA Preference Shares\",\n\"BBDC4.SA\"],\n [\"Banco BTG Pactual SA Brazilian Units\",\n\"BPAC11.SA\"],\n [\"Banco do Brasil SA\",\n\"BBAS3.SA\"],\n [\"Banco do Estado de Sergipe SA Preference Shares\",\n\"BGIP4.SA\"],\n [\"Banco do Estado do Rio Grande do Sul B Pref Shs\",\n\"BRSR6.SA\"],\n [\"Banco do Estado do Rio Grande do Sul SA\",\n\"BRSR3.SA\"],\n [\"Banco Indusval SA\",\n\"IDVL3.SA\"],\n [\"Banco Inter SA Preference Shares\",\n\"BIDI4.SA\"],\n [\"Banco Pan SA\",\n\"BPAN4.SA\"],\n [\"Banco Pine SA Preference Shares\",\n\"PINE4.SA\"],\n [\"Banco Santander Brasil SA Brazilian Units\",\n\"SANB11.SA\"],\n [\"Banestes Recebiveis Imobiliarios FII\",\n\"BCRI11.SA\"],\n [\"Banestes SA Banco do Estado Esprt Santo\",\n\"BEES3.SA\"],\n [\"Banrisul Novas Fronteiras FII\",\n\"BNFS11.SA\"],\n [\"BB Fundo De Investimento Imobiliario Progressivo\",\n\"BBFI11B.SA\"],\n [\"BB Progressivo II FI Imobiliario FII\",\n\"BBPO11.SA\"],\n [\"BB Renda Corporativa FI Imobiliario FII\",\n\"BBRC11.SA\"],\n [\"BB Renda de Papeis Imobiliarios FI imobiliario FII\",\n\"RNDP11.SA\"],\n [\"BB Renda Papeis imobiliarios II FII\",\n\"RDPD11.SA\"],\n [\"BB Seguridade Participacoes SA\",\n\"BBSE3.SA\"],\n [\"Biomm SA\",\n\"BIOM3.SA\"],\n [\"Biosev SA\",\n\"BSEV3.SA\"],\n [\"BK Brasil Operacao e Assessr Rstrnts SA\",\n\"BKBR3.SA\"],\n [\"Bluecap Renda Logistica FII - FII\",\n\"BLCP11.SA\"],\n [\"BR Malls Participacoes SA\",\n\"BRML3.SA\"],\n [\"BR Properties SA\",\n\"BRPR3.SA\"],\n [\"Bradesco Carteira Imobiliaria Ativa\",\n\"BCIA11.SA\"],\n [\"Bradespar SA\",\n\"BRAP3.SA\"],\n [\"Bradespar SA Preference Shares\",\n\"BRAP4.SA\"],\n [\"Brasil Brokers Participacoes SA\",\n\"BBRK3.SA\"],\n [\"Brasil Plural II - FII\",\n\"NEWL11.SA\"],\n [\"Brasilagro Companhia Braslr Propds Agrcl\",\n\"AGRO3.SA\"],\n [\"Braskem SA\",\n\"BRKM3.SA\"],\n [\"Braskem SA Preference Shares Series A\",\n\"BRKM5.SA\"],\n [\"Brazil Real Estate Victory Fund I Fundo de Investimento Imobiliario Closed Fund\",\n\"BREV11.SA\"],\n [\"Brazil Realty FI Imobiliario\",\n\"BZLI11.SA\"],\n [\"Brazilian Graveyard and Death Care Services FII\",\n\"CARE11.SA\"],\n [\"Bresco Logistica Fundo de Investimento Imobiliaro ETF\",\n\"BRCO11.SA\"],\n [\"BRF SA\",\n\"BRFS3.SA\"],\n [\"BTG Pactual Logistica FI Imobiliario\",\n\"BTLG11.SA\"],\n [\"Caixa Rio Bravo FF de Investimento Imobiliario\",\n\"CXRI11.SA\"],\n [\"Caixa Rio Bravo FF de Investimento Imobiliario II\",\n\"CRFF11.SA\"],\n [\"Cambuci Ord Shs\",\n\"CAMB3.SA\"],\n [\"Camil Alimentos SA\",\n\"CAML3.SA\"],\n [\"Capitania Reit FOF - FI Imobiliario\",\n\"CPFF11.SA\"],\n [\"Capitania Securities II Fundo de Investimento Imobiliario Closed Fund\",\n\"CPTS11.SA\"],\n [\"Castello Branco Office Park FI Imobiliario FII\",\n\"CBOP11.SA\"],\n [\"CCR SA\",\n\"CCRO3.SA\"],\n [\"Centrais Eletricas Brasileiras SA\",\n\"ELET3.SA\"],\n [\"Centrais Eletricas Brasileiras SA Preference Shares Series B\",\n\"ELET6.SA\"],\n [\"Centrais Eletricas de Santa Catarina SA Preference Shares\",\n\"CLSC4.SA\"],\n [\"Centro de Imagem Diagnosticos SA\",\n\"AALR3.SA\"],\n [\"CESP Companhia Energetica de Sao Paulo\",\n\"CESP3.SA\"],\n [\"Cia De Fiacao E Tecidos Cedro Cachoeira Preference Shares\",\n\"CEDO4.SA\"],\n [\"Cia Hering\",\n\"HGTX3.SA\"],\n [\"Cia Paranaense De Energia Copel Pref Shs\",\n\"CPLE6.SA\"],\n [\"Cidade Jardim Continental Tower Fdo Inv Imob Cf\",\n\"CJCT11.SA\"],\n [\"Cielo SA\",\n\"CIEL3.SA\"],\n [\"Cogna Educacao SA\",\n\"COGN3.SA\"],\n [\"Companhia Brasileira de Distribuicao\",\n\"PCAR3.SA\"],\n [\"Companhia de Ferro Ligas da Bah Frbs Preference Shares\",\n\"FESA4.SA\"],\n [\"Companhia de Locacao das Americas\",\n\"LCAM3.SA\"],\n [\"Companhia de Saneamento Bsc DEDSP Sbsp\",\n\"SBSP3.SA\"],\n [\"Companhia de Saneamento de Minas Gerais\",\n\"CSMG3.SA\"],\n [\"Companhia de Saneamento Parana SANEPAR Brazilian Units\",\n\"SAPR11.SA\"],\n [\"Companhia de Saneamento Parana SANEPAR Preference Shares\",\n\"SAPR4.SA\"],\n [\"Companhia de Tecidos Nrt d Mns COTEMINAS Preference Shares\",\n\"CTNM4.SA\"],\n [\"Companhia Energetica de Minas Gers CEMIG\",\n\"CMIG3.SA\"],\n [\"Companhia Energetica de Minas Gers CEMIG Preference Shares\",\n\"CMIG4.SA\"],\n [\"Companhia Energetica de Sao Paulo B Pref Shs\",\n\"CESP6.SA\"],\n [\"Companhia Energetica do Ceara - COELCE Preference Shares Series A\",\n\"COCE5.SA\"],\n [\"Companhia Paranaense de Energia - COPEL\",\n\"CPLE3.SA\"],\n [\"Companhia Siderurgica Nacional\",\n\"CSNA3.SA\"],\n [\"Construtora Tenda SA\",\n\"TEND3.SA\"],\n [\"Cosan Logistica SA\",\n\"RLOG3.SA\"],\n [\"Cosan SA\",\n\"CSAN3.SA\"],\n [\"CPFL Energia S.A.\",\n\"CPFE3.SA\"],\n [\"CR2 Empreendimentos Imobiliarios SA\",\n\"CRDE3.SA\"],\n [\"CSHG GR\",\n\"GRLV11.SA\"],\n [\"CSHG Imobiliario FOF FII\",\n\"HGFF11.SA\"],\n [\"CSHG Prime Offices FII - FII\",\n\"HGPO11.SA\"],\n [\"CSHG Real Estate FI Imobiliario-FII\",\n\"HGRE11.SA\"],\n [\"CSHG Recebiveis Imobiliarios FII\",\n\"HGCR11.SA\"],\n [\"CSHG Renda Urbana-FI Imobiliario-FII\",\n\"HGRU11.SA\"],\n [\"CSU Cardsystem SA\",\n\"CARD3.SA\"],\n [\"CTEEP Cia Transm Energia Eletr Paulista Preference Shares\",\n\"TRPL4.SA\"],\n [\"CVC Brasil Operadora e Agencia d Vgns SA\",\n\"CVCB3.SA\"],\n [\"Cyrela Brazil Realty SA Emprdts e Prtpcs\",\n\"CYRE3.SA\"],\n [\"Cyrela Commercial Propertes SA Emp Partp\",\n\"CCPR3.SA\"],\n [\"Diagnosticos da America SA\",\n\"DASA3.SA\"],\n [\"Direcional Engenharia SA\",\n\"DIRR3.SA\"],\n [\"Dommo Energia SA\",\n\"DMMO3.SA\"],\n [\"Duratex SA\",\n\"DTEX3.SA\"],\n [\"Ecorodovias Infraestrutura e Logistic SA\",\n\"ECOR3.SA\"],\n [\"EDP Energias do Brasil SA\",\n\"ENBR3.SA\"],\n [\"Embraer SA\",\n\"EMBR3.SA\"],\n [\"Energisa SA Brazilian Units\",\n\"ENGI11.SA\"],\n [\"Eneva SA\",\n\"ENEV3.SA\"],\n [\"Engie Brasil Energia SA\",\n\"EGIE3.SA\"],\n [\"Equatorial Energia SA\",\n\"EQTL3.SA\"],\n [\"Eucatex SA Industria e Comercio Preference Shares\",\n\"EUCA4.SA\"],\n [\"EVEN Construtora e Incorporadora SA\",\n\"EVEN3.SA\"],\n [\"EZTEC Empreendimentos e Participacoes SA\",\n\"EZTC3.SA\"],\n [\"Fator Verita Fundo Investimento Imobiliario - FII\",\n\"VRTA11.SA\"],\n [\"Fdo Inv Imob Rbr Private Credito Imob Cef\",\n\"RBRY11.SA\"],\n [\"Fertilizantes Heringer SA\",\n\"FHER3.SA\"],\n [\"FI Imobiliario - Ceo Cyrela Commercial Properties\",\n\"CEOC11.SA\"],\n [\"FI Imobiliario - FII CENESP\",\n\"CNES11.SA\"],\n [\"FI imobiliario - FII Cyrela Thera Corporate\",\n\"THRA11.SA\"],\n [\"FI Imobiliario - FII Edificio Galeria\",\n\"EDGA11.SA\"],\n [\"FI Imobiliario - FII Hotel Maxinvest\",\n\"HTMX11.SA\"],\n [\"FI Imobiliario - FII Torre Almirante\",\n\"ALMI11.SA\"],\n [\"FI Imobiliario - FII Torre Norte\",\n\"TRNT11.SA\"],\n [\"FI Imobiliario - FII Vila Olimpia Corporate\",\n\"VLOL11.SA\"],\n [\"FI Imobiliario - Ourinvest Fundo de Fundos\",\n\"OUCY11.SA\"],\n [\"FI Imobiliario - Ourinvest Fundo de Fundos\",\n\"OUFF11.SA\"],\n [\"FI Imobiliario - Ourinvest Fundo de Fundos\",\n\"WTSP11B.SA\"],\n [\"FI Imobiliario - VBI CRI\",\n\"CVBI11.SA\"],\n [\"FI Imobiliario Anhanguera Educacional\",\n\"FAED11.SA\"],\n [\"FI Imobiliario Atrio REIT Recebiveis Imobiliarios\",\n\"ARRI11.SA\"],\n [\"FI Imobiliario Barigui Rendimentos Imobiliarios I\",\n\"BARI11.SA\"],\n [\"FI Imobiliario BTG Pactual Credito Imobiliario\",\n\"BTCR11.SA\"],\n [\"FI Imobiliario BTG Pactual Shoppings Closed Fund\",\n\"BPML11.SA\"],\n [\"FI Imobiliario Caixa Trx Logistica Renda\",\n\"CXTL11.SA\"],\n [\"FI Imobiliario Campus Faria Lima\",\n\"FCFL11.SA\"],\n [\"FI Imobiliario Centro Textil Internacional\",\n\"CTXT11.SA\"],\n [\"FI Imobiliario Continental Square Faria Lima\",\n\"FLMA11.SA\"],\n [\"FI Imobiliario FII BTG Pactual Fundo de Fundos\",\n\"BCFF11.SA\"],\n [\"FI Imobiliario FII Floripa Shopping\",\n\"FLRP11.SA\"],\n [\"FI Imobiliario FII Max Retail\",\n\"MAXR11.SA\"],\n [\"FI Imobiliario Grand Plaza Shopping\",\n\"ABCP11.SA\"],\n [\"FI Imobiliario Iridium Recebiveis Imobiliarios\",\n\"IRDM11.SA\"],\n [\"FI Imobiliario Mogno Fundo de Fundos\",\n\"MGFF11.SA\"],\n [\"FI Imobiliario Multi Renda Urbana\",\n\"HBRH11.SA\"],\n [\"FI Imobiliario Novo Horizonte\",\n\"NVHO11.SA\"],\n [\"FI Imobiliario Presidente Vargas\",\n\"PRSV11.SA\"],\n [\"FI Imobiliario Projeto Agua Branca\",\n\"FPAB11.SA\"],\n [\"FI Imobiliario RBR Alpha Fundo de Fundos\",\n\"RBRF11.SA\"],\n [\"FI Imobiliario RBR Properties - FII\",\n\"RBRP11.SA\"],\n [\"FI Imobiliario RBR Rendimento High Grade\",\n\"RBRR11.SA\"],\n [\"FI Imobiliario Rio Bravo Renda Corporativa\",\n\"RCRB11.SA\"],\n [\"FI Imobiliario VBI Prime Properties\",\n\"PVBI11.SA\"],\n [\"FI Imobiliario Via Parque Shopping-FII\",\n\"FVPQ11.SA\"],\n [\"FI Imobiliario Votorantim Logistica\",\n\"VTLT11.SA\"],\n [\"FI Imobiliario Votorantim Shopping\",\n\"VSHO11.SA\"],\n [\"FI Imobiliario-FII BTG Pactual Fundo de CRI\",\n\"FEXC11.SA\"],\n [\"FI Imobiliario-FII Jardim Sul\",\n\"JRDM11.SA\"],\n [\"FII - FII Brasil Plural Absoluto Fundo de Fundos\",\n\"BPFF11.SA\"],\n [\"FII - FII Parque Dom Pedro Shopping Center\",\n\"PQDP11.SA\"],\n [\"FII ALMIRANTCI MB\",\n\"FAMB11B.SA\"],\n [\"FII BTG Pactual Corporate Office Fund\",\n\"BRCR11.SA\"],\n [\"FII CX CEDAECI ER MB\",\n\"CXCE11B.SA\"],\n [\"FII EUROPAR CI ER\",\n\"EURO11.SA\"],\n [\"FII FOF Integral Brei\",\n\"IBFF11.SA\"],\n [\"FII General Shopping Ativo e Renda - FII\",\n\"FIGS11.SA\"],\n [\"FII Hospital Da Crianca\",\n\"HCRI11.SA\"],\n [\"FII Hospital Nossa Senhora de Lourdes\",\n\"NSLU11.SA\"],\n [\"FII Hospital Unimed Sul Capixaba\",\n\"HUSC11.SA\"],\n [\"FII Imobiliario Rio Negro\",\n\"RNGO11.SA\"],\n [\"FII Industrial do Brasil\",\n\"FIIB11.SA\"],\n [\"FII Maua Capital Recebiveis Imobiliarios FII\",\n\"MCCI11.SA\"],\n [\"FII Memorial Office\",\n\"FMOF11.SA\"],\n [\"FII Mercantil do Brasil\",\n\"MBRF11.SA\"],\n [\"FII Mogno Certificados de Receb Imob High Grade\",\n\"MGCR11.SA\"],\n [\"FII MTGESTAOCI MB\",\n\"DRIT11B.SA\"],\n [\"FII NCH Brasil Recebiveis Imobiliarios\",\n\"NCHB11.SA\"],\n [\"FII OURINVESCI ER MB\",\n\"EDFO11B.SA\"],\n [\"FII RB CAP ICI ER MB\",\n\"FIIP11B.SA\"],\n [\"Fii Rb Capital I Fundo de Fundos\",\n\"RFOF11.SA\"],\n [\"Fii Rec Renda Imobiliaria Closed Fund\",\n\"RECT11.SA\"],\n [\"FII Rio Bravo Renda Varejo-FII\",\n\"RBVA11.SA\"],\n [\"FII SDI Rio Bravo Renda Logistica\",\n\"SDIL11.SA\"],\n [\"FII Shopping Patio Higienopolis\",\n\"SHPH11.SA\"],\n [\"FII TG Ativo Real\",\n\"TGAR11.SA\"],\n [\"FII Vida Nova\",\n\"FIVN11.SA\"],\n [\"FISET Fl Ref Pref Shs\",\n\"FSRF11.SA\"],\n [\"Fleury SA\",\n\"FLRY3.SA\"],\n [\"Fras-le SA\",\n\"FRAS3.SA\"],\n [\"Fundo de FI Imobiliario Kinea FII\",\n\"KFOF11.SA\"],\n [\"Fundo de Investimento Imobiliario - VBI Logistico\",\n\"LVBI11.SA\"],\n [\"Fundo De Investimento Imobiliario - VBI Logistico - Cota Fund\",\n\"NVIF11B.SA\"],\n [\"Fundo de Investimento Imobiliario Athena I\",\n\"FATN11.SA\"],\n [\"Fundo de Investimento imobiliario Housi\",\n\"HOSI11.SA\"],\n [\"Fundo de Investimento Imobiliario Mogno Hoteis\",\n\"MGHT11.SA\"],\n [\"Fundo de Investimento Imobiliario Ourinvest Logistica Closed Fund\",\n\"OULG11.SA\"],\n [\"Fundo de Investimento Imobiliario Panamby\",\n\"PABY11.SA\"],\n [\"Fundo de Investimento Imobiliario Riza Terrax Closed End Fund\",\n\"RZTR11.SA\"],\n [\"Fundo de Investimento Imobiliario The One\",\n\"ONEF11.SA\"],\n [\"Fundo de Investimento Imobiliario V2 Properties Closed Fund\",\n\"VVPR11.SA\"],\n [\"Fundo de Investimentos Imobiliarios Rec Recebiveis Closed Fund\",\n\"RECR11.SA\"],\n [\"Fundo Investimento Imobiliario CSHG Logi\",\n\"HGLG11.SA\"],\n [\"Fundo Investimento Imobiliario Green Towers\",\n\"GTWR11.SA\"],\n [\"Gafisa SA\",\n\"GFSA3.SA\"],\n [\"Galapagos Fundo de Fundos FII FI Imobiliario\",\n\"GCFF11.SA\"],\n [\"General Shopping e Outlets do Brasil FII\",\n\"GSFI11.SA\"],\n [\"General Shopping e Outlets do Brasil SA\",\n\"GSHP3.SA\"],\n [\"Gerdau SA\",\n\"GGBR3.SA\"],\n [\"Gerdau SA Preference Shares\",\n\"GGBR4.SA\"],\n [\"GGR Covepi Renda FII\",\n\"GGRC11.SA\"],\n [\"Gol Linhas Aereas Inteligentes SA\",\n\"GOLL4.SA\"],\n [\"Grazziotin SA\",\n\"CGRA3.SA\"],\n [\"Grazziotin SA Preference Shares\",\n\"CGRA4.SA\"],\n [\"Grendene SA\",\n\"GRND3.SA\"],\n [\"Guararapes Confeccoes SA\",\n\"GUAR3.SA\"],\n [\"Habitat II-Fundo de Investimento Imobiliario\",\n\"HABT11.SA\"],\n [\"Hapvida Participacoes e Investimentos SA\",\n\"HAPV3.SA\"],\n [\"Hectare Ce Fdo Inv Imob\",\n\"HCTR11.SA\"],\n [\"Hedge Atrium Shopping Santo Andre FII\",\n\"ATSA11.SA\"],\n [\"Hedge Brasil Shopping FI Imobiliario\",\n\"HGBS11.SA\"],\n [\"HEDGE LOG STICA FUNDO DE INVESTIMENTO IMOBILI RIO\",\n\"HLOG11.SA\"],\n [\"Hedge Shopping Parque Dom Pedro FII Closed Fund\",\n\"HPDP11.SA\"],\n [\"Hedge Shopping Praca da Moca FI Imobiliario\",\n\"HMOC11.SA\"],\n [\"Hedge Top FOF II 3 FI Imobiliario\",\n\"HFOF11.SA\"],\n [\"Helbor Empreendimentos SA\",\n\"HBOR3.SA\"],\n [\"HSI Malls Fundo de Investimento Imobiliario\",\n\"HSML11.SA\"],\n [\"Hypera SA\",\n\"HYPE3.SA\"],\n [\"IBOVESPA\",\n\"IBOV.SA\"],\n [\"IFI-E Inter Fundo de Investimento Imobiliario\",\n\"IFIE11.SA\"],\n [\"Iguatemi Empresa de Shopping Centers SA\",\n\"IGTA3.SA\"],\n [\"IND FDO IMOB\",\n\"IFIX.SA\"],\n [\"Industrias Romi SA\",\n\"ROMI3.SA\"],\n [\"Instituto Hermes Pardini SA\",\n\"PARD3.SA\"],\n [\"Inter Titulos Imobiliarios Fundo De Investimento Imobiliario Closed Fund\",\n\"BICR11.SA\"],\n [\"International Meal Company Alimentcao SA\",\n\"MEAL3.SA\"],\n [\"Iochpe Maxion SA\",\n\"MYPK3.SA\"],\n [\"IRB Brasil Resseguros SA\",\n\"IRBR3.SA\"],\n [\"Itau Unibanco Holding SA\",\n\"ITUB3.SA\"],\n [\"Itau Unibanco Holding SA Preference Shares\",\n\"ITUB4.SA\"],\n [\"Itausa SA\",\n\"ITSA3.SA\"],\n [\"Itausa SA Preference Shares\",\n\"ITSA4.SA\"],\n [\"JBS SA\",\n\"JBSS3.SA\"],\n [\"JHSF Participacoes SA\",\n\"JHSF3.SA\"],\n [\"JHSF Rio Bravo Fazenda Boa Vista Capital Prot FII\",\n\"RBBV11.SA\"],\n [\"Joao Fortes Engenharia S.A.\",\n\"JFEN3.SA\"],\n [\"JPP Allocation Mogno FI Imobiliario\",\n\"JPPA11.SA\"],\n [\"JS Real Estate Multigestao FII\",\n\"JSRE11.SA\"],\n [\"JSL SA\",\n\"JSLG3.SA\"],\n [\"Kepler Weber SA\",\n\"KEPL3.SA\"],\n [\"Kinea High Yield CRI FI Imobiliario-FII\",\n\"KNHY11.SA\"],\n [\"Kinea II Real Estate Equity FII\",\n\"KNRE11.SA\"],\n [\"Kinea Indices de Precos FII\",\n\"KNIP11.SA\"],\n [\"Kinea Renda Imobiliaria FII\",\n\"KNRI11.SA\"],\n [\"Kinea Rendimentos Imobiliarios FII\",\n\"KNCR11.SA\"],\n [\"Klabin SA Brazilian Units\",\n\"KLBN11.SA\"],\n [\"Legatus Shoppings FI Imobiliario FII\",\n\"LASC11.SA\"],\n [\"Light SA\",\n\"LIGT3.SA\"],\n [\"Linx SA\",\n\"LINX3.SA\"],\n [\"Localiza Rent a Car SA\",\n\"RENT3.SA\"],\n [\"Log Commercial Properties E Participacoe\",\n\"LOGG3.SA\"],\n [\"LOGCP Inter Fundo de Investimento Imobiliario Closed Fund\",\n\"LGCP11.SA\"],\n [\"Log-in Logistica Intermodal SA\",\n\"LOGN3.SA\"],\n [\"Lojas Americanas SA\",\n\"LAME3.SA\"],\n [\"Lojas Americanas SA Preference Shares\",\n\"LAME4.SA\"],\n [\"Lojas Renner SA\",\n\"LREN3.SA\"],\n [\"LPS Brasil - Consultoria de Imoveis SA\",\n\"LPSB3.SA\"],\n [\"Luggo Fundo de Investimento Imobiliario\",\n\"LUGG11.SA\"],\n [\"M. Dias Branco SA Ind Com de Alimentos\",\n\"MDIA3.SA\"],\n [\"MAC Fundo de Investimento Imobiliario\",\n\"DMAC11.SA\"],\n [\"Magazine Luiza SA\",\n\"MGLU3.SA\"],\n [\"Mahle Metal Leve SA\",\n\"LEVE3.SA\"],\n [\"Malls Brasil Plural FI Imobiliario\",\n\"MALL11.SA\"],\n [\"Marcopolo SA\",\n\"POMO3.SA\"],\n [\"Marcopolo SA Preference Shares\",\n\"POMO4.SA\"],\n [\"Marfrig Global Foods SA\",\n\"MRFG3.SA\"],\n [\"Marisa Lojas SA\",\n\"AMAR3.SA\"],\n [\"Maxi Renda Fundo de Investimento Imobiliario - FII\",\n\"MXRF11.SA\"],\n [\"Merito Desenvolvimento Imobiliario I FII\",\n\"MFII11.SA\"],\n [\"Merito Fundos De Acoes Imobiliarias FII Closed Fund\",\n\"MFAI11.SA\"],\n [\"Metalfrio Solutions SA\",\n\"FRIO3.SA\"],\n [\"Metalurgica Gerdau S.A.\",\n\"GOAU3.SA\"],\n [\"Metalurgica Gerdau S.A. Preference Shares\",\n\"GOAU4.SA\"],\n [\"Mills Estruturas e Servicos de Engnhr SA\",\n\"MILS3.SA\"],\n [\"Minerva SA\",\n\"BEEF3.SA\"],\n [\"More Real Estate FOF FII FI Imobiliario\",\n\"MORE11.SA\"],\n [\"Movida Participacoes SA\",\n\"MOVI3.SA\"],\n [\"MRV Engenharia e Participacoes SA\",\n\"MRVE3.SA\"],\n [\"Multiplan Empreendiment. Imobiliarios SA\",\n\"MULT3.SA\"],\n [\"Natura & Co Holding SA\",\n\"NTCO3.SA\"],\n [\"Notre Dame Intermedica Participacoes SA\",\n\"GNDI3.SA\"],\n [\"Odontoprev SA\",\n\"ODPV3.SA\"],\n [\"Omega Geracao SA\",\n\"OMGE3.SA\"],\n [\"Ourinvest JPP FI Imobiliario\",\n\"OUJP11.SA\"],\n [\"Ouro Fino Saude Animal Participacoes SA\",\n\"OFSA3.SA\"],\n [\"Paranapanema SA\",\n\"PMAM3.SA\"],\n [\"Parque Anhanguera FII\",\n\"PQAG11.SA\"],\n [\"Patria Edificios Corporativos FI Imobiliario-FII\",\n\"PATC11.SA\"],\n [\"Patria Logistica Fundo de Investimento Imobiliario\",\n\"PATL11.SA\"],\n [\"PBG SA\",\n\"PTBL3.SA\"],\n [\"Petro Rio SA\",\n\"PRIO3.SA\"],\n [\"Petrobras Distribuidora SA\",\n\"BRDT3.SA\"],\n [\"Petroleo Brasileiro SA Petrobras\",\n\"PETR3.SA\"],\n [\"Petroleo Brasileiro SA Petrobras Preference Shares\",\n\"PETR4.SA\"],\n [\"Pettenati SA Industria Textil Preference Shares\",\n\"PTNT4.SA\"],\n [\"Plural Recebiveis Imobiliarios FII\",\n\"PLCR11.SA\"],\n [\"Polo FII Recebiveis Imobiliarios I\",\n\"PLRI11.SA\"],\n [\"Polo FII Recebiveis Imobiliarios II\",\n\"PORD11.SA\"],\n [\"Porto Seguro SA\",\n\"PSSA3.SA\"],\n [\"Positivo Tecnologia SA\",\n\"POSI3.SA\"],\n [\"Profarma Distribuidora de Produts Frm SA\",\n\"PFRM3.SA\"],\n [\"Qualicorp Consultoria e Cra de Ses SA\",\n\"QUAL3.SA\"],\n [\"Quasar Agro - Fundo de Investimento Imobiliario\",\n\"QAGR11.SA\"],\n [\"Quata Monetai FOF - FII\",\n\"QMFF11.SA\"],\n [\"Raia Drogasil SA\",\n\"RADL3.SA\"],\n [\"Randon SA Implementos e Participacoes\",\n\"RAPT3.SA\"],\n [\"Randon SA Implementos e Participacoes Preference Shares\",\n\"RAPT4.SA\"],\n [\"RB Capital Desenvolvimento Residencial II FII\",\n\"RBDS11.SA\"],\n [\"RB Capital General Shopping Sulacap FII\",\n\"RBGS11.SA\"],\n [\"RB Capital Renda II FI Imobiliario\",\n\"RBRD11.SA\"],\n [\"Rbr Log Fundo de Investimento Imobiliario\",\n\"RBRL11.SA\"],\n [\"Renda de Escritors Fndo de Invto ImoFII\",\n\"NEWU11.SA\"],\n [\"Renova Energia SA\",\n\"RNEW3.SA\"],\n [\"Renova Energia SA Brazilian Units\",\n\"RNEW11.SA\"],\n [\"Renova Energia SA Preference Shares\",\n\"RNEW4.SA\"],\n [\"Restoque Comercio e Confecos de Roups SA\",\n\"LLIS3.SA\"],\n [\"Rio Bravo Credito Imobiliario II FII\",\n\"RBVO11.SA\"],\n [\"Rio Bravo Credito Imobiliario IV FI Imobiliario FII\",\n\"RBIV11.SA\"],\n [\"Rio Bravo IFIX Fundo de FII\",\n\"RBFF11.SA\"],\n [\"Rio Bravo Renda Educacional-FII\",\n\"RBED11.SA\"],\n [\"Rio Paranapanema Energia SA Preference Shares\",\n\"GEPA4.SA\"],\n [\"Riza Arctium Real Estate FII\",\n\"ARCT11.SA\"],\n [\"RNI Negocios Imobiliarios SA\",\n\"RDNI3.SA\"],\n [\"Rossi Residencial SA\",\n\"RSID3.SA\"],\n [\"Rumo SA\",\n\"RAIL3.SA\"],\n [\"Santander Papeis Imobiliarios CDI FII\",\n\"SADI11.SA\"],\n [\"Santander Renda de Alugueis FII\",\n\"SARE11.SA\"],\n [\"Santos Brasil Participacoes SA\",\n\"STBP3.SA\"],\n [\"Sao Carlos Empreendimentos e Part. SA\",\n\"SCAR3.SA\"],\n [\"Sao Martinho SA\",\n\"SMTO3.SA\"],\n [\"SCP Fundo Investimento Imobiliario\",\n\"SCPF11.SA\"],\n [\"Ser Educacional SA\",\n\"SEER3.SA\"],\n [\"Shopping West Plaza FI Imobiliario\",\n\"WPLZ11.SA\"],\n [\"SLC Agricola S.A.\",\n\"SLCE3.SA\"],\n [\"Smiles Fidelidade SA\",\n\"SMLS3.SA\"],\n [\"SP Downtown Fundo Investimento Imobiliario - FII\",\n\"SPTW11.SA\"],\n [\"SP Downtown Fundo Investimento Imobiliario - FII\",\n\"SPTW11.SA\"],\n [\"Springs Global Participacoes SA\",\n\"SGPS3.SA\"],\n [\"Steel Do Brasil Part\",\n\"ADHM3.SA\"],\n [\"Sul America SA Brazilian Units\",\n\"SULA11.SA\"],\n [\"Suzano SA\",\n\"SUZB3.SA\"],\n [\"T4f Entretenimento SA\",\n\"SHOW3.SA\"],\n [\"Technos SA\",\n\"TECN3.SA\"],\n [\"Tecnisa SA\",\n\"TCSA3.SA\"],\n [\"Tegma Gestao Logistica SA\",\n\"TGMA3.SA\"],\n [\"Tellus Properties Fundo de Investimento Imobiliario Closed Fund\",\n\"TEPP11.SA\"],\n [\"Terra Santa Agro SA\",\n\"TESA3.SA\"],\n [\"Tim SA\",\n\"TIMS3.SA\"],\n [\"Tordesilhas EI Fundo de Investimento Imobiliario Closed Fund\",\n\"TORD11.SA\"],\n [\"Totvs SA\",\n\"TOTS3.SA\"],\n [\"Transmissora Alianca Energia Eletrica SA Brazilian Units\",\n\"TAEE11.SA\"],\n [\"Trisul SA\",\n\"TRIS3.SA\"],\n [\"TRX Edificios Corporativos FII\",\n\"XTED11.SA\"],\n [\"TRX Real Estate FII Closed Fund\",\n\"TRXF11.SA\"],\n [\"Tupy SA\",\n\"TUPY3.SA\"],\n [\"Ultrapar Participacoes SA\",\n\"UGPA3.SA\"],\n [\"UNICASA Industria de Moveis S/A\",\n\"UCAS3.SA\"],\n [\"Unipar Participacoes B Pref Shs\",\n\"UNIP6.SA\"],\n [\"Urca Prime Renda FII Closed Fund\",\n\"URPR11.SA\"],\n [\"Usinas Siderurgicas de Minas Gerais A Pref Shs\",\n\"USIM5.SA\"],\n [\"Usinas Siderurgicas de Mins Grs SA USMNS\",\n\"USIM3.SA\"],\n [\"Vale SA\",\n\"VALE3.SA\"],\n [\"Valid Solucoes SA\",\n\"VLID3.SA\"],\n [\"Valora Cri Indice de Preco FI Imobiliario - FII\",\n\"VGIP11.SA\"],\n [\"Valora RE III FI Imobiliario-FII\",\n\"VGIR11.SA\"],\n [\"Vbi Reits Fof - Fundo de Investimento Imobiliario\",\n\"RVBI11.SA\"],\n [\"Vectis Juros Real FI Imobiliario FII\",\n\"VCJR11.SA\"],\n [\"Via Varejo SA\",\n\"VVAR3.SA\"],\n [\"Vinci Instrumentos Financeiros Fundo de Investimento Imobiliario Closed Fund\",\n\"VIFI11.SA\"],\n [\"Vinci Logistica Fundo de Investimento Imobiliario\",\n\"VILG11.SA\"],\n [\"Vinci Offices Fdo Inv Imob - Fii Vinc Cor\",\n\"VINO11.SA\"],\n [\"Vinci Shopping Centers FI Imobiliario\",\n\"VISC11.SA\"],\n [\"Votorantim Securities Master FII-FII\",\n\"VOTS11.SA\"],\n [\"Vulcabras Azaleia SA\",\n\"VULC3.SA\"],\n [\"Weg SA\",\n\"WEGE3.SA\"],\n [\"Wiz Solucoes e Corretagem de Seguros SA\",\n\"WIZS3.SA\"],\n [\"XP Corporate Macae FI Imobiliario\",\n\"XPCM11.SA\"],\n [\"XP Credito Imobiliario Fdo Inv Mob\",\n\"XPCI11.SA\"],\n [\"XP Hoteis - Fdo Inv Imob - FII\",\n\"XPHT11.SA\"],\n [\"XP Industrial Fundo de Investimento Imobiliario\",\n\"XPIN11.SA\"],\n [\"XP Log Fundo de Investimento Imobiliario-FII\",\n\"XPLG11.SA\"],\n [\"XP Malls Fundo de Investimento Imobiliario\",\n\"XPML11.SA\"],\n [\"XP Properties FII - FII\",\n\"XPPR11.SA\"],\n [\"Xp Selection Fundo de Fundos Inv Imob Fii\",\n\"XPSF11.SA\"],\n [\"#N/D\",\n\"VIVT4.SA\"]],\n        columns: [[\"string\", \"Empresa\"], [\"string\", \"Ticker\"]],\n        columnOptions: [],\n        rowsPerPage: 5,\n        helpUrl: \"https://colab.research.google.com/notebooks/data_table.ipynb\",\n        suppressOutputScrolling: true,\n        minimumWidth: undefined,\n      });\n    ",
            "text/plain": [
              "<google.colab.data_table.DataTable object>"
            ],
            "text/html": [
              "<div>\n",
              "<style scoped>\n",
              "    .dataframe tbody tr th:only-of-type {\n",
              "        vertical-align: middle;\n",
              "    }\n",
              "\n",
              "    .dataframe tbody tr th {\n",
              "        vertical-align: top;\n",
              "    }\n",
              "\n",
              "    .dataframe thead th {\n",
              "        text-align: right;\n",
              "    }\n",
              "</style>\n",
              "<table border=\"1\" class=\"dataframe\">\n",
              "  <thead>\n",
              "    <tr style=\"text-align: right;\">\n",
              "      <th></th>\n",
              "      <th>Empresa</th>\n",
              "      <th>Ticker</th>\n",
              "    </tr>\n",
              "  </thead>\n",
              "  <tbody>\n",
              "    <tr>\n",
              "      <th>0</th>\n",
              "      <td>AES Tiete Energia SA Brazilian Units</td>\n",
              "      <td>TIET11.SA</td>\n",
              "    </tr>\n",
              "    <tr>\n",
              "      <th>1</th>\n",
              "      <td>AF Invest FII - Recebiveis Imobiliarios</td>\n",
              "      <td>AFCR11.SA</td>\n",
              "    </tr>\n",
              "    <tr>\n",
              "      <th>2</th>\n",
              "      <td>Aliansce Sonae Shopping Centers SA</td>\n",
              "      <td>ALSO3.SA</td>\n",
              "    </tr>\n",
              "    <tr>\n",
              "      <th>3</th>\n",
              "      <td>Alianza Trust Renda Imobiliaria FII</td>\n",
              "      <td>ALZR11.SA</td>\n",
              "    </tr>\n",
              "    <tr>\n",
              "      <th>4</th>\n",
              "      <td>Alpargatas SA</td>\n",
              "      <td>ALPA3.SA</td>\n",
              "    </tr>\n",
              "    <tr>\n",
              "      <th>...</th>\n",
              "      <td>...</td>\n",
              "      <td>...</td>\n",
              "    </tr>\n",
              "    <tr>\n",
              "      <th>398</th>\n",
              "      <td>XP Log Fundo de Investimento Imobiliario-FII</td>\n",
              "      <td>XPLG11.SA</td>\n",
              "    </tr>\n",
              "    <tr>\n",
              "      <th>399</th>\n",
              "      <td>XP Malls Fundo de Investimento Imobiliario</td>\n",
              "      <td>XPML11.SA</td>\n",
              "    </tr>\n",
              "    <tr>\n",
              "      <th>400</th>\n",
              "      <td>XP Properties FII - FII</td>\n",
              "      <td>XPPR11.SA</td>\n",
              "    </tr>\n",
              "    <tr>\n",
              "      <th>401</th>\n",
              "      <td>Xp Selection Fundo de Fundos Inv Imob Fii</td>\n",
              "      <td>XPSF11.SA</td>\n",
              "    </tr>\n",
              "    <tr>\n",
              "      <th>402</th>\n",
              "      <td>#N/D</td>\n",
              "      <td>VIVT4.SA</td>\n",
              "    </tr>\n",
              "  </tbody>\n",
              "</table>\n",
              "<p>403 rows × 2 columns</p>\n",
              "</div>"
            ]
          },
          "metadata": {
            "tags": []
          },
          "execution_count": 5
        }
      ]
    },
    {
      "cell_type": "code",
      "metadata": {
        "id": "mNpK3IUqrhn8",
        "colab": {
          "base_uri": "https://localhost:8080/"
        },
        "cellView": "form",
        "outputId": "c6f3dcca-f642-4dca-ceea-be086e456c97"
      },
      "source": [
        "#@title\n",
        "print('Usar a nomenclatura utilizada no Yahoo Finance. Ex: PETR4.SA:')\n",
        "print('')\n",
        "\n",
        "# Código Base para incluir os ativos na carteira\n",
        "opcao = 1\n",
        "carteira = []\n",
        "\n",
        "carteira.append(input('Digite o nome do ativo. - '))\n",
        "opcao = int(input('Deseja digitar outro ativo? [1] Sim / [2] Não - '))\n",
        "\n",
        "while True:\n",
        "  if opcao == 1:\n",
        "    carteira.append(input('Digite o nome do ativo. - '))\n",
        "    opcao = int(input('Deseja digitar outro ativo? [1] Sim / [2] Não - '))\n",
        "  elif opcao != 1 and opcao != 2:\n",
        "    opcao = int(input('Escolha entre [1] Sim / [2] Não - '))\n",
        "  else:\n",
        "    break\n",
        "\n",
        "print('')\n",
        "print(f'Sua carteira é composta pelos seguintes ativos: {carteira}')"
      ],
      "execution_count": 7,
      "outputs": [
        {
          "output_type": "stream",
          "text": [
            "Usar a nomenclatura utilizada no Yahoo Finance. Ex: PETR4.SA:\n",
            "\n",
            "Digite o nome do ativo. - PETR4.SA\n",
            "Deseja digitar outro ativo? [1] Sim / [2] Não - 1\n",
            "Digite o nome do ativo. - TAEE11.SA\n",
            "Deseja digitar outro ativo? [1] Sim / [2] Não - 1\n",
            "Digite o nome do ativo. - BEES3.SA\n",
            "Deseja digitar outro ativo? [1] Sim / [2] Não - 2\n",
            "\n",
            "Sua carteira é composta pelos seguintes ativos: ['PETR4.SA', 'TAEE11.SA', 'BEES3.SA']\n"
          ],
          "name": "stdout"
        }
      ]
    },
    {
      "cell_type": "markdown",
      "metadata": {
        "id": "Ddt6ea3Jxmai"
      },
      "source": [
        "## Atribuindo os Pesos para esses Ativos"
      ]
    },
    {
      "cell_type": "code",
      "metadata": {
        "id": "TaagHv4Jf7mN",
        "cellView": "form",
        "colab": {
          "base_uri": "https://localhost:8080/"
        },
        "outputId": "09340a65-b409-44e6-9872-b415a1d806d7"
      },
      "source": [
        "#@title\n",
        "lista = [carteira]\n",
        "\n",
        "pesos = []\n",
        "\n",
        "try:\n",
        "  for loc, ativo in enumerate(carteira):\n",
        "    pesos.append(float(input(f'Escreva o peso do ativo {carteira[loc]} (somente o número) - '))/100)\n",
        "except:\n",
        "  print('')\n",
        "  print('\\033[31mO valor digitado resultou em um erro.\\033[m')\n",
        "  print('Favor executar esta célula novamente!')\n",
        "\n",
        "# pode ser que não precise dessa parte do código\n",
        "else:\n",
        "  if sum(pesos) != 1:\n",
        "    print('')\n",
        "    print(f'\\033[31mA soma dos pesos resultou em {sum(pesos)*100}%, a soma deve ser 100%!\\033[31m')\n",
        "    print('Favor executar esta célula novamente!')"
      ],
      "execution_count": 8,
      "outputs": [
        {
          "output_type": "stream",
          "text": [
            "Escreva o peso do ativo PETR4.SA (somente o número) - 15\n",
            "Escreva o peso do ativo TAEE11.SA (somente o número) - 30\n",
            "Escreva o peso do ativo BEES3.SA (somente o número) - 55\n"
          ],
          "name": "stdout"
        }
      ]
    },
    {
      "cell_type": "markdown",
      "metadata": {
        "id": "eA8KJBTF1F9S"
      },
      "source": [
        "## Importação da base de dados com as cotações diárias do Yahoo Finance"
      ]
    },
    {
      "cell_type": "code",
      "metadata": {
        "id": "2SxEUbXZ1NJh",
        "colab": {
          "base_uri": "https://localhost:8080/"
        },
        "outputId": "6bfe9cc9-f567-4c80-ef83-fdf2240a3860"
      },
      "source": [
        "#@title\n",
        "inicio = input('A partir de qual data? Colocar em formato americano. Ex: \"ano\"-\"mês\"-\"dia\" -->> ')\n",
        "\n",
        "BaseDados = pd.DataFrame()\n",
        "\n",
        "for acao in carteira:\n",
        "  BaseDados[acao] = data.DataReader(acao, data_source = 'yahoo',start = inicio)['Adj Close']\n",
        "\n",
        "print('')\n",
        "print('Importação dos dados realizada com sucesso!')"
      ],
      "execution_count": 9,
      "outputs": [
        {
          "output_type": "stream",
          "text": [
            "A partir de qual data? Colocar em formato americano. Ex: \"ano\"-\"mês\"-\"dia\" -->> 2020-12-01\n",
            "\n",
            "Importação dos dados realizada com sucesso!\n"
          ],
          "name": "stdout"
        }
      ]
    },
    {
      "cell_type": "markdown",
      "metadata": {
        "id": "SLdDym7UoM4n"
      },
      "source": [
        "##### Resultado da tabela que foi gerada de forma parcial"
      ]
    },
    {
      "cell_type": "code",
      "metadata": {
        "id": "dFvyWIEg2lSb",
        "cellView": "form",
        "colab": {
          "base_uri": "https://localhost:8080/",
          "height": 225
        },
        "outputId": "a5fe9b9a-f60c-451b-d6a9-6dde1daaa276"
      },
      "source": [
        "#@title\n",
        "# Resultado da tabela que foi gerada parcialmente\n",
        "BaseDados.head()"
      ],
      "execution_count": 10,
      "outputs": [
        {
          "output_type": "execute_result",
          "data": {
            "text/html": [
              "<div>\n",
              "<style scoped>\n",
              "    .dataframe tbody tr th:only-of-type {\n",
              "        vertical-align: middle;\n",
              "    }\n",
              "\n",
              "    .dataframe tbody tr th {\n",
              "        vertical-align: top;\n",
              "    }\n",
              "\n",
              "    .dataframe thead th {\n",
              "        text-align: right;\n",
              "    }\n",
              "</style>\n",
              "<table border=\"1\" class=\"dataframe\">\n",
              "  <thead>\n",
              "    <tr style=\"text-align: right;\">\n",
              "      <th></th>\n",
              "      <th>PETR4.SA</th>\n",
              "      <th>TAEE11.SA</th>\n",
              "      <th>BEES3.SA</th>\n",
              "    </tr>\n",
              "    <tr>\n",
              "      <th>Date</th>\n",
              "      <th></th>\n",
              "      <th></th>\n",
              "      <th></th>\n",
              "    </tr>\n",
              "  </thead>\n",
              "  <tbody>\n",
              "    <tr>\n",
              "      <th>2020-12-01</th>\n",
              "      <td>25.600000</td>\n",
              "      <td>32.935101</td>\n",
              "      <td>5.10</td>\n",
              "    </tr>\n",
              "    <tr>\n",
              "      <th>2020-12-02</th>\n",
              "      <td>25.910000</td>\n",
              "      <td>32.586739</td>\n",
              "      <td>5.06</td>\n",
              "    </tr>\n",
              "    <tr>\n",
              "      <th>2020-12-03</th>\n",
              "      <td>26.639999</td>\n",
              "      <td>33.124210</td>\n",
              "      <td>5.09</td>\n",
              "    </tr>\n",
              "    <tr>\n",
              "      <th>2020-12-04</th>\n",
              "      <td>27.410000</td>\n",
              "      <td>32.606644</td>\n",
              "      <td>5.15</td>\n",
              "    </tr>\n",
              "    <tr>\n",
              "      <th>2020-12-07</th>\n",
              "      <td>27.000000</td>\n",
              "      <td>33.472572</td>\n",
              "      <td>5.18</td>\n",
              "    </tr>\n",
              "  </tbody>\n",
              "</table>\n",
              "</div>"
            ],
            "text/plain": [
              "             PETR4.SA  TAEE11.SA  BEES3.SA\n",
              "Date                                      \n",
              "2020-12-01  25.600000  32.935101      5.10\n",
              "2020-12-02  25.910000  32.586739      5.06\n",
              "2020-12-03  26.639999  33.124210      5.09\n",
              "2020-12-04  27.410000  32.606644      5.15\n",
              "2020-12-07  27.000000  33.472572      5.18"
            ]
          },
          "metadata": {
            "tags": []
          },
          "execution_count": 10
        }
      ]
    },
    {
      "cell_type": "markdown",
      "metadata": {
        "id": "7I9Hqw7K438k"
      },
      "source": [
        "## Inclusão da coluna com o retorno diário da carteira "
      ]
    },
    {
      "cell_type": "code",
      "metadata": {
        "cellView": "form",
        "id": "un79H8hIHfOI"
      },
      "source": [
        "#@title\n",
        "# Retorno acumulado de cada ação\n",
        "\n",
        "retorno_acumulado = ((BaseDados/BaseDados.iloc[0])-1)*100"
      ],
      "execution_count": 11,
      "outputs": []
    },
    {
      "cell_type": "markdown",
      "metadata": {
        "id": "HD0YUsmPo0YX"
      },
      "source": [
        "##### Tabela gerada com os resultados consolidados"
      ]
    },
    {
      "cell_type": "code",
      "metadata": {
        "id": "-fJbeJil58DP",
        "cellView": "form",
        "colab": {
          "base_uri": "https://localhost:8080/",
          "height": 225
        },
        "outputId": "144b3ed3-dd90-4f6c-f5be-d68baff986ae"
      },
      "source": [
        "#@title\n",
        "w = np.array(pesos)\n",
        "\n",
        "ValorTotal = (retorno_acumulado * w)\n",
        "ValorTotal['Retorno'] = ValorTotal.sum(axis=1)\n",
        "ValorTotal.tail()"
      ],
      "execution_count": 12,
      "outputs": [
        {
          "output_type": "execute_result",
          "data": {
            "text/html": [
              "<div>\n",
              "<style scoped>\n",
              "    .dataframe tbody tr th:only-of-type {\n",
              "        vertical-align: middle;\n",
              "    }\n",
              "\n",
              "    .dataframe tbody tr th {\n",
              "        vertical-align: top;\n",
              "    }\n",
              "\n",
              "    .dataframe thead th {\n",
              "        text-align: right;\n",
              "    }\n",
              "</style>\n",
              "<table border=\"1\" class=\"dataframe\">\n",
              "  <thead>\n",
              "    <tr style=\"text-align: right;\">\n",
              "      <th></th>\n",
              "      <th>PETR4.SA</th>\n",
              "      <th>TAEE11.SA</th>\n",
              "      <th>BEES3.SA</th>\n",
              "      <th>Retorno</th>\n",
              "    </tr>\n",
              "    <tr>\n",
              "      <th>Date</th>\n",
              "      <th></th>\n",
              "      <th></th>\n",
              "      <th></th>\n",
              "      <th></th>\n",
              "    </tr>\n",
              "  </thead>\n",
              "  <tbody>\n",
              "    <tr>\n",
              "      <th>2020-12-22</th>\n",
              "      <td>0.984375</td>\n",
              "      <td>0.022680</td>\n",
              "      <td>1.186276</td>\n",
              "      <td>2.193331</td>\n",
              "    </tr>\n",
              "    <tr>\n",
              "      <th>2020-12-23</th>\n",
              "      <td>1.376953</td>\n",
              "      <td>0.013572</td>\n",
              "      <td>1.401962</td>\n",
              "      <td>2.792488</td>\n",
              "    </tr>\n",
              "    <tr>\n",
              "      <th>2020-12-28</th>\n",
              "      <td>1.511719</td>\n",
              "      <td>0.632973</td>\n",
              "      <td>1.725494</td>\n",
              "      <td>3.870185</td>\n",
              "    </tr>\n",
              "    <tr>\n",
              "      <th>2020-12-29</th>\n",
              "      <td>1.564453</td>\n",
              "      <td>0.578318</td>\n",
              "      <td>4.313727</td>\n",
              "      <td>6.456498</td>\n",
              "    </tr>\n",
              "    <tr>\n",
              "      <th>2020-12-30</th>\n",
              "      <td>1.605469</td>\n",
              "      <td>0.423470</td>\n",
              "      <td>3.774509</td>\n",
              "      <td>5.803448</td>\n",
              "    </tr>\n",
              "  </tbody>\n",
              "</table>\n",
              "</div>"
            ],
            "text/plain": [
              "            PETR4.SA  TAEE11.SA  BEES3.SA   Retorno\n",
              "Date                                               \n",
              "2020-12-22  0.984375   0.022680  1.186276  2.193331\n",
              "2020-12-23  1.376953   0.013572  1.401962  2.792488\n",
              "2020-12-28  1.511719   0.632973  1.725494  3.870185\n",
              "2020-12-29  1.564453   0.578318  4.313727  6.456498\n",
              "2020-12-30  1.605469   0.423470  3.774509  5.803448"
            ]
          },
          "metadata": {
            "tags": []
          },
          "execution_count": 12
        }
      ]
    },
    {
      "cell_type": "markdown",
      "metadata": {
        "id": "5ZMtUWaY5Oza"
      },
      "source": [
        "## Escolha dos Benchmarks"
      ]
    },
    {
      "cell_type": "code",
      "metadata": {
        "cellView": "form",
        "id": "e_erilkVLaYy",
        "colab": {
          "base_uri": "https://localhost:8080/"
        },
        "outputId": "362c3e67-0213-473d-901c-c3cf59202656"
      },
      "source": [
        "#@title\n",
        "print('Usar a nomenclatura utilizada no Yahoo Finance. Ex: Para o Ibovespa, ^BVSP; para os fundos imobiliários, IFIX.SA e para o S&P 500 é ^GSPC')\n",
        "print('')\n",
        "\n",
        "benchmarks = []\n",
        "\n",
        "q = 's'\n",
        "\n",
        "q = input('Deseja incluir algum benchmark? Se sim, digite \"s\", caso contrário tecle \"Enter\" - ')\n",
        "if q == 's':\n",
        "\n",
        "  # inclusão dos benchmarks\n",
        "  escolha = 1\n",
        "\n",
        "  benchmarks.append(input('Digite o código do benchmark. - '))\n",
        "  escolha = int(input('Deseja adicionar outro? [1] Sim / [2] Não - '))\n",
        "\n",
        "  while True:\n",
        "    if escolha == 1:\n",
        "      benchmarks.append(input('Digite o nome do benchmark. - '))\n",
        "      escolha = int(input('Deseja adicionar outro? [1] Sim / [2] Não - '))\n",
        "    elif opcao != 1 and opcao != 2:\n",
        "      opcao = int(input('Escolha entre [1] Sim / [2] Não - '))\n",
        "    else:\n",
        "      break\n",
        "\n",
        "  print('')\n",
        "  print(f'Os seguintes benchmarks foram incluídos : {benchmarks}')"
      ],
      "execution_count": 15,
      "outputs": [
        {
          "output_type": "stream",
          "text": [
            "Usar a nomenclatura utilizada no Yahoo Finance. Ex: Para o Ibovespa, ^BVSP; para os fundos imobiliários, IFIX.SA e para o S&P 500 é ^GSPC\n",
            "\n",
            "Deseja incluir algum benchmark? Se sim, digite \"s\", caso contrário tecle \"Enter\" - s\n",
            "Digite o código do benchmark. - ^BVSP\n",
            "Deseja adicionar outro? [1] Sim / [2] Não - 2\n",
            "\n",
            "Os seguintes benchmarks foram incluídos : ['^BVSP']\n"
          ],
          "name": "stdout"
        }
      ]
    },
    {
      "cell_type": "markdown",
      "metadata": {
        "id": "qw6zFYstpH5X"
      },
      "source": [
        "##### Importação dos dados dos benchmarks que foram escolhidos"
      ]
    },
    {
      "cell_type": "code",
      "metadata": {
        "cellView": "form",
        "id": "CoD2nA5VcmZN",
        "colab": {
          "base_uri": "https://localhost:8080/"
        },
        "outputId": "6f43269c-fd89-49e7-82bc-5cabe96a518d"
      },
      "source": [
        "#@title\n",
        "#Os dados referentes aos benchmarks escolhidos serão importados para posterior análise\n",
        "\n",
        "BaseDados2 = pd.DataFrame()\n",
        "\n",
        "for indice in benchmarks:\n",
        "  BaseDados2[indice] = data.DataReader(indice, data_source = 'yahoo',start = inicio)['Adj Close']\n",
        "\n",
        "bmk_var_acum = ((BaseDados2/BaseDados2.iloc[0])-1)*100\n",
        "\n",
        "print('Importação dos dados realizada com sucesso!')"
      ],
      "execution_count": 16,
      "outputs": [
        {
          "output_type": "stream",
          "text": [
            "Importação dos dados realizada com sucesso!\n"
          ],
          "name": "stdout"
        }
      ]
    },
    {
      "cell_type": "markdown",
      "metadata": {
        "id": "imaeqiAJpfVd"
      },
      "source": [
        "### Criação da Tabela Carteira X Benchmarks"
      ]
    },
    {
      "cell_type": "code",
      "metadata": {
        "cellView": "form",
        "id": "RmqfkLvYkNMI"
      },
      "source": [
        "#@title\n",
        "# Criação da tabela com o retorno acumulado da carteira e dos benchmarks selecionados\n",
        "\n",
        "tabela_final = pd.DataFrame()\n",
        "\n",
        "tabela_final['Sua Carteira'] = ValorTotal['Retorno']\n",
        "\n",
        "for i in benchmarks:\n",
        "  tabela_final[i] = bmk_var_acum[i]"
      ],
      "execution_count": 17,
      "outputs": []
    },
    {
      "cell_type": "markdown",
      "metadata": {
        "id": "sQu0n0_yp6fW"
      },
      "source": [
        "##### Resultado da tabela criada"
      ]
    },
    {
      "cell_type": "code",
      "metadata": {
        "id": "BNvXbO7_s6Sb",
        "colab": {
          "base_uri": "https://localhost:8080/",
          "height": 225
        },
        "outputId": "191cf498-fa23-4b17-a423-297396405364"
      },
      "source": [
        "#@title\n",
        "tabela_final.head()"
      ],
      "execution_count": 18,
      "outputs": [
        {
          "output_type": "execute_result",
          "data": {
            "text/html": [
              "<div>\n",
              "<style scoped>\n",
              "    .dataframe tbody tr th:only-of-type {\n",
              "        vertical-align: middle;\n",
              "    }\n",
              "\n",
              "    .dataframe tbody tr th {\n",
              "        vertical-align: top;\n",
              "    }\n",
              "\n",
              "    .dataframe thead th {\n",
              "        text-align: right;\n",
              "    }\n",
              "</style>\n",
              "<table border=\"1\" class=\"dataframe\">\n",
              "  <thead>\n",
              "    <tr style=\"text-align: right;\">\n",
              "      <th></th>\n",
              "      <th>Sua Carteira</th>\n",
              "      <th>^BVSP</th>\n",
              "    </tr>\n",
              "    <tr>\n",
              "      <th>Date</th>\n",
              "      <th></th>\n",
              "      <th></th>\n",
              "    </tr>\n",
              "  </thead>\n",
              "  <tbody>\n",
              "    <tr>\n",
              "      <th>2020-12-01</th>\n",
              "      <td>0.000000</td>\n",
              "      <td>0.000000</td>\n",
              "    </tr>\n",
              "    <tr>\n",
              "      <th>2020-12-02</th>\n",
              "      <td>-0.567049</td>\n",
              "      <td>0.430233</td>\n",
              "    </tr>\n",
              "    <tr>\n",
              "      <th>2020-12-03</th>\n",
              "      <td>0.673791</td>\n",
              "      <td>1.422733</td>\n",
              "    </tr>\n",
              "    <tr>\n",
              "      <th>2020-12-04</th>\n",
              "      <td>1.300579</td>\n",
              "      <td>2.108052</td>\n",
              "    </tr>\n",
              "    <tr>\n",
              "      <th>2020-12-07</th>\n",
              "      <td>2.172630</td>\n",
              "      <td>2.056855</td>\n",
              "    </tr>\n",
              "  </tbody>\n",
              "</table>\n",
              "</div>"
            ],
            "text/plain": [
              "            Sua Carteira     ^BVSP\n",
              "Date                              \n",
              "2020-12-01      0.000000  0.000000\n",
              "2020-12-02     -0.567049  0.430233\n",
              "2020-12-03      0.673791  1.422733\n",
              "2020-12-04      1.300579  2.108052\n",
              "2020-12-07      2.172630  2.056855"
            ]
          },
          "metadata": {
            "tags": []
          },
          "execution_count": 18
        }
      ]
    },
    {
      "cell_type": "markdown",
      "metadata": {
        "id": "-whGDrNx5UCC"
      },
      "source": [
        "## Visualizações e Análises dos Dados Importados e Normalizados"
      ]
    },
    {
      "cell_type": "markdown",
      "metadata": {
        "id": "9AI6VTNaqlPc"
      },
      "source": [
        "##### Visualização dos ativos que compõem a carteira"
      ]
    },
    {
      "cell_type": "code",
      "metadata": {
        "id": "mJ7M5m07vR7f",
        "colab": {
          "base_uri": "https://localhost:8080/",
          "height": 504
        },
        "cellView": "form",
        "outputId": "418debeb-4e86-439d-916a-ed547dc4f6b8"
      },
      "source": [
        "#@title\n",
        "# Visualização da Representatividade na carteira\n",
        "listafinal = []\n",
        "\n",
        "for numero in pesos:\n",
        "  listafinal.append(numero * 200)\n",
        "\n",
        "listafinal\n",
        "\n",
        "x_list = listafinal\n",
        "labels_list = carteira\n",
        "plt.figure(figsize=(8,8))\n",
        "plt.axis('equal')\n",
        "plt.pie(x_list,autopct='%1.1f%%',labels=labels_list)\n",
        "plt.title('Composição da Carteira',size=20)\n",
        "print('')"
      ],
      "execution_count": 19,
      "outputs": [
        {
          "output_type": "stream",
          "text": [
            "\n"
          ],
          "name": "stdout"
        },
        {
          "output_type": "display_data",
          "data": {
            "image/png": "[encoded data removed]",
            "text/plain": [
              "<Figure size 576x576 with 1 Axes>"
            ]
          },
          "metadata": {
            "tags": []
          }
        }
      ]
    },
    {
      "cell_type": "markdown",
      "metadata": {
        "id": "I8uA6QOyqfAR"
      },
      "source": [
        "##### Visualização das variações da carteira e benchmarks acumulados"
      ]
    },
    {
      "cell_type": "code",
      "metadata": {
        "id": "70hVfRKOeROl",
        "colab": {
          "base_uri": "https://localhost:8080/",
          "height": 505
        },
        "cellView": "form",
        "outputId": "d506a3c9-1a65-4d64-d4d2-9df65fcafb0e"
      },
      "source": [
        "#@title\n",
        "# Visualização das variações da carteira e benchmarks acumulados\n",
        "cores = ['c','#368B8B','#276666','#276666','#0FA7A7']\n",
        "\n",
        "tabela_final['Sua Carteira'].plot(color='b',LineWidth=5,figsize=(22,8))\n",
        "for loc,j in enumerate(benchmarks):\n",
        "  tabela_final[j].plot(color=cores[loc])\n",
        "plt.legend()\n",
        "plt.title ('Retorno Acumulado da Carteira de Investimentos',size=20)\n",
        "plt.xlabel('')\n",
        "plt.ylabel('Variação Percentual (%)')\n",
        "print('')"
      ],
      "execution_count": 20,
      "outputs": [
        {
          "output_type": "stream",
          "text": [
            "\n"
          ],
          "name": "stdout"
        },
        {
          "output_type": "display_data",
          "data": {
            "image/png": "[encoded data removed]",
            "text/plain": [
              "<Figure size 1584x576 with 1 Axes>"
            ]
          },
          "metadata": {
            "tags": [],
            "needs_background": "light"
          }
        }
      ]
    },
    {
      "cell_type": "markdown",
      "metadata": {
        "id": "p8IwXcu6q7ty"
      },
      "source": [
        "##### Lista de Resultados da carteira analisada"
      ]
    },
    {
      "cell_type": "code",
      "metadata": {
        "cellView": "form",
        "id": "HlrIKmvvRIi5",
        "colab": {
          "base_uri": "https://localhost:8080/"
        },
        "outputId": "4f72729e-9fa8-452e-bde4-28daa7b5b652"
      },
      "source": [
        "#@title\n",
        "BaseDados['Soma'] = BaseDados.sum(axis=1)\n",
        "\n",
        "ret_cart = BaseDados['Soma'].pct_change().mean()*100\n",
        "risco_cart = BaseDados['Soma'].pct_change().std()*100\n",
        "linhas = BaseDados['Soma'].pct_change().count()\n",
        "ret_acum_cart = tabela_final['Sua Carteira'].iloc[linhas]\n",
        "\n",
        "print(f'Variação diária média da carteira: {round(ret_cart,2)}% a.p.')\n",
        "print(f'Retorno acumulado da carteira: {round(ret_acum_cart,2)}% a.p.')\n",
        "print(f'Risco da carteira: {round(risco_cart,2)}% a.p')\n",
        "if q == 's':\n",
        "  if '^BVSP' in tabela_final:\n",
        "    ret_acum_ibov = tabela_final['^BVSP'].iloc[linhas]\n",
        "    dci = round(((ret_acum_cart/ret_acum_ibov)-1)*100,2)\n",
        "    print(f'Desempenho em relação ao Ibovespa: {dci}%.')\n",
        "  else:\n",
        "    print('')"
      ],
      "execution_count": 21,
      "outputs": [
        {
          "output_type": "stream",
          "text": [
            "Variação diária média da carteira: 0.29% a.p.\n",
            "Retorno acumulado da carteira: 5.8% a.p.\n",
            "Risco da carteira: 0.89% a.p\n",
            "Desempenho em relação ao Ibovespa: -18.94%.\n"
          ],
          "name": "stdout"
        }
      ]
    }
  ]
}