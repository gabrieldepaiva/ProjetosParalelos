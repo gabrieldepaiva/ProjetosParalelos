{
  "nbformat": 4,
  "nbformat_minor": 0,
  "metadata": {
    "colab": {
      "name": "Analise-Carteira_de_Acoes_Pessoal.ipynb",
      "provenance": [],
      "collapsed_sections": [],
      "authorship_tag": "ABX9TyNsC4sUDqpfeVRhtn1ox2H6",
      "include_colab_link": true
    },
    "kernelspec": {
      "name": "python3",
      "display_name": "Python 3"
    }
  },
  "cells": [
    {
      "cell_type": "markdown",
      "metadata": {
        "id": "view-in-github",
        "colab_type": "text"
      },
      "source": [
        "<a href=\"https://colab.research.google.com/github/gabrieldepaiva/ProjetosParalelos/blob/main/Analise_Carteira_de_Acoes_Pessoal.ipynb\" target=\"_parent\"><img src=\"https://colab.research.google.com/assets/colab-badge.svg\" alt=\"Open In Colab\"/></a>"
      ]
    },
    {
      "cell_type": "markdown",
      "metadata": {
        "id": "U2oTOoz5wUK9"
      },
      "source": [
        "## Importação das Bibliotecas Necessárias"
      ]
    },
    {
      "cell_type": "code",
      "metadata": {
        "id": "prcH2AeyiJGm"
      },
      "source": [
        "import pandas as pd\r\n",
        "from pandas_datareader import data\r\n",
        "import numpy as np"
      ],
      "execution_count": 58,
      "outputs": []
    },
    {
      "cell_type": "markdown",
      "metadata": {
        "id": "iNztm5baxev3"
      },
      "source": [
        "## Escolha dos ativos que compõem a carteira"
      ]
    },
    {
      "cell_type": "code",
      "metadata": {
        "id": "mNpK3IUqrhn8"
      },
      "source": [
        "# Usar a nomenclatura utilizada no Yahoo Finance:\r\n",
        "\r\n",
        "# Código Base para incluir os ativos na carteira\r\n",
        "'''opcao = 1\r\n",
        "lista2 = []\r\n",
        "while opcao == 1:\r\n",
        "  lista2.append(input('algo - '))\r\n",
        "  opcao = int(input('deseja continuar?'))'''\r\n",
        "\r\n",
        "carteira = ['TAEE11.SA','BEES3.SA','ITSA4.SA','BBAS3.SA']"
      ],
      "execution_count": 72,
      "outputs": []
    },
    {
      "cell_type": "markdown",
      "metadata": {
        "id": "Ddt6ea3Jxmai"
      },
      "source": [
        "## Atribuição dos Pesos para esses Ativos"
      ]
    },
    {
      "cell_type": "code",
      "metadata": {
        "id": "TaagHv4Jf7mN"
      },
      "source": [
        "lista = [carteira]\r\n",
        "\r\n",
        "pesos = []\r\n",
        "\r\n",
        "try:\r\n",
        "  for loc, ativo in enumerate(carteira):\r\n",
        "    pesos.append(float(input(f'Escreva o número de ações que possui da {carteira[loc]} (somente o número) - '))/100)\r\n",
        "except:\r\n",
        "  print('')\r\n",
        "  print('\\033[31mO valor digitado resultou em um erro.\\033[m')\r\n",
        "  print('Favor executar esta célula novamente!')\r\n",
        "\r\n",
        "\r\n",
        "# pode ser que não precise dessa parte do código\r\n",
        "'''else:\r\n",
        "  if sum(pesos) != 1:\r\n",
        "    print('')\r\n",
        "    print(f'\\033[31mA soma dos pesos resultou em {sum(pesos)*100}%, a soma deve ser 100%!\\033[31m')\r\n",
        "    print('Favor executar esta célula novamente!')'''"
      ],
      "execution_count": null,
      "outputs": []
    },
    {
      "cell_type": "code",
      "metadata": {
        "id": "JsOSmjZ5vOXT"
      },
      "source": [
        "w = np.array(pesos)\r\n",
        "w"
      ],
      "execution_count": null,
      "outputs": []
    },
    {
      "cell_type": "markdown",
      "metadata": {
        "id": "eA8KJBTF1F9S"
      },
      "source": [
        "## Importação da base de dados com as cotações diárias do Yahoo Finance"
      ]
    },
    {
      "cell_type": "code",
      "metadata": {
        "id": "2SxEUbXZ1NJh"
      },
      "source": [
        "inicio = input('A partir de qual data? Colocar em formato americano. Ex: 2020-1-1 -->> ')\r\n",
        "\r\n",
        "BaseDados = pd.DataFrame()\r\n",
        "\r\n",
        "for acao in carteira:\r\n",
        "  BaseDados[acao] = data.DataReader(acao, data_source = 'yahoo', start = inicio)['Adj Close']\r\n",
        "\r\n",
        "print('')\r\n",
        "print('Exportação dos dados realizada com sucesso!')"
      ],
      "execution_count": null,
      "outputs": []
    },
    {
      "cell_type": "code",
      "metadata": {
        "id": "dFvyWIEg2lSb"
      },
      "source": [
        "# Resultado da tabela que foi gerada parcialmente\r\n",
        "BaseDados.head()"
      ],
      "execution_count": null,
      "outputs": []
    },
    {
      "cell_type": "markdown",
      "metadata": {
        "id": "7I9Hqw7K438k"
      },
      "source": [
        "## Inclusão da coluna com o retorno diário da carteira "
      ]
    },
    {
      "cell_type": "code",
      "metadata": {
        "id": "-fJbeJil58DP"
      },
      "source": [
        "ValorTotal = (BaseDados * w)\r\n",
        "ValorTotal['SomaValor'] = ValorTotal.sum(axis=1)\r\n",
        "ValorTotal.head()"
      ],
      "execution_count": null,
      "outputs": []
    },
    {
      "cell_type": "markdown",
      "metadata": {
        "id": "5ZMtUWaY5Oza"
      },
      "source": [
        "## Inclusão dos dados do Benchmark - Ibovespa"
      ]
    },
    {
      "cell_type": "markdown",
      "metadata": {
        "id": "-whGDrNx5UCC"
      },
      "source": [
        "## Finalização da Base de Dados - Variações já Normalizadas"
      ]
    }
  ]
}