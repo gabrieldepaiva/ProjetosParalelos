{
  "nbformat": 4,
  "nbformat_minor": 0,
  "metadata": {
    "colab": {
      "name": "Analise-Carteira_de_Acoes_Pessoal.ipynb",
      "provenance": [],
      "collapsed_sections": [],
      "authorship_tag": "ABX9TyPoV6gR8zUjj0oU/GTv9CoT",
      "include_colab_link": true
    },
    "kernelspec": {
      "name": "python3",
      "display_name": "Python 3"
    }
  },
  "cells": [
    {
      "cell_type": "markdown",
      "metadata": {
        "id": "view-in-github",
        "colab_type": "text"
      },
      "source": [
        "<a href=\"https://colab.research.google.com/github/gabrieldepaiva/ProjetosParalelos/blob/main/Analise_Carteira_de_Acoes_Pessoal.ipynb\" target=\"_parent\"><img src=\"https://colab.research.google.com/assets/colab-badge.svg\" alt=\"Open In Colab\"/></a>"
      ]
    },
    {
      "cell_type": "markdown",
      "metadata": {
        "id": "U2oTOoz5wUK9"
      },
      "source": [
        "## Importação das Bibliotecas Necessárias"
      ]
    },
    {
      "cell_type": "code",
      "metadata": {
        "id": "prcH2AeyiJGm"
      },
      "source": [
        "import pandas as pd\r\n",
        "from pandas_datareader import data\r\n",
        "import numpy as np\r\n",
        "import matplotlib.pyplot as plt"
      ],
      "execution_count": 1,
      "outputs": []
    },
    {
      "cell_type": "markdown",
      "metadata": {
        "id": "iNztm5baxev3"
      },
      "source": [
        "## Escolha dos ativos que compõem a carteira"
      ]
    },
    {
      "cell_type": "code",
      "metadata": {
        "id": "mNpK3IUqrhn8",
        "colab": {
          "base_uri": "https://localhost:8080/"
        },
        "outputId": "6bfa4a25-0313-4a37-f3dd-34c5f2dfe7c5"
      },
      "source": [
        "print('Usar a nomenclatura utilizada no Yahoo Finance. Ex: PETR4.SA:')\r\n",
        "print('')\r\n",
        "# Código Base para incluir os ativos na carteira\r\n",
        "opcao = 1\r\n",
        "carteira = []\r\n",
        "\r\n",
        "carteira.append(input('Digite o nome do ativo. - '))\r\n",
        "opcao = int(input('Deseja digitar outro ativo? [1] Sim / [2] Não - '))\r\n",
        "\r\n",
        "while True:\r\n",
        "  if opcao == 1:\r\n",
        "    carteira.append(input('Digite o nome do ativo. - '))\r\n",
        "    opcao = int(input('Deseja digitar outro ativo? [1] Sim / [2] Não - '))\r\n",
        "  elif opcao != 1 and opcao != 2:\r\n",
        "    opcao = int(input('Escolha entre [1] Sim / [2] Não - '))\r\n",
        "  else:\r\n",
        "    break\r\n",
        "\r\n",
        "print('')\r\n",
        "print(f'Sua carteira é composta pelos seguintes ativos: {carteira}')"
      ],
      "execution_count": 2,
      "outputs": [
        {
          "output_type": "stream",
          "text": [
            "Usar a nomenclatura utilizada no Yahoo Finance. Ex: PETR4.SA:\n",
            "\n",
            "Digite o nome do ativo. - TAEE11.SA\n",
            "Deseja digitar outro ativo? [1] Sim / [2] Não - 1\n",
            "Digite o nome do ativo. - BEES3.SA\n",
            "Deseja digitar outro ativo? [1] Sim / [2] Não - 2\n",
            "\n",
            "Sua carteira é composta pelos seguintes ativos: ['TAEE11.SA', 'BEES3.SA']\n"
          ],
          "name": "stdout"
        }
      ]
    },
    {
      "cell_type": "markdown",
      "metadata": {
        "id": "Ddt6ea3Jxmai"
      },
      "source": [
        "## Atribuição dos Pesos para esses Ativos"
      ]
    },
    {
      "cell_type": "code",
      "metadata": {
        "id": "TaagHv4Jf7mN",
        "colab": {
          "base_uri": "https://localhost:8080/"
        },
        "outputId": "92a960ef-6529-418c-b7d8-1db99ed0edc5"
      },
      "source": [
        "lista = [carteira]\r\n",
        "\r\n",
        "pesos = []\r\n",
        "\r\n",
        "try:\r\n",
        "  for loc, ativo in enumerate(carteira):\r\n",
        "    pesos.append(float(input(f'Escreva o peso do ativo {carteira[loc]} (somente o número) - '))/100)\r\n",
        "except:\r\n",
        "  print('')\r\n",
        "  print('\\033[31mO valor digitado resultou em um erro.\\033[m')\r\n",
        "  print('Favor executar esta célula novamente!')\r\n",
        "\r\n",
        "# pode ser que não precise dessa parte do código\r\n",
        "else:\r\n",
        "  if sum(pesos) != 1:\r\n",
        "    print('')\r\n",
        "    print(f'\\033[31mA soma dos pesos resultou em {sum(pesos)*100}%, a soma deve ser 100%!\\033[31m')\r\n",
        "    print('Favor executar esta célula novamente!')"
      ],
      "execution_count": 3,
      "outputs": [
        {
          "output_type": "stream",
          "text": [
            "Escreva o peso do ativo TAEE11.SA (somente o número) - 75\n",
            "Escreva o peso do ativo BEES3.SA (somente o número) - 25\n"
          ],
          "name": "stdout"
        }
      ]
    },
    {
      "cell_type": "markdown",
      "metadata": {
        "id": "eA8KJBTF1F9S"
      },
      "source": [
        "## Importação da base de dados com as cotações diárias do Yahoo Finance"
      ]
    },
    {
      "cell_type": "code",
      "metadata": {
        "id": "2SxEUbXZ1NJh",
        "colab": {
          "base_uri": "https://localhost:8080/"
        },
        "outputId": "cb1c5d68-0310-40a8-c555-567c654dec27"
      },
      "source": [
        "inicio = input('A partir de qual data? Colocar em formato americano. Ex: \"ano\"-\"mês\"-\"dia\" -->> ')\r\n",
        "\r\n",
        "BaseDados = pd.DataFrame()\r\n",
        "\r\n",
        "for acao in carteira:\r\n",
        "  BaseDados[acao] = data.DataReader(acao, data_source = 'yahoo',start = inicio)['Adj Close']\r\n",
        "\r\n",
        "print('')\r\n",
        "print('Importação dos dados realizada com sucesso!')"
      ],
      "execution_count": 4,
      "outputs": [
        {
          "output_type": "stream",
          "text": [
            "A partir de qual data? Colocar em formato americano. Ex: \"ano\"-\"mês\"-\"dia\" -->> 2020-6-1\n",
            "\n",
            "Importação dos dados realizada com sucesso!\n"
          ],
          "name": "stdout"
        }
      ]
    },
    {
      "cell_type": "code",
      "metadata": {
        "id": "dFvyWIEg2lSb",
        "colab": {
          "base_uri": "https://localhost:8080/",
          "height": 225
        },
        "outputId": "c5fda594-c4e4-47e4-b441-824b856aba60"
      },
      "source": [
        "# Resultado da tabela que foi gerada parcialmente\r\n",
        "BaseDados.head()"
      ],
      "execution_count": 5,
      "outputs": [
        {
          "output_type": "execute_result",
          "data": {
            "text/html": [
              "<div>\n",
              "<style scoped>\n",
              "    .dataframe tbody tr th:only-of-type {\n",
              "        vertical-align: middle;\n",
              "    }\n",
              "\n",
              "    .dataframe tbody tr th {\n",
              "        vertical-align: top;\n",
              "    }\n",
              "\n",
              "    .dataframe thead th {\n",
              "        text-align: right;\n",
              "    }\n",
              "</style>\n",
              "<table border=\"1\" class=\"dataframe\">\n",
              "  <thead>\n",
              "    <tr style=\"text-align: right;\">\n",
              "      <th></th>\n",
              "      <th>TAEE11.SA</th>\n",
              "      <th>BEES3.SA</th>\n",
              "    </tr>\n",
              "    <tr>\n",
              "      <th>Date</th>\n",
              "      <th></th>\n",
              "      <th></th>\n",
              "    </tr>\n",
              "  </thead>\n",
              "  <tbody>\n",
              "    <tr>\n",
              "      <th>2020-06-01</th>\n",
              "      <td>26.889908</td>\n",
              "      <td>5.351401</td>\n",
              "    </tr>\n",
              "    <tr>\n",
              "      <th>2020-06-02</th>\n",
              "      <td>26.917755</td>\n",
              "      <td>5.548505</td>\n",
              "    </tr>\n",
              "    <tr>\n",
              "      <th>2020-06-03</th>\n",
              "      <td>26.648579</td>\n",
              "      <td>5.883584</td>\n",
              "    </tr>\n",
              "    <tr>\n",
              "      <th>2020-06-04</th>\n",
              "      <td>26.230888</td>\n",
              "      <td>5.844162</td>\n",
              "    </tr>\n",
              "    <tr>\n",
              "      <th>2020-06-05</th>\n",
              "      <td>26.852781</td>\n",
              "      <td>6.001847</td>\n",
              "    </tr>\n",
              "  </tbody>\n",
              "</table>\n",
              "</div>"
            ],
            "text/plain": [
              "            TAEE11.SA  BEES3.SA\n",
              "Date                           \n",
              "2020-06-01  26.889908  5.351401\n",
              "2020-06-02  26.917755  5.548505\n",
              "2020-06-03  26.648579  5.883584\n",
              "2020-06-04  26.230888  5.844162\n",
              "2020-06-05  26.852781  6.001847"
            ]
          },
          "metadata": {
            "tags": []
          },
          "execution_count": 5
        }
      ]
    },
    {
      "cell_type": "markdown",
      "metadata": {
        "id": "7I9Hqw7K438k"
      },
      "source": [
        "## Inclusão da coluna com o retorno diário da carteira "
      ]
    },
    {
      "cell_type": "code",
      "metadata": {
        "id": "un79H8hIHfOI"
      },
      "source": [
        "# Retorno acumulado de cada ação\r\n",
        "\r\n",
        "retorno_acumulado = ((BaseDados/BaseDados.iloc[0])-1)*100"
      ],
      "execution_count": 6,
      "outputs": []
    },
    {
      "cell_type": "code",
      "metadata": {
        "id": "-fJbeJil58DP",
        "colab": {
          "base_uri": "https://localhost:8080/",
          "height": 225
        },
        "outputId": "b6088baa-f676-46c1-c07e-58338a486c81"
      },
      "source": [
        "w = np.array(pesos)\r\n",
        "\r\n",
        "ValorTotal = (retorno_acumulado * w)\r\n",
        "ValorTotal['Retorno'] = ValorTotal.sum(axis=1)\r\n",
        "ValorTotal.tail()"
      ],
      "execution_count": 7,
      "outputs": [
        {
          "output_type": "execute_result",
          "data": {
            "text/html": [
              "<div>\n",
              "<style scoped>\n",
              "    .dataframe tbody tr th:only-of-type {\n",
              "        vertical-align: middle;\n",
              "    }\n",
              "\n",
              "    .dataframe tbody tr th {\n",
              "        vertical-align: top;\n",
              "    }\n",
              "\n",
              "    .dataframe thead th {\n",
              "        text-align: right;\n",
              "    }\n",
              "</style>\n",
              "<table border=\"1\" class=\"dataframe\">\n",
              "  <thead>\n",
              "    <tr style=\"text-align: right;\">\n",
              "      <th></th>\n",
              "      <th>TAEE11.SA</th>\n",
              "      <th>BEES3.SA</th>\n",
              "      <th>Retorno</th>\n",
              "    </tr>\n",
              "    <tr>\n",
              "      <th>Date</th>\n",
              "      <th></th>\n",
              "      <th></th>\n",
              "      <th></th>\n",
              "    </tr>\n",
              "  </thead>\n",
              "  <tbody>\n",
              "    <tr>\n",
              "      <th>2020-12-10</th>\n",
              "      <td>17.027518</td>\n",
              "      <td>-1.034312</td>\n",
              "      <td>15.993206</td>\n",
              "    </tr>\n",
              "    <tr>\n",
              "      <th>2020-12-11</th>\n",
              "      <td>19.081822</td>\n",
              "      <td>-0.754012</td>\n",
              "      <td>18.327810</td>\n",
              "    </tr>\n",
              "    <tr>\n",
              "      <th>2020-12-14</th>\n",
              "      <td>18.831979</td>\n",
              "      <td>-0.847445</td>\n",
              "      <td>17.984534</td>\n",
              "    </tr>\n",
              "    <tr>\n",
              "      <th>2020-12-15</th>\n",
              "      <td>18.332283</td>\n",
              "      <td>-0.847445</td>\n",
              "      <td>17.484838</td>\n",
              "    </tr>\n",
              "    <tr>\n",
              "      <th>2020-12-16</th>\n",
              "      <td>18.827021</td>\n",
              "      <td>-0.800730</td>\n",
              "      <td>18.026292</td>\n",
              "    </tr>\n",
              "  </tbody>\n",
              "</table>\n",
              "</div>"
            ],
            "text/plain": [
              "            TAEE11.SA  BEES3.SA    Retorno\n",
              "Date                                      \n",
              "2020-12-10  17.027518 -1.034312  15.993206\n",
              "2020-12-11  19.081822 -0.754012  18.327810\n",
              "2020-12-14  18.831979 -0.847445  17.984534\n",
              "2020-12-15  18.332283 -0.847445  17.484838\n",
              "2020-12-16  18.827021 -0.800730  18.026292"
            ]
          },
          "metadata": {
            "tags": []
          },
          "execution_count": 7
        }
      ]
    },
    {
      "cell_type": "markdown",
      "metadata": {
        "id": "5ZMtUWaY5Oza"
      },
      "source": [
        "## Inclusão dos dados do Benchmark - Ibovespa"
      ]
    },
    {
      "cell_type": "code",
      "metadata": {
        "colab": {
          "base_uri": "https://localhost:8080/"
        },
        "id": "e_erilkVLaYy",
        "outputId": "5b0614dd-7faf-47fd-8dfa-2a40001bed06"
      },
      "source": [
        "print('Usar a nomenclatura utilizada no Yahoo Finance. Ex: Para o Ibovespa, ^BVSP; para os fundos imobiliários, IFIX.SA e para o S&P 500 é ^GSPC')\r\n",
        "print('')\r\n",
        "\r\n",
        "benchmarks = []\r\n",
        "\r\n",
        "q = 's'\r\n",
        "\r\n",
        "q = input('Deseja incluir algum benchmark? Se sim, digite \"s\", caso contrário tecle \"Enter\" - ')\r\n",
        "if q == 's':\r\n",
        "\r\n",
        "  # inclusão dos benchmarks\r\n",
        "  escolha = 1\r\n",
        "\r\n",
        "  benchmarks.append(input('Digite o código do benchmark. - '))\r\n",
        "  escolha = int(input('Deseja adicionar outro? [1] Sim / [2] Não - '))\r\n",
        "\r\n",
        "  while True:\r\n",
        "    if escolha == 1:\r\n",
        "      benchmarks.append(input('Digite o nome do benchmark. - '))\r\n",
        "      escolha = int(input('Deseja adicionar outro? [1] Sim / [2] Não - '))\r\n",
        "    elif opcao != 1 and opcao != 2:\r\n",
        "      opcao = int(input('Escolha entre [1] Sim / [2] Não - '))\r\n",
        "    else:\r\n",
        "      break\r\n",
        "\r\n",
        "  print('')\r\n",
        "  print(f'Os seguintes benchmarks foram incluídos : {benchmarks}')"
      ],
      "execution_count": 8,
      "outputs": [
        {
          "output_type": "stream",
          "text": [
            "Usar a nomenclatura utilizada no Yahoo Finance. Ex: Para o Ibovespa, ^BVSP; para os fundos imobiliários, IFIX.SA e para o S&P 500 é ^GSPC\n",
            "\n",
            "Deseja incluir algum benchmark? Se sim, digite \"s\", caso contrário tecle \"Enter\" - s\n",
            "Digite o código do benchmark. - ^BVSP\n",
            "Deseja adicionar outro? [1] Sim / [2] Não - 2\n",
            "\n",
            "Os seguintes benchmarks foram incluídos : ['^BVSP']\n"
          ],
          "name": "stdout"
        }
      ]
    },
    {
      "cell_type": "code",
      "metadata": {
        "colab": {
          "base_uri": "https://localhost:8080/"
        },
        "id": "CoD2nA5VcmZN",
        "outputId": "42b1e834-f59f-4563-b4e8-0bbf3650bdef"
      },
      "source": [
        "#Os dados referentes aos benchmarks escolhidos serão importados para posterior análise\r\n",
        "\r\n",
        "BaseDados2 = pd.DataFrame()\r\n",
        "\r\n",
        "for indice in benchmarks:\r\n",
        "  BaseDados2[indice] = data.DataReader(indice, data_source = 'yahoo',start = inicio)['Adj Close']\r\n",
        "\r\n",
        "bmk_var_acum = ((BaseDados2/BaseDados2.iloc[0])-1)*100\r\n",
        "\r\n",
        "print('Importação dos dados realizada com sucesso!')"
      ],
      "execution_count": 9,
      "outputs": [
        {
          "output_type": "stream",
          "text": [
            "Importação dos dados realizada com sucesso!\n"
          ],
          "name": "stdout"
        }
      ]
    },
    {
      "cell_type": "code",
      "metadata": {
        "id": "RmqfkLvYkNMI"
      },
      "source": [
        "# Criação da tabela com o retorno acumulado da carteira e dos benchmarks selecionados\r\n",
        "\r\n",
        "tabela_final = pd.DataFrame()\r\n",
        "\r\n",
        "tabela_final['Sua Carteira'] = ValorTotal['Retorno']\r\n",
        "\r\n",
        "for i in benchmarks:\r\n",
        "  tabela_final[i] = bmk_var_acum[i]"
      ],
      "execution_count": 10,
      "outputs": []
    },
    {
      "cell_type": "code",
      "metadata": {
        "colab": {
          "base_uri": "https://localhost:8080/",
          "height": 225
        },
        "id": "BNvXbO7_s6Sb",
        "outputId": "89a738f2-17bd-41d4-88ce-d61f3623af8b"
      },
      "source": [
        "tabela_final.tail()"
      ],
      "execution_count": 85,
      "outputs": [
        {
          "output_type": "execute_result",
          "data": {
            "text/html": [
              "<div>\n",
              "<style scoped>\n",
              "    .dataframe tbody tr th:only-of-type {\n",
              "        vertical-align: middle;\n",
              "    }\n",
              "\n",
              "    .dataframe tbody tr th {\n",
              "        vertical-align: top;\n",
              "    }\n",
              "\n",
              "    .dataframe thead th {\n",
              "        text-align: right;\n",
              "    }\n",
              "</style>\n",
              "<table border=\"1\" class=\"dataframe\">\n",
              "  <thead>\n",
              "    <tr style=\"text-align: right;\">\n",
              "      <th></th>\n",
              "      <th>Sua Carteira</th>\n",
              "      <th>^BVSP</th>\n",
              "    </tr>\n",
              "    <tr>\n",
              "      <th>Date</th>\n",
              "      <th></th>\n",
              "      <th></th>\n",
              "    </tr>\n",
              "  </thead>\n",
              "  <tbody>\n",
              "    <tr>\n",
              "      <th>2020-12-10</th>\n",
              "      <td>15.993206</td>\n",
              "      <td>29.758520</td>\n",
              "    </tr>\n",
              "    <tr>\n",
              "      <th>2020-12-11</th>\n",
              "      <td>18.327810</td>\n",
              "      <td>30.132024</td>\n",
              "    </tr>\n",
              "    <tr>\n",
              "      <th>2020-12-14</th>\n",
              "      <td>17.984534</td>\n",
              "      <td>29.739336</td>\n",
              "    </tr>\n",
              "    <tr>\n",
              "      <th>2020-12-15</th>\n",
              "      <td>17.484838</td>\n",
              "      <td>31.060709</td>\n",
              "    </tr>\n",
              "    <tr>\n",
              "      <th>2020-12-16</th>\n",
              "      <td>18.026292</td>\n",
              "      <td>32.902958</td>\n",
              "    </tr>\n",
              "  </tbody>\n",
              "</table>\n",
              "</div>"
            ],
            "text/plain": [
              "            Sua Carteira      ^BVSP\n",
              "Date                               \n",
              "2020-12-10     15.993206  29.758520\n",
              "2020-12-11     18.327810  30.132024\n",
              "2020-12-14     17.984534  29.739336\n",
              "2020-12-15     17.484838  31.060709\n",
              "2020-12-16     18.026292  32.902958"
            ]
          },
          "metadata": {
            "tags": []
          },
          "execution_count": 85
        }
      ]
    },
    {
      "cell_type": "markdown",
      "metadata": {
        "id": "-whGDrNx5UCC"
      },
      "source": [
        "## Visualizações e Análises dos Dados Importados e Normalizados"
      ]
    },
    {
      "cell_type": "code",
      "metadata": {
        "colab": {
          "base_uri": "https://localhost:8080/",
          "height": 504
        },
        "id": "mJ7M5m07vR7f",
        "outputId": "37847842-b856-46ae-cc8d-6c304d93ecf5"
      },
      "source": [
        "# Visualização da Representatividade na carteira\r\n",
        "listafinal = []\r\n",
        "\r\n",
        "for numero in pesos:\r\n",
        "  listafinal.append(numero * 200)\r\n",
        "\r\n",
        "listafinal\r\n",
        "\r\n",
        "x_list = listafinal\r\n",
        "labels_list = carteira\r\n",
        "plt.figure(figsize=(8,8))\r\n",
        "plt.axis('equal')\r\n",
        "plt.pie(x_list,autopct='%1.1f%%',labels=labels_list)\r\n",
        "plt.title('Composição da Carteira',size=20)\r\n",
        "print('')"
      ],
      "execution_count": 75,
      "outputs": [
        {
          "output_type": "stream",
          "text": [
            "\n"
          ],
          "name": "stdout"
        },
        {
          "output_type": "display_data",
          "data": {
            "image/png": "[encoded data removed]",
            "text/plain": [
              "<Figure size 576x576 with 1 Axes>"
            ]
          },
          "metadata": {
            "tags": []
          }
        }
      ]
    },
    {
      "cell_type": "code",
      "metadata": {
        "colab": {
          "base_uri": "https://localhost:8080/",
          "height": 497
        },
        "id": "70hVfRKOeROl",
        "outputId": "5c37433a-fdfc-4818-fd34-d5b38b13219d"
      },
      "source": [
        "# Visualização das variações da carteira e benchmarks acumulados\r\n",
        "cores = ['c','#368B8B','#276666','#276666','#0FA7A7']\r\n",
        "\r\n",
        "tabela_final['Sua Carteira'].plot(color='b',LineWidth=5,figsize=(22,8))\r\n",
        "for loc,j in enumerate(benchmarks):\r\n",
        "  tabela_final[j].plot(color=cores[loc])\r\n",
        "plt.legend()\r\n",
        "plt.title ('Retorno Acumulado da Carteira de Investimentos',size=20)\r\n",
        "plt.xlabel('')\r\n",
        "plt.ylabel('Variação Percentual (%)')\r\n",
        "print('')"
      ],
      "execution_count": 102,
      "outputs": [
        {
          "output_type": "stream",
          "text": [
            "\n"
          ],
          "name": "stdout"
        },
        {
          "output_type": "display_data",
          "data": {
            "image/png": "[encoded data removed]",
            "text/plain": [
              "<Figure size 1584x576 with 1 Axes>"
            ]
          },
          "metadata": {
            "tags": [],
            "needs_background": "light"
          }
        }
      ]
    },
    {
      "cell_type": "code",
      "metadata": {
        "colab": {
          "base_uri": "https://localhost:8080/"
        },
        "id": "HlrIKmvvRIi5",
        "outputId": "e3fbf846-764f-4194-b374-aef5287236c3"
      },
      "source": [
        "print('Lista de Resultados da carteira analisada:')\r\n",
        "print('')\r\n",
        "\r\n",
        "BaseDados['Soma'] = BaseDados.sum(axis=1)\r\n",
        "\r\n",
        "ret_cart = BaseDados['Soma'].pct_change().mean()*100\r\n",
        "risco_cart = BaseDados['Soma'].pct_change().std()*100\r\n",
        "linhas = BaseDados['Soma'].pct_change().count()\r\n",
        "ret_acum_cart = tabela_final['Sua Carteira'].iloc[linhas]\r\n",
        "\r\n",
        "print(f'Variação diária média da carteira: {round(ret_cart,2)}% a.p.')\r\n",
        "print(f'Retorno acumulado da carteira: {round(ret_acum_cart,2)}% a.p.')\r\n",
        "print(f'Risco da carteira: {round(risco_cart,2)}% a.p')\r\n",
        "if q == 's':\r\n",
        "  if '^BVSP' in tabela_final:\r\n",
        "    ret_acum_ibov = tabela_final['^BVSP'].iloc[linhas]\r\n",
        "    dci = round(((ret_acum_cart/ret_acum_ibov)-1)*100,2)\r\n",
        "    print(f'Desempenho em relação ao Ibovespa: {dci}%.')\r\n",
        "  else:\r\n",
        "    print('')"
      ],
      "execution_count": 109,
      "outputs": [
        {
          "output_type": "stream",
          "text": [
            "Lista de Resultados da carteira analisada:\n",
            "\n",
            "Variação diária média da carteira: 0.14% a.p.\n",
            "Retorno acumulado da carteira: 18.03% a.p.\n",
            "Risco da carteira: 0.91% a.p\n",
            "Desempenho em relação ao Ibovespa: -45.21%.\n"
          ],
          "name": "stdout"
        }
      ]
    }
  ]
}