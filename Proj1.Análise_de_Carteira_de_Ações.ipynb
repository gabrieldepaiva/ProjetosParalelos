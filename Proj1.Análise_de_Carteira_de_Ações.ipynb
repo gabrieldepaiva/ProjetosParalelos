{
  "nbformat": 4,
  "nbformat_minor": 0,
  "metadata": {
    "colab": {
      "name": "WebScraping-Análise_de_Carteira_de_Ações",
      "provenance": [],
      "collapsed_sections": [],
      "authorship_tag": "ABX9TyM0eqgKotn3NBskmY6lUj0R",
      "include_colab_link": true
    },
    "kernelspec": {
      "name": "python3",
      "display_name": "Python 3"
    }
  },
  "cells": [
    {
      "cell_type": "markdown",
      "metadata": {
        "id": "view-in-github",
        "colab_type": "text"
      },
      "source": [
        "<a href=\"https://colab.research.google.com/github/gabrieldepaiva/ProjetosParalelos/blob/main/WebScraping_An%C3%A1lise_de_Carteira_de_A%C3%A7%C3%B5es.ipynb\" target=\"_parent\"><img src=\"https://colab.research.google.com/assets/colab-badge.svg\" alt=\"Open In Colab\"/></a>"
      ]
    },
    {
      "cell_type": "markdown",
      "metadata": {
        "id": "J-B-TozcMe84"
      },
      "source": [
        "## Importação das Bibliotecas"
      ]
    },
    {
      "cell_type": "code",
      "metadata": {
        "id": "_i8Y9U4ELKj8"
      },
      "source": [
        "import pandas as pd\n",
        "from pandas_datareader import data\n",
        "import matplotlib.pyplot as plot\n",
        "import numpy as np"
      ],
      "execution_count": 2,
      "outputs": []
    },
    {
      "cell_type": "markdown",
      "metadata": {
        "id": "q9jQc7WeNXKP"
      },
      "source": [
        "## Definição das ações a serem análisadas"
      ]
    },
    {
      "cell_type": "code",
      "metadata": {
        "id": "zyfFuXfPNc3z"
      },
      "source": [
        "# Nesse exemplo serão utilizados 5 ativos\n",
        "\n",
        "carteira = ['PG','MSFT','F','GE','AAPL']"
      ],
      "execution_count": 3,
      "outputs": []
    },
    {
      "cell_type": "code",
      "metadata": {
        "id": "paM_cTGyOA3D",
        "colab": {
          "base_uri": "https://localhost:8080/",
          "height": 235
        },
        "outputId": "97bfc21c-62b2-4066-de27-840610795eb8"
      },
      "source": [
        "'''Criação da matriz de informações:\n",
        "Serão geradas informações referentes ao preço de fechamento de cada um dos ativos'''\n",
        "\n",
        "BaseDados = pd.DataFrame()\n",
        "\n",
        "for ativo in carteira:\n",
        "  BaseDados[ativo] = data.DataReader(ativo, data_source = 'yahoo', start = '2020-1-1')['Adj Close']\n",
        "\n",
        "# Resultado da tabela que foi gerada parcialmente\n",
        "BaseDados.head()"
      ],
      "execution_count": 4,
      "outputs": [
        {
          "output_type": "execute_result",
          "data": {
            "text/html": [
              "<div>\n",
              "<style scoped>\n",
              "    .dataframe tbody tr th:only-of-type {\n",
              "        vertical-align: middle;\n",
              "    }\n",
              "\n",
              "    .dataframe tbody tr th {\n",
              "        vertical-align: top;\n",
              "    }\n",
              "\n",
              "    .dataframe thead th {\n",
              "        text-align: right;\n",
              "    }\n",
              "</style>\n",
              "<table border=\"1\" class=\"dataframe\">\n",
              "  <thead>\n",
              "    <tr style=\"text-align: right;\">\n",
              "      <th></th>\n",
              "      <th>PG</th>\n",
              "      <th>MSFT</th>\n",
              "      <th>F</th>\n",
              "      <th>GE</th>\n",
              "      <th>AAPL</th>\n",
              "    </tr>\n",
              "    <tr>\n",
              "      <th>Date</th>\n",
              "      <th></th>\n",
              "      <th></th>\n",
              "      <th></th>\n",
              "      <th></th>\n",
              "      <th></th>\n",
              "    </tr>\n",
              "  </thead>\n",
              "  <tbody>\n",
              "    <tr>\n",
              "      <th>2020-01-02</th>\n",
              "      <td>120.435463</td>\n",
              "      <td>158.936279</td>\n",
              "      <td>9.262475</td>\n",
              "      <td>11.880686</td>\n",
              "      <td>73.840042</td>\n",
              "    </tr>\n",
              "    <tr>\n",
              "      <th>2020-01-03</th>\n",
              "      <td>119.625465</td>\n",
              "      <td>156.957260</td>\n",
              "      <td>9.055987</td>\n",
              "      <td>11.920521</td>\n",
              "      <td>73.122154</td>\n",
              "    </tr>\n",
              "    <tr>\n",
              "      <th>2020-01-06</th>\n",
              "      <td>119.791367</td>\n",
              "      <td>157.362961</td>\n",
              "      <td>9.006823</td>\n",
              "      <td>12.089818</td>\n",
              "      <td>73.704819</td>\n",
              "    </tr>\n",
              "    <tr>\n",
              "      <th>2020-01-07</th>\n",
              "      <td>119.049675</td>\n",
              "      <td>155.928177</td>\n",
              "      <td>9.095318</td>\n",
              "      <td>12.000189</td>\n",
              "      <td>73.358185</td>\n",
              "    </tr>\n",
              "    <tr>\n",
              "      <th>2020-01-08</th>\n",
              "      <td>119.557144</td>\n",
              "      <td>158.411835</td>\n",
              "      <td>9.095318</td>\n",
              "      <td>11.890644</td>\n",
              "      <td>74.538239</td>\n",
              "    </tr>\n",
              "  </tbody>\n",
              "</table>\n",
              "</div>"
            ],
            "text/plain": [
              "                    PG        MSFT         F         GE       AAPL\n",
              "Date                                                              \n",
              "2020-01-02  120.435463  158.936279  9.262475  11.880686  73.840042\n",
              "2020-01-03  119.625465  156.957260  9.055987  11.920521  73.122154\n",
              "2020-01-06  119.791367  157.362961  9.006823  12.089818  73.704819\n",
              "2020-01-07  119.049675  155.928177  9.095318  12.000189  73.358185\n",
              "2020-01-08  119.557144  158.411835  9.095318  11.890644  74.538239"
            ]
          },
          "metadata": {
            "tags": []
          },
          "execution_count": 4
        }
      ]
    },
    {
      "cell_type": "markdown",
      "metadata": {
        "id": "pDAomTwqYXfw"
      },
      "source": [
        "## Calculando a variação diária dos ativos"
      ]
    },
    {
      "cell_type": "code",
      "metadata": {
        "colab": {
          "base_uri": "https://localhost:8080/",
          "height": 235
        },
        "id": "Q-StQGxAXs3L",
        "outputId": "291621bc-34f8-4ed3-f66c-6ed086e85e6b"
      },
      "source": [
        "retorno_carteira = (BaseDados/BaseDados.shift(1))-1\n",
        "retorno_carteira.head()"
      ],
      "execution_count": 7,
      "outputs": [
        {
          "output_type": "execute_result",
          "data": {
            "text/html": [
              "<div>\n",
              "<style scoped>\n",
              "    .dataframe tbody tr th:only-of-type {\n",
              "        vertical-align: middle;\n",
              "    }\n",
              "\n",
              "    .dataframe tbody tr th {\n",
              "        vertical-align: top;\n",
              "    }\n",
              "\n",
              "    .dataframe thead th {\n",
              "        text-align: right;\n",
              "    }\n",
              "</style>\n",
              "<table border=\"1\" class=\"dataframe\">\n",
              "  <thead>\n",
              "    <tr style=\"text-align: right;\">\n",
              "      <th></th>\n",
              "      <th>PG</th>\n",
              "      <th>MSFT</th>\n",
              "      <th>F</th>\n",
              "      <th>GE</th>\n",
              "      <th>AAPL</th>\n",
              "    </tr>\n",
              "    <tr>\n",
              "      <th>Date</th>\n",
              "      <th></th>\n",
              "      <th></th>\n",
              "      <th></th>\n",
              "      <th></th>\n",
              "      <th></th>\n",
              "    </tr>\n",
              "  </thead>\n",
              "  <tbody>\n",
              "    <tr>\n",
              "      <th>2020-01-02</th>\n",
              "      <td>NaN</td>\n",
              "      <td>NaN</td>\n",
              "      <td>NaN</td>\n",
              "      <td>NaN</td>\n",
              "      <td>NaN</td>\n",
              "    </tr>\n",
              "    <tr>\n",
              "      <th>2020-01-03</th>\n",
              "      <td>-0.006726</td>\n",
              "      <td>-0.012452</td>\n",
              "      <td>-0.022293</td>\n",
              "      <td>0.003353</td>\n",
              "      <td>-0.009722</td>\n",
              "    </tr>\n",
              "    <tr>\n",
              "      <th>2020-01-06</th>\n",
              "      <td>0.001387</td>\n",
              "      <td>0.002585</td>\n",
              "      <td>-0.005429</td>\n",
              "      <td>0.014202</td>\n",
              "      <td>0.007968</td>\n",
              "    </tr>\n",
              "    <tr>\n",
              "      <th>2020-01-07</th>\n",
              "      <td>-0.006192</td>\n",
              "      <td>-0.009118</td>\n",
              "      <td>0.009825</td>\n",
              "      <td>-0.007414</td>\n",
              "      <td>-0.004703</td>\n",
              "    </tr>\n",
              "    <tr>\n",
              "      <th>2020-01-08</th>\n",
              "      <td>0.004263</td>\n",
              "      <td>0.015928</td>\n",
              "      <td>0.000000</td>\n",
              "      <td>-0.009129</td>\n",
              "      <td>0.016086</td>\n",
              "    </tr>\n",
              "  </tbody>\n",
              "</table>\n",
              "</div>"
            ],
            "text/plain": [
              "                  PG      MSFT         F        GE      AAPL\n",
              "Date                                                        \n",
              "2020-01-02       NaN       NaN       NaN       NaN       NaN\n",
              "2020-01-03 -0.006726 -0.012452 -0.022293  0.003353 -0.009722\n",
              "2020-01-06  0.001387  0.002585 -0.005429  0.014202  0.007968\n",
              "2020-01-07 -0.006192 -0.009118  0.009825 -0.007414 -0.004703\n",
              "2020-01-08  0.004263  0.015928  0.000000 -0.009129  0.016086"
            ]
          },
          "metadata": {
            "tags": []
          },
          "execution_count": 7
        }
      ]
    },
    {
      "cell_type": "markdown",
      "metadata": {
        "id": "Q0uXVorvZcHH"
      },
      "source": [
        "## Definindo os pesos e retorno da carteira"
      ]
    },
    {
      "cell_type": "code",
      "metadata": {
        "id": "xmMq6ckeZjFx"
      },
      "source": [
        "pesos = np.array([0.2,0.2,0.2,0.2,0.2])\n",
        "\n",
        "# essa linha serce para multiplicar cada um dos pesos pelo retorno de cada um dos ativos\n",
        "# a regra de multiplicação de matrizes deve ser respeitada onde aXb * cXd -> b=c\n",
        "np.dot(retorno_carteira,pesos) "
      ],
      "execution_count": null,
      "outputs": []
    },
    {
      "cell_type": "code",
      "metadata": {
        "colab": {
          "base_uri": "https://localhost:8080/"
        },
        "id": "CWKYKdCieVlw",
        "outputId": "05e43e17-fd5d-461c-cc44-33238460da44"
      },
      "source": [
        "# Calcula-se a média e multiplica por 100 para converter em porcentagem\n",
        "# Se algum dos ativos resultar em negativo, já pode ser excluído ou substituido\n",
        "\n",
        "MediaRetorno = retorno_carteira.mean()\n",
        "print(MediaRetorno*100)"
      ],
      "execution_count": 37,
      "outputs": [
        {
          "output_type": "stream",
          "text": [
            "PG      0.077289\n",
            "MSFT    0.166518\n",
            "F       0.064737\n",
            "GE      0.051680\n",
            "AAPL    0.265763\n",
            "dtype: float64\n"
          ],
          "name": "stdout"
        }
      ]
    },
    {
      "cell_type": "code",
      "metadata": {
        "colab": {
          "base_uri": "https://localhost:8080/"
        },
        "id": "7ZQlSlMjhgSy",
        "outputId": "15389230-fbf8-4b73-c119-4726eca7b210"
      },
      "source": [
        "# Cálculo do retorno utilizando os pesos anteriores:\n",
        "\n",
        "rc = round(np.dot(MediaRetorno,pesos)*100,5)\n",
        "print(f'O retorno calculado do portfólio acima é {rc}%')"
      ],
      "execution_count": 43,
      "outputs": [
        {
          "output_type": "stream",
          "text": [
            "O retorno calculado do portfólio acima é 0.1252%\n"
          ],
          "name": "stdout"
        }
      ]
    }
  ]
}
