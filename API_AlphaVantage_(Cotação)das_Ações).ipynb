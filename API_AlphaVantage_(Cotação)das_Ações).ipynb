{
  "nbformat": 4,
  "nbformat_minor": 0,
  "metadata": {
    "colab": {
      "name": "API-AlphaVantage-(Cotação)das_Ações).ipynb",
      "provenance": [],
      "authorship_tag": "ABX9TyM6xDEFukvxIMTeTSW+dKmo",
      "include_colab_link": true
    },
    "kernelspec": {
      "name": "python3",
      "display_name": "Python 3"
    }
  },
  "cells": [
    {
      "cell_type": "markdown",
      "metadata": {
        "id": "view-in-github",
        "colab_type": "text"
      },
      "source": [
        "<a href=\"https://colab.research.google.com/github/gabrieldepaiva/Projetos_Financas-Python/blob/main/API_AlphaVantage_(Cota%C3%A7%C3%A3o)das_A%C3%A7%C3%B5es).ipynb\" target=\"_parent\"><img src=\"https://colab.research.google.com/assets/colab-badge.svg\" alt=\"Open In Colab\"/></a>"
      ]
    },
    {
      "cell_type": "code",
      "metadata": {
        "id": "zKS6yvnafaRg"
      },
      "source": [
        "!pip install alpha_vantage"
      ],
      "execution_count": null,
      "outputs": []
    },
    {
      "cell_type": "code",
      "metadata": {
        "id": "EToxiUrDfv50"
      },
      "source": [
        "AlphaVantage_API_KEY = 'RN5X16H7VPMN8F0O'"
      ],
      "execution_count": 4,
      "outputs": []
    },
    {
      "cell_type": "code",
      "metadata": {
        "id": "P3JqbOw-gmHP"
      },
      "source": [
        "from alpha_vantage.timeseries import TimeSeries\r\n",
        "import pandas as pd\r\n",
        "import matplotlib.pyplot as plt\r\n",
        "from pandas_datareader import DataReader"
      ],
      "execution_count": 38,
      "outputs": []
    },
    {
      "cell_type": "code",
      "metadata": {
        "colab": {
          "base_uri": "https://localhost:8080/"
        },
        "id": "ZEp2s2d_o0zv",
        "outputId": "4f3fc968-20fb-43e9-c0cc-e665bde95d16"
      },
      "source": [
        "data_inicial = input('Digite a data inicial - ')\r\n",
        "data_final = input('Digite a data final - ')"
      ],
      "execution_count": 24,
      "outputs": [
        {
          "output_type": "stream",
          "text": [
            "Digite a data inicial - 2020-02-01\n",
            "Digite a data final - 2020-12-11\n"
          ],
          "name": "stdout"
        }
      ]
    },
    {
      "cell_type": "code",
      "metadata": {
        "id": "ossWiKCxsW3q"
      },
      "source": [
        "f = DataReader('PETR4.SAO', \"av-daily\", start=data_inicial, end=data_final, api_key=AlphaVantage_API_KEY)"
      ],
      "execution_count": 28,
      "outputs": []
    },
    {
      "cell_type": "code",
      "metadata": {
        "id": "3E2KOkjGvR2O"
      },
      "source": [
        "f.head()"
      ],
      "execution_count": null,
      "outputs": []
    },
    {
      "cell_type": "code",
      "metadata": {
        "id": "6fE3RAmE9Sp3"
      },
      "source": [
        "ts = TimeSeries(key=AlphaVantage_API_KEY,output_format='pandas')"
      ],
      "execution_count": 58,
      "outputs": []
    },
    {
      "cell_type": "code",
      "metadata": {
        "colab": {
          "base_uri": "https://localhost:8080/"
        },
        "id": "r_Wa-QHd-PVh",
        "outputId": "b847fc1d-1521-490d-97b5-f8feec6bbd9e"
      },
      "source": [
        "empresa_pesquisada = str(input('Digite o nome da empresa a ser análisada - '))"
      ],
      "execution_count": 71,
      "outputs": [
        {
          "output_type": "stream",
          "text": [
            "Digite o nome da empresa a ser análisada - TAEE\n"
          ],
          "name": "stdout"
        }
      ]
    },
    {
      "cell_type": "code",
      "metadata": {
        "colab": {
          "base_uri": "https://localhost:8080/"
        },
        "id": "XNrlsMue9i5W",
        "outputId": "ad5ae3ee-382d-488a-f559-56f28e715cf1"
      },
      "source": [
        "ts.get_symbol_search(keywords=empresa_pesquisada)"
      ],
      "execution_count": 72,
      "outputs": [
        {
          "output_type": "execute_result",
          "data": {
            "text/plain": [
              "(                                1. symbol  ... 9. matchScore\n",
              " date                                       ...              \n",
              " 1970-01-01 00:00:00.000000000  TAEE11.SAO  ...        0.6667\n",
              " 1970-01-01 00:00:00.000000001   TAEE4.SAO  ...        0.6667\n",
              " 1970-01-01 00:00:00.000000002   TAEE3.SAO  ...        0.6154\n",
              " \n",
              " [3 rows x 9 columns], None)"
            ]
          },
          "metadata": {
            "tags": []
          },
          "execution_count": 72
        }
      ]
    }
  ]
}