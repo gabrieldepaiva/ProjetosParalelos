{
  "nbformat": 4,
  "nbformat_minor": 0,
  "metadata": {
    "colab": {
      "name": "API-AlphaVantage-(Cotação)das_Ações).ipynb",
      "provenance": [],
      "authorship_tag": "ABX9TyN7OwfTVw1USRqXJP36dxYm",
      "include_colab_link": true
    },
    "kernelspec": {
      "name": "python3",
      "display_name": "Python 3"
    }
  },
  "cells": [
    {
      "cell_type": "markdown",
      "metadata": {
        "id": "view-in-github",
        "colab_type": "text"
      },
      "source": [
        "<a href=\"https://colab.research.google.com/github/gabrieldepaiva/Projetos_Financas-Python/blob/main/Proj6_Cota%C3%A7%C3%A3o_das_A%C3%A7%C3%B5es-API_AlphaVantage_.ipynb\" target=\"_parent\"><img src=\"https://colab.research.google.com/assets/colab-badge.svg\" alt=\"Open In Colab\"/></a>"
      ]
    },
    {
      "cell_type": "markdown",
      "metadata": {
        "id": "6uTjRSS6Mfq5"
      },
      "source": [
        "# Instalação dos Pacotes Necessários"
      ]
    },
    {
      "cell_type": "code",
      "metadata": {
        "id": "zKS6yvnafaRg"
      },
      "source": [
        "!pip install alpha_vantage"
      ],
      "execution_count": null,
      "outputs": []
    },
    {
      "cell_type": "code",
      "metadata": {
        "id": "EToxiUrDfv50"
      },
      "source": [
        "AlphaVantage_API_KEY = 'RN5X16H7VPMN8F0O'"
      ],
      "execution_count": 2,
      "outputs": []
    },
    {
      "cell_type": "code",
      "metadata": {
        "id": "P3JqbOw-gmHP"
      },
      "source": [
        "from alpha_vantage.timeseries import TimeSeries\r\n",
        "import pandas as pd\r\n",
        "import matplotlib.pyplot as plt\r\n",
        "from pandas_datareader import DataReader"
      ],
      "execution_count": 16,
      "outputs": []
    },
    {
      "cell_type": "markdown",
      "metadata": {
        "id": "sC5FoLNCMwBx"
      },
      "source": [
        "# Pesquisar o Simbolo do Ticker"
      ]
    },
    {
      "cell_type": "markdown",
      "metadata": {
        "id": "3bS_N-DlPHoE"
      },
      "source": [
        "##### Inserir mesmo uma aproximação do que seria o ticker da ação a ser pesquisada"
      ]
    },
    {
      "cell_type": "code",
      "metadata": {
        "id": "6fE3RAmE9Sp3",
        "cellView": "form",
        "outputId": "ad6e5432-35c6-46e1-b346-01bca95bf2f7",
        "colab": {
          "base_uri": "https://localhost:8080/"
        }
      },
      "source": [
        "#@title\n",
        "# Definir empresa a ser pesquisada\n",
        "empresa_pesquisada = str(input('Digite o nome da empresa a ser análisada - '))\n",
        "\n",
        "ts = TimeSeries(key=AlphaVantage_API_KEY,output_format='pandas')\n",
        "ts.get_symbol_search(keywords=empresa_pesquisada)"
      ],
      "execution_count": 37,
      "outputs": [
        {
          "output_type": "stream",
          "text": [
            "Digite o nome da empresa a ser análisada - itsa\n"
          ],
          "name": "stdout"
        },
        {
          "output_type": "execute_result",
          "data": {
            "text/plain": [
              "(                               1. symbol  ... 9. matchScore\n",
              " date                                      ...              \n",
              " 1970-01-01 00:00:00.000000000      ITSAX  ...        0.8889\n",
              " 1970-01-01 00:00:00.000000001  ITSA3.SAO  ...        0.6667\n",
              " 1970-01-01 00:00:00.000000002  ITSA4.SAO  ...        0.6667\n",
              " 1970-01-01 00:00:00.000000003      ITSJF  ...        0.6667\n",
              " \n",
              " [4 rows x 9 columns], None)"
            ]
          },
          "metadata": {
            "tags": []
          },
          "execution_count": 37
        }
      ]
    },
    {
      "cell_type": "markdown",
      "metadata": {
        "id": "89F4EEZBNCci"
      },
      "source": [
        "##### Detalhamento da busca das cotações"
      ]
    },
    {
      "cell_type": "code",
      "metadata": {
        "colab": {
          "base_uri": "https://localhost:8080/"
        },
        "id": "ZEp2s2d_o0zv",
        "cellView": "form",
        "outputId": "0eda5e88-76b9-4116-d5c1-89a1244609c4"
      },
      "source": [
        "#@title\n",
        "data_inicial = input('Digite a data inicial - ')\n",
        "data_final = input('Digite a data final - ')\n",
        "ticker = str(input('Digite o ticker da empresa - '))"
      ],
      "execution_count": 22,
      "outputs": [
        {
          "output_type": "stream",
          "text": [
            "Digite a data inicial - 2020-01-01\n",
            "Digite a data final - 2020-12-31\n",
            "Digite o ticker da empresa - ITSA4.SAO\n"
          ],
          "name": "stdout"
        }
      ]
    },
    {
      "cell_type": "markdown",
      "metadata": {
        "id": "tKhCKNZANVd1"
      },
      "source": [
        "# Geração dos Dados, sendo eles:"
      ]
    },
    {
      "cell_type": "markdown",
      "metadata": {
        "id": "bzD19sxBNnYt"
      },
      "source": [
        "##### Intraday"
      ]
    },
    {
      "cell_type": "code",
      "metadata": {
        "id": "ossWiKCxsW3q",
        "cellView": "form"
      },
      "source": [
        "#@title\n",
        "f = DataReader(ticker, \"av-intraday\", start=data_inicial, end=data_final, api_key=AlphaVantage_API_KEY)\n",
        "print('Dados Gerados Com Sucesso!')\n",
        "j = 'Intraday'"
      ],
      "execution_count": 23,
      "outputs": []
    },
    {
      "cell_type": "markdown",
      "metadata": {
        "id": "dBVa3U6tNp35"
      },
      "source": [
        "##### Diário"
      ]
    },
    {
      "cell_type": "code",
      "metadata": {
        "cellView": "form",
        "id": "cWqun_cNJpLa"
      },
      "source": [
        "#@title\n",
        "f = DataReader(ticker, \"av-daily\", start=data_inicial, end=data_final, api_key=AlphaVantage_API_KEY)\n",
        "print('Dados Gerados Com Sucesso!')\n",
        "j = 'Diário'"
      ],
      "execution_count": null,
      "outputs": []
    },
    {
      "cell_type": "markdown",
      "metadata": {
        "id": "CkitGyy_NqOI"
      },
      "source": [
        "##### Diário Ajustado"
      ]
    },
    {
      "cell_type": "code",
      "metadata": {
        "cellView": "form",
        "id": "o3j1mk8DJpc8"
      },
      "source": [
        "#@title\n",
        "f = DataReader(ticker, \"av-daily-adjusted\", start=data_inicial, end=data_final, api_key=AlphaVantage_API_KEY)\n",
        "print('Dados Gerados Com Sucesso!')\n",
        "j = 'Diário Ajustado'"
      ],
      "execution_count": null,
      "outputs": []
    },
    {
      "cell_type": "markdown",
      "metadata": {
        "id": "MrILGcBtNqew"
      },
      "source": [
        "##### Semanal"
      ]
    },
    {
      "cell_type": "code",
      "metadata": {
        "cellView": "form",
        "id": "zYw3dVUYJpn8"
      },
      "source": [
        "#@title\n",
        "f = DataReader(ticker, \"av-weekly\", start=data_inicial, end=data_final, api_key=AlphaVantage_API_KEY)\n",
        "print('Dados Gerados Com Sucesso!')\n",
        "j = 'Semanal'"
      ],
      "execution_count": null,
      "outputs": []
    },
    {
      "cell_type": "markdown",
      "metadata": {
        "id": "HdKeKDIQNqtl"
      },
      "source": [
        "##### Semanal Ajustado"
      ]
    },
    {
      "cell_type": "code",
      "metadata": {
        "cellView": "form",
        "id": "a9uG3mdRJpxy"
      },
      "source": [
        "#@title\n",
        "f = DataReader(ticker, \"av-weekly-adjusted\", start=data_inicial, end=data_final, api_key=AlphaVantage_API_KEY)\n",
        "print('Dados Gerados Com Sucesso!')\n",
        "j = 'Semanal Ajustado'"
      ],
      "execution_count": null,
      "outputs": []
    },
    {
      "cell_type": "markdown",
      "metadata": {
        "id": "zMkjsReWNq8A"
      },
      "source": [
        "##### Mensal"
      ]
    },
    {
      "cell_type": "code",
      "metadata": {
        "cellView": "form",
        "id": "D7yuyGFvJp-4"
      },
      "source": [
        "#@title\n",
        "f = DataReader(ticker, \"av-monthly\", start=data_inicial, end=data_final, api_key=AlphaVantage_API_KEY)\n",
        "print('Dados Gerados Com Sucesso!')\n",
        "j = 'Mensal'"
      ],
      "execution_count": null,
      "outputs": []
    },
    {
      "cell_type": "markdown",
      "metadata": {
        "id": "uLQ9YZGJNrK0"
      },
      "source": [
        "##### Mensal Ajustado"
      ]
    },
    {
      "cell_type": "code",
      "metadata": {
        "cellView": "form",
        "id": "6Qtyy57PJqMX"
      },
      "source": [
        "#@title\n",
        "f = DataReader(ticker, \"av-monthly-adjusted\", start=data_inicial, end=data_final, api_key=AlphaVantage_API_KEY)\n",
        "print('Dados Gerados Com Sucesso!')\n",
        "j = 'Mensal Ajustado'"
      ],
      "execution_count": null,
      "outputs": []
    },
    {
      "cell_type": "markdown",
      "metadata": {
        "id": "lDjE4x5GMTy4"
      },
      "source": [
        "# Visualização da Tabela Gerada"
      ]
    },
    {
      "cell_type": "code",
      "metadata": {
        "id": "3E2KOkjGvR2O",
        "cellView": "form",
        "outputId": "d79a4327-3009-4aeb-df01-1675840c28b0",
        "colab": {
          "base_uri": "https://localhost:8080/",
          "height": 195
        }
      },
      "source": [
        "#@title\n",
        "f.head()"
      ],
      "execution_count": 35,
      "outputs": [
        {
          "output_type": "execute_result",
          "data": {
            "text/html": [
              "<div>\n",
              "<style scoped>\n",
              "    .dataframe tbody tr th:only-of-type {\n",
              "        vertical-align: middle;\n",
              "    }\n",
              "\n",
              "    .dataframe tbody tr th {\n",
              "        vertical-align: top;\n",
              "    }\n",
              "\n",
              "    .dataframe thead th {\n",
              "        text-align: right;\n",
              "    }\n",
              "</style>\n",
              "<table border=\"1\" class=\"dataframe\">\n",
              "  <thead>\n",
              "    <tr style=\"text-align: right;\">\n",
              "      <th></th>\n",
              "      <th>open</th>\n",
              "      <th>high</th>\n",
              "      <th>low</th>\n",
              "      <th>close</th>\n",
              "      <th>adjusted close</th>\n",
              "      <th>volume</th>\n",
              "      <th>dividend amount</th>\n",
              "    </tr>\n",
              "  </thead>\n",
              "  <tbody>\n",
              "    <tr>\n",
              "      <th>2020-01-31</th>\n",
              "      <td>14.14</td>\n",
              "      <td>14.38</td>\n",
              "      <td>12.72</td>\n",
              "      <td>12.86</td>\n",
              "      <td>12.6407</td>\n",
              "      <td>407079600</td>\n",
              "      <td>0.000</td>\n",
              "    </tr>\n",
              "    <tr>\n",
              "      <th>2020-02-28</th>\n",
              "      <td>12.88</td>\n",
              "      <td>13.51</td>\n",
              "      <td>11.70</td>\n",
              "      <td>12.01</td>\n",
              "      <td>12.0100</td>\n",
              "      <td>501189700</td>\n",
              "      <td>0.226</td>\n",
              "    </tr>\n",
              "    <tr>\n",
              "      <th>2020-03-31</th>\n",
              "      <td>12.06</td>\n",
              "      <td>12.39</td>\n",
              "      <td>7.44</td>\n",
              "      <td>8.77</td>\n",
              "      <td>8.7700</td>\n",
              "      <td>953472700</td>\n",
              "      <td>0.000</td>\n",
              "    </tr>\n",
              "    <tr>\n",
              "      <th>2020-04-30</th>\n",
              "      <td>8.50</td>\n",
              "      <td>9.88</td>\n",
              "      <td>7.91</td>\n",
              "      <td>9.00</td>\n",
              "      <td>9.0000</td>\n",
              "      <td>589599500</td>\n",
              "      <td>0.000</td>\n",
              "    </tr>\n",
              "    <tr>\n",
              "      <th>2020-05-29</th>\n",
              "      <td>8.70</td>\n",
              "      <td>9.43</td>\n",
              "      <td>7.84</td>\n",
              "      <td>8.86</td>\n",
              "      <td>8.8600</td>\n",
              "      <td>730597000</td>\n",
              "      <td>0.000</td>\n",
              "    </tr>\n",
              "  </tbody>\n",
              "</table>\n",
              "</div>"
            ],
            "text/plain": [
              "             open   high    low  ...  adjusted close     volume  dividend amount\n",
              "2020-01-31  14.14  14.38  12.72  ...         12.6407  407079600            0.000\n",
              "2020-02-28  12.88  13.51  11.70  ...         12.0100  501189700            0.226\n",
              "2020-03-31  12.06  12.39   7.44  ...          8.7700  953472700            0.000\n",
              "2020-04-30   8.50   9.88   7.91  ...          9.0000  589599500            0.000\n",
              "2020-05-29   8.70   9.43   7.84  ...          8.8600  730597000            0.000\n",
              "\n",
              "[5 rows x 7 columns]"
            ]
          },
          "metadata": {
            "tags": []
          },
          "execution_count": 35
        }
      ]
    },
    {
      "cell_type": "markdown",
      "metadata": {
        "id": "2CGN95mUMMD-"
      },
      "source": [
        "# Salvar a tabela gerada em formato Excel"
      ]
    },
    {
      "cell_type": "code",
      "metadata": {
        "cellView": "form",
        "id": "iYCCgNL4KQ3D"
      },
      "source": [
        "#@title\n",
        "f.to_excel(f'Cotações da Empresa {ticker} - {j}.xlsx')\n",
        "print('Arquivo Gerado com Sucesso, favor conferir o diretório o qual este Notebook está Salvo.')"
      ],
      "execution_count": 36,
      "outputs": []
    }
  ]
}