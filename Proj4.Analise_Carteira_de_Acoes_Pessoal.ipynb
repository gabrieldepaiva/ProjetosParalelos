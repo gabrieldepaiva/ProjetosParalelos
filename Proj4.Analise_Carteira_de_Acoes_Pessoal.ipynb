{
  "nbformat": 4,
  "nbformat_minor": 0,
  "metadata": {
    "colab": {
      "name": "Proj4.Analise-Carteira_de_Acoes_Pessoal.ipynb",
      "provenance": [],
      "collapsed_sections": [],
      "authorship_tag": "ABX9TyP2gsh0dEIgyWevNnMRoCLB",
      "include_colab_link": true
    },
    "kernelspec": {
      "name": "python3",
      "display_name": "Python 3"
    }
  },
  "cells": [
    {
      "cell_type": "markdown",
      "metadata": {
        "id": "view-in-github",
        "colab_type": "text"
      },
      "source": [
        "<a href=\"https://colab.research.google.com/github/gabrieldepaiva/Projetos_Financas-Python/blob/main/Proj4_Analise_Carteira_de_Acoes_Pessoal.ipynb\" target=\"_parent\"><img src=\"https://colab.research.google.com/assets/colab-badge.svg\" alt=\"Open In Colab\"/></a>"
      ]
    },
    {
      "cell_type": "markdown",
      "metadata": {
        "id": "U2oTOoz5wUK9"
      },
      "source": [
        "## Importação das Bibliotecas Necessárias"
      ]
    },
    {
      "cell_type": "code",
      "metadata": {
        "id": "prcH2AeyiJGm",
        "colab": {
          "base_uri": "https://localhost:8080/"
        },
        "cellView": "form",
        "outputId": "dc5a2f7f-4346-475d-cbdb-ef704ca3d705"
      },
      "source": [
        "#@title\n",
        "import pandas as pd\n",
        "from pandas_datareader import data\n",
        "import numpy as np\n",
        "import matplotlib.pyplot as plt\n",
        "from google.colab.data_table import DataTable\n",
        "print('Pacotes Necessários Carregados com Sucesso')"
      ],
      "execution_count": null,
      "outputs": [
        {
          "output_type": "stream",
          "text": [
            "Pacotes Necessários Carregados com Sucesso\n"
          ],
          "name": "stdout"
        }
      ]
    },
    {
      "cell_type": "markdown",
      "metadata": {
        "id": "iNztm5baxev3"
      },
      "source": [
        "## Escolha dos ativos que compõem a carteira"
      ]
    },
    {
      "cell_type": "code",
      "metadata": {
        "id": "TYhr4Om2NpYB",
        "colab": {
          "base_uri": "https://localhost:8080/",
          "height": 220
        },
        "cellView": "form",
        "outputId": "125a97d6-0327-4f70-e3f7-27784c5e5c78"
      },
      "source": [
        "#@title\n",
        "print('Pesquisa rápida de cada código das ações das empresas listadas na bolsa de valores')\n",
        "DataBase = pd.read_csv('https://raw.githubusercontent.com/gabrieldepaiva/Projetos_Financas-Python/main/Tickers.csv',sep=';')\n",
        "DataTable(DataBase,include_index=False,num_rows_per_page=5)"
      ],
      "execution_count": null,
      "outputs": [
        {
          "output_type": "stream",
          "text": [
            "Pesquisa rápida de cada código das ações das empresas listadas na bolsa de valores\n"
          ],
          "name": "stdout"
        },
        {
          "output_type": "execute_result",
          "data": {
            "application/vnd.google.colaboratory.module+javascript": "\n      import \"https://ssl.gstatic.com/colaboratory/data_table/a6224c040fa35dcf/data_table.js\";\n\n      window.createDataTable({\n        data: [[\"AES Tiete Energia SA Brazilian Units\",\n\"TIET11.SA\"],\n [\"AF Invest FII - Recebiveis Imobiliarios\",\n\"AFCR11.SA\"],\n [\"Aliansce Sonae Shopping Centers SA\",\n\"ALSO3.SA\"],\n [\"Alianza Trust Renda Imobiliaria FII\",\n\"ALZR11.SA\"],\n [\"Alpargatas SA\",\n\"ALPA3.SA\"],\n [\"Alpargatas SA Preference Shares\",\n\"ALPA4.SA\"],\n [\"Alper Consultoria e Corretora deSegursSA\",\n\"APER3.SA\"],\n [\"Alupar Investimento SA Brazilian Units\",\n\"ALUP11.SA\"],\n [\"Ambev SA\",\n\"ABEV3.SA\"],\n [\"Anima Holding SA\",\n\"ANIM3.SA\"],\n [\"Aragon - Fundo de Investimento Imobiliario\",\n\"RBCO11.SA\"],\n [\"Arezzo Industria E Comercio SA\",\n\"ARZZ3.SA\"],\n [\"Atacadao SA\",\n\"CRFB3.SA\"],\n [\"Autonomy Edificios Corporativos FII\",\n\"AIEC11.SA\"],\n [\"Azul SA\",\n\"AZUL4.SA\"],\n [\"B2W Companhia Digital\",\n\"BTOW3.SA\"],\n [\"B3 SA Brasil Bolsa Balcao\",\n\"B3SA3.SA\"],\n [\"Bahema Educacao SA\",\n\"BAHI3.SA\"],\n [\"Banco ABC Brasil SA\",\n\"ABCB4.SA\"],\n [\"Banco Bradesco SA\",\n\"BBDC3.SA\"],\n [\"Banco Bradesco SA Preference Shares\",\n\"BBDC4.SA\"],\n [\"Banco BTG Pactual SA Brazilian Units\",\n\"BPAC11.SA\"],\n [\"Banco do Brasil SA\",\n\"BBAS3.SA\"],\n [\"Banco do Estado de Sergipe SA Preference Shares\",\n\"BGIP4.SA\"],\n [\"Banco do Estado do Rio Grande do Sul B Pref Shs\",\n\"BRSR6.SA\"],\n [\"Banco do Estado do Rio Grande do Sul SA\",\n\"BRSR3.SA\"],\n [\"Banco Indusval SA\",\n\"IDVL3.SA\"],\n [\"Banco Inter SA Preference Shares\",\n\"BIDI4.SA\"],\n [\"Banco Pan SA\",\n\"BPAN4.SA\"],\n [\"Banco Pine SA Preference Shares\",\n\"PINE4.SA\"],\n [\"Banco Santander Brasil SA Brazilian Units\",\n\"SANB11.SA\"],\n [\"Banestes Recebiveis Imobiliarios FII\",\n\"BCRI11.SA\"],\n [\"Banestes SA Banco do Estado Esprt Santo\",\n\"BEES3.SA\"],\n [\"Banrisul Novas Fronteiras FII\",\n\"BNFS11.SA\"],\n [\"BB Fundo De Investimento Imobiliario Progressivo\",\n\"BBFI11B.SA\"],\n [\"BB Progressivo II FI Imobiliario FII\",\n\"BBPO11.SA\"],\n [\"BB Renda Corporativa FI Imobiliario FII\",\n\"BBRC11.SA\"],\n [\"BB Renda de Papeis Imobiliarios FI imobiliario FII\",\n\"RNDP11.SA\"],\n [\"BB Renda Papeis imobiliarios II FII\",\n\"RDPD11.SA\"],\n [\"BB Seguridade Participacoes SA\",\n\"BBSE3.SA\"],\n [\"Biomm SA\",\n\"BIOM3.SA\"],\n [\"Biosev SA\",\n\"BSEV3.SA\"],\n [\"BK Brasil Operacao e Assessr Rstrnts SA\",\n\"BKBR3.SA\"],\n [\"Bluecap Renda Logistica FII - FII\",\n\"BLCP11.SA\"],\n [\"BR Malls Participacoes SA\",\n\"BRML3.SA\"],\n [\"BR Properties SA\",\n\"BRPR3.SA\"],\n [\"Bradesco Carteira Imobiliaria Ativa\",\n\"BCIA11.SA\"],\n [\"Bradespar SA\",\n\"BRAP3.SA\"],\n [\"Bradespar SA Preference Shares\",\n\"BRAP4.SA\"],\n [\"Brasil Brokers Participacoes SA\",\n\"BBRK3.SA\"],\n [\"Brasil Plural II - FII\",\n\"NEWL11.SA\"],\n [\"Brasilagro Companhia Braslr Propds Agrcl\",\n\"AGRO3.SA\"],\n [\"Braskem SA\",\n\"BRKM3.SA\"],\n [\"Braskem SA Preference Shares Series A\",\n\"BRKM5.SA\"],\n [\"Brazil Real Estate Victory Fund I Fundo de Investimento Imobiliario Closed Fund\",\n\"BREV11.SA\"],\n [\"Brazil Realty FI Imobiliario\",\n\"BZLI11.SA\"],\n [\"Brazilian Graveyard and Death Care Services FII\",\n\"CARE11.SA\"],\n [\"Bresco Logistica Fundo de Investimento Imobiliaro ETF\",\n\"BRCO11.SA\"],\n [\"BRF SA\",\n\"BRFS3.SA\"],\n [\"BTG Pactual Logistica FI Imobiliario\",\n\"BTLG11.SA\"],\n [\"Caixa Rio Bravo FF de Investimento Imobiliario\",\n\"CXRI11.SA\"],\n [\"Caixa Rio Bravo FF de Investimento Imobiliario II\",\n\"CRFF11.SA\"],\n [\"Cambuci Ord Shs\",\n\"CAMB3.SA\"],\n [\"Camil Alimentos SA\",\n\"CAML3.SA\"],\n [\"Capitania Reit FOF - FI Imobiliario\",\n\"CPFF11.SA\"],\n [\"Capitania Securities II Fundo de Investimento Imobiliario Closed Fund\",\n\"CPTS11.SA\"],\n [\"Castello Branco Office Park FI Imobiliario FII\",\n\"CBOP11.SA\"],\n [\"CCR SA\",\n\"CCRO3.SA\"],\n [\"Centrais Eletricas Brasileiras SA\",\n\"ELET3.SA\"],\n [\"Centrais Eletricas Brasileiras SA Preference Shares Series B\",\n\"ELET6.SA\"],\n [\"Centrais Eletricas de Santa Catarina SA Preference Shares\",\n\"CLSC4.SA\"],\n [\"Centro de Imagem Diagnosticos SA\",\n\"AALR3.SA\"],\n [\"CESP Companhia Energetica de Sao Paulo\",\n\"CESP3.SA\"],\n [\"Cia De Fiacao E Tecidos Cedro Cachoeira Preference Shares\",\n\"CEDO4.SA\"],\n [\"Cia Hering\",\n\"HGTX3.SA\"],\n [\"Cia Paranaense De Energia Copel Pref Shs\",\n\"CPLE6.SA\"],\n [\"Cidade Jardim Continental Tower Fdo Inv Imob Cf\",\n\"CJCT11.SA\"],\n [\"Cielo SA\",\n\"CIEL3.SA\"],\n [\"Cogna Educacao SA\",\n\"COGN3.SA\"],\n [\"Companhia Brasileira de Distribuicao\",\n\"PCAR3.SA\"],\n [\"Companhia de Ferro Ligas da Bah Frbs Preference Shares\",\n\"FESA4.SA\"],\n [\"Companhia de Locacao das Americas\",\n\"LCAM3.SA\"],\n [\"Companhia de Saneamento Bsc DEDSP Sbsp\",\n\"SBSP3.SA\"],\n [\"Companhia de Saneamento de Minas Gerais\",\n\"CSMG3.SA\"],\n [\"Companhia de Saneamento Parana SANEPAR Brazilian Units\",\n\"SAPR11.SA\"],\n [\"Companhia de Saneamento Parana SANEPAR Preference Shares\",\n\"SAPR4.SA\"],\n [\"Companhia de Tecidos Nrt d Mns COTEMINAS Preference Shares\",\n\"CTNM4.SA\"],\n [\"Companhia Energetica de Minas Gers CEMIG\",\n\"CMIG3.SA\"],\n [\"Companhia Energetica de Minas Gers CEMIG Preference Shares\",\n\"CMIG4.SA\"],\n [\"Companhia Energetica de Sao Paulo B Pref Shs\",\n\"CESP6.SA\"],\n [\"Companhia Energetica do Ceara - COELCE Preference Shares Series A\",\n\"COCE5.SA\"],\n [\"Companhia Paranaense de Energia - COPEL\",\n\"CPLE3.SA\"],\n [\"Companhia Siderurgica Nacional\",\n\"CSNA3.SA\"],\n [\"Construtora Tenda SA\",\n\"TEND3.SA\"],\n [\"Cosan Logistica SA\",\n\"RLOG3.SA\"],\n [\"Cosan SA\",\n\"CSAN3.SA\"],\n [\"CPFL Energia S.A.\",\n\"CPFE3.SA\"],\n [\"CR2 Empreendimentos Imobiliarios SA\",\n\"CRDE3.SA\"],\n [\"CSHG GR\",\n\"GRLV11.SA\"],\n [\"CSHG Imobiliario FOF FII\",\n\"HGFF11.SA\"],\n [\"CSHG Prime Offices FII - FII\",\n\"HGPO11.SA\"],\n [\"CSHG Real Estate FI Imobiliario-FII\",\n\"HGRE11.SA\"],\n [\"CSHG Recebiveis Imobiliarios FII\",\n\"HGCR11.SA\"],\n [\"CSHG Renda Urbana-FI Imobiliario-FII\",\n\"HGRU11.SA\"],\n [\"CSU Cardsystem SA\",\n\"CARD3.SA\"],\n [\"CTEEP Cia Transm Energia Eletr Paulista Preference Shares\",\n\"TRPL4.SA\"],\n [\"CVC Brasil Operadora e Agencia d Vgns SA\",\n\"CVCB3.SA\"],\n [\"Cyrela Brazil Realty SA Emprdts e Prtpcs\",\n\"CYRE3.SA\"],\n [\"Cyrela Commercial Propertes SA Emp Partp\",\n\"CCPR3.SA\"],\n [\"Diagnosticos da America SA\",\n\"DASA3.SA\"],\n [\"Direcional Engenharia SA\",\n\"DIRR3.SA\"],\n [\"Dommo Energia SA\",\n\"DMMO3.SA\"],\n [\"Duratex SA\",\n\"DTEX3.SA\"],\n [\"Ecorodovias Infraestrutura e Logistic SA\",\n\"ECOR3.SA\"],\n [\"EDP Energias do Brasil SA\",\n\"ENBR3.SA\"],\n [\"Embraer SA\",\n\"EMBR3.SA\"],\n [\"Energisa SA Brazilian Units\",\n\"ENGI11.SA\"],\n [\"Eneva SA\",\n\"ENEV3.SA\"],\n [\"Engie Brasil Energia SA\",\n\"EGIE3.SA\"],\n [\"Equatorial Energia SA\",\n\"EQTL3.SA\"],\n [\"Eucatex SA Industria e Comercio Preference Shares\",\n\"EUCA4.SA\"],\n [\"EVEN Construtora e Incorporadora SA\",\n\"EVEN3.SA\"],\n [\"EZTEC Empreendimentos e Participacoes SA\",\n\"EZTC3.SA\"],\n [\"Fator Verita Fundo Investimento Imobiliario - FII\",\n\"VRTA11.SA\"],\n [\"Fdo Inv Imob Rbr Private Credito Imob Cef\",\n\"RBRY11.SA\"],\n [\"Fertilizantes Heringer SA\",\n\"FHER3.SA\"],\n [\"FI Imobiliario - Ceo Cyrela Commercial Properties\",\n\"CEOC11.SA\"],\n [\"FI Imobiliario - FII CENESP\",\n\"CNES11.SA\"],\n [\"FI imobiliario - FII Cyrela Thera Corporate\",\n\"THRA11.SA\"],\n [\"FI Imobiliario - FII Edificio Galeria\",\n\"EDGA11.SA\"],\n [\"FI Imobiliario - FII Hotel Maxinvest\",\n\"HTMX11.SA\"],\n [\"FI Imobiliario - FII Torre Almirante\",\n\"ALMI11.SA\"],\n [\"FI Imobiliario - FII Torre Norte\",\n\"TRNT11.SA\"],\n [\"FI Imobiliario - FII Vila Olimpia Corporate\",\n\"VLOL11.SA\"],\n [\"FI Imobiliario - Ourinvest Fundo de Fundos\",\n\"OUCY11.SA\"],\n [\"FI Imobiliario - Ourinvest Fundo de Fundos\",\n\"OUFF11.SA\"],\n [\"FI Imobiliario - Ourinvest Fundo de Fundos\",\n\"WTSP11B.SA\"],\n [\"FI Imobiliario - VBI CRI\",\n\"CVBI11.SA\"],\n [\"FI Imobiliario Anhanguera Educacional\",\n\"FAED11.SA\"],\n [\"FI Imobiliario Atrio REIT Recebiveis Imobiliarios\",\n\"ARRI11.SA\"],\n [\"FI Imobiliario Barigui Rendimentos Imobiliarios I\",\n\"BARI11.SA\"],\n [\"FI Imobiliario BTG Pactual Credito Imobiliario\",\n\"BTCR11.SA\"],\n [\"FI Imobiliario BTG Pactual Shoppings Closed Fund\",\n\"BPML11.SA\"],\n [\"FI Imobiliario Caixa Trx Logistica Renda\",\n\"CXTL11.SA\"],\n [\"FI Imobiliario Campus Faria Lima\",\n\"FCFL11.SA\"],\n [\"FI Imobiliario Centro Textil Internacional\",\n\"CTXT11.SA\"],\n [\"FI Imobiliario Continental Square Faria Lima\",\n\"FLMA11.SA\"],\n [\"FI Imobiliario FII BTG Pactual Fundo de Fundos\",\n\"BCFF11.SA\"],\n [\"FI Imobiliario FII Floripa Shopping\",\n\"FLRP11.SA\"],\n [\"FI Imobiliario FII Max Retail\",\n\"MAXR11.SA\"],\n [\"FI Imobiliario Grand Plaza Shopping\",\n\"ABCP11.SA\"],\n [\"FI Imobiliario Iridium Recebiveis Imobiliarios\",\n\"IRDM11.SA\"],\n [\"FI Imobiliario Mogno Fundo de Fundos\",\n\"MGFF11.SA\"],\n [\"FI Imobiliario Multi Renda Urbana\",\n\"HBRH11.SA\"],\n [\"FI Imobiliario Novo Horizonte\",\n\"NVHO11.SA\"],\n [\"FI Imobiliario Presidente Vargas\",\n\"PRSV11.SA\"],\n [\"FI Imobiliario Projeto Agua Branca\",\n\"FPAB11.SA\"],\n [\"FI Imobiliario RBR Alpha Fundo de Fundos\",\n\"RBRF11.SA\"],\n [\"FI Imobiliario RBR Properties - FII\",\n\"RBRP11.SA\"],\n [\"FI Imobiliario RBR Rendimento High Grade\",\n\"RBRR11.SA\"],\n [\"FI Imobiliario Rio Bravo Renda Corporativa\",\n\"RCRB11.SA\"],\n [\"FI Imobiliario VBI Prime Properties\",\n\"PVBI11.SA\"],\n [\"FI Imobiliario Via Parque Shopping-FII\",\n\"FVPQ11.SA\"],\n [\"FI Imobiliario Votorantim Logistica\",\n\"VTLT11.SA\"],\n [\"FI Imobiliario Votorantim Shopping\",\n\"VSHO11.SA\"],\n [\"FI Imobiliario-FII BTG Pactual Fundo de CRI\",\n\"FEXC11.SA\"],\n [\"FI Imobiliario-FII Jardim Sul\",\n\"JRDM11.SA\"],\n [\"FII - FII Brasil Plural Absoluto Fundo de Fundos\",\n\"BPFF11.SA\"],\n [\"FII - FII Parque Dom Pedro Shopping Center\",\n\"PQDP11.SA\"],\n [\"FII ALMIRANTCI MB\",\n\"FAMB11B.SA\"],\n [\"FII BTG Pactual Corporate Office Fund\",\n\"BRCR11.SA\"],\n [\"FII CX CEDAECI ER MB\",\n\"CXCE11B.SA\"],\n [\"FII EUROPAR CI ER\",\n\"EURO11.SA\"],\n [\"FII FOF Integral Brei\",\n\"IBFF11.SA\"],\n [\"FII General Shopping Ativo e Renda - FII\",\n\"FIGS11.SA\"],\n [\"FII Hospital Da Crianca\",\n\"HCRI11.SA\"],\n [\"FII Hospital Nossa Senhora de Lourdes\",\n\"NSLU11.SA\"],\n [\"FII Hospital Unimed Sul Capixaba\",\n\"HUSC11.SA\"],\n [\"FII Imobiliario Rio Negro\",\n\"RNGO11.SA\"],\n [\"FII Industrial do Brasil\",\n\"FIIB11.SA\"],\n [\"FII Maua Capital Recebiveis Imobiliarios FII\",\n\"MCCI11.SA\"],\n [\"FII Memorial Office\",\n\"FMOF11.SA\"],\n [\"FII Mercantil do Brasil\",\n\"MBRF11.SA\"],\n [\"FII Mogno Certificados de Receb Imob High Grade\",\n\"MGCR11.SA\"],\n [\"FII MTGESTAOCI MB\",\n\"DRIT11B.SA\"],\n [\"FII NCH Brasil Recebiveis Imobiliarios\",\n\"NCHB11.SA\"],\n [\"FII OURINVESCI ER MB\",\n\"EDFO11B.SA\"],\n [\"FII RB CAP ICI ER MB\",\n\"FIIP11B.SA\"],\n [\"Fii Rb Capital I Fundo de Fundos\",\n\"RFOF11.SA\"],\n [\"Fii Rec Renda Imobiliaria Closed Fund\",\n\"RECT11.SA\"],\n [\"FII Rio Bravo Renda Varejo-FII\",\n\"RBVA11.SA\"],\n [\"FII SDI Rio Bravo Renda Logistica\",\n\"SDIL11.SA\"],\n [\"FII Shopping Patio Higienopolis\",\n\"SHPH11.SA\"],\n [\"FII TG Ativo Real\",\n\"TGAR11.SA\"],\n [\"FII Vida Nova\",\n\"FIVN11.SA\"],\n [\"FISET Fl Ref Pref Shs\",\n\"FSRF11.SA\"],\n [\"Fleury SA\",\n\"FLRY3.SA\"],\n [\"Fras-le SA\",\n\"FRAS3.SA\"],\n [\"Fundo de FI Imobiliario Kinea FII\",\n\"KFOF11.SA\"],\n [\"Fundo de Investimento Imobiliario - VBI Logistico\",\n\"LVBI11.SA\"],\n [\"Fundo De Investimento Imobiliario - VBI Logistico - Cota Fund\",\n\"NVIF11B.SA\"],\n [\"Fundo de Investimento Imobiliario Athena I\",\n\"FATN11.SA\"],\n [\"Fundo de Investimento imobiliario Housi\",\n\"HOSI11.SA\"],\n [\"Fundo de Investimento Imobiliario Mogno Hoteis\",\n\"MGHT11.SA\"],\n [\"Fundo de Investimento Imobiliario Ourinvest Logistica Closed Fund\",\n\"OULG11.SA\"],\n [\"Fundo de Investimento Imobiliario Panamby\",\n\"PABY11.SA\"],\n [\"Fundo de Investimento Imobiliario Riza Terrax Closed End Fund\",\n\"RZTR11.SA\"],\n [\"Fundo de Investimento Imobiliario The One\",\n\"ONEF11.SA\"],\n [\"Fundo de Investimento Imobiliario V2 Properties Closed Fund\",\n\"VVPR11.SA\"],\n [\"Fundo de Investimentos Imobiliarios Rec Recebiveis Closed Fund\",\n\"RECR11.SA\"],\n [\"Fundo Investimento Imobiliario CSHG Logi\",\n\"HGLG11.SA\"],\n [\"Fundo Investimento Imobiliario Green Towers\",\n\"GTWR11.SA\"],\n [\"Gafisa SA\",\n\"GFSA3.SA\"],\n [\"Galapagos Fundo de Fundos FII FI Imobiliario\",\n\"GCFF11.SA\"],\n [\"General Shopping e Outlets do Brasil FII\",\n\"GSFI11.SA\"],\n [\"General Shopping e Outlets do Brasil SA\",\n\"GSHP3.SA\"],\n [\"Gerdau SA\",\n\"GGBR3.SA\"],\n [\"Gerdau SA Preference Shares\",\n\"GGBR4.SA\"],\n [\"GGR Covepi Renda FII\",\n\"GGRC11.SA\"],\n [\"Gol Linhas Aereas Inteligentes SA\",\n\"GOLL4.SA\"],\n [\"Grazziotin SA\",\n\"CGRA3.SA\"],\n [\"Grazziotin SA Preference Shares\",\n\"CGRA4.SA\"],\n [\"Grendene SA\",\n\"GRND3.SA\"],\n [\"Guararapes Confeccoes SA\",\n\"GUAR3.SA\"],\n [\"Habitat II-Fundo de Investimento Imobiliario\",\n\"HABT11.SA\"],\n [\"Hapvida Participacoes e Investimentos SA\",\n\"HAPV3.SA\"],\n [\"Hectare Ce Fdo Inv Imob\",\n\"HCTR11.SA\"],\n [\"Hedge Atrium Shopping Santo Andre FII\",\n\"ATSA11.SA\"],\n [\"Hedge Brasil Shopping FI Imobiliario\",\n\"HGBS11.SA\"],\n [\"HEDGE LOG STICA FUNDO DE INVESTIMENTO IMOBILI RIO\",\n\"HLOG11.SA\"],\n [\"Hedge Shopping Parque Dom Pedro FII Closed Fund\",\n\"HPDP11.SA\"],\n [\"Hedge Shopping Praca da Moca FI Imobiliario\",\n\"HMOC11.SA\"],\n [\"Hedge Top FOF II 3 FI Imobiliario\",\n\"HFOF11.SA\"],\n [\"Helbor Empreendimentos SA\",\n\"HBOR3.SA\"],\n [\"HSI Malls Fundo de Investimento Imobiliario\",\n\"HSML11.SA\"],\n [\"Hypera SA\",\n\"HYPE3.SA\"],\n [\"IBOVESPA\",\n\"IBOV.SA\"],\n [\"IFI-E Inter Fundo de Investimento Imobiliario\",\n\"IFIE11.SA\"],\n [\"Iguatemi Empresa de Shopping Centers SA\",\n\"IGTA3.SA\"],\n [\"IND FDO IMOB\",\n\"IFIX.SA\"],\n [\"Industrias Romi SA\",\n\"ROMI3.SA\"],\n [\"Instituto Hermes Pardini SA\",\n\"PARD3.SA\"],\n [\"Inter Titulos Imobiliarios Fundo De Investimento Imobiliario Closed Fund\",\n\"BICR11.SA\"],\n [\"International Meal Company Alimentcao SA\",\n\"MEAL3.SA\"],\n [\"Iochpe Maxion SA\",\n\"MYPK3.SA\"],\n [\"IRB Brasil Resseguros SA\",\n\"IRBR3.SA\"],\n [\"Itau Unibanco Holding SA\",\n\"ITUB3.SA\"],\n [\"Itau Unibanco Holding SA Preference Shares\",\n\"ITUB4.SA\"],\n [\"Itausa SA\",\n\"ITSA3.SA\"],\n [\"Itausa SA Preference Shares\",\n\"ITSA4.SA\"],\n [\"JBS SA\",\n\"JBSS3.SA\"],\n [\"JHSF Participacoes SA\",\n\"JHSF3.SA\"],\n [\"JHSF Rio Bravo Fazenda Boa Vista Capital Prot FII\",\n\"RBBV11.SA\"],\n [\"Joao Fortes Engenharia S.A.\",\n\"JFEN3.SA\"],\n [\"JPP Allocation Mogno FI Imobiliario\",\n\"JPPA11.SA\"],\n [\"JS Real Estate Multigestao FII\",\n\"JSRE11.SA\"],\n [\"JSL SA\",\n\"JSLG3.SA\"],\n [\"Kepler Weber SA\",\n\"KEPL3.SA\"],\n [\"Kinea High Yield CRI FI Imobiliario-FII\",\n\"KNHY11.SA\"],\n [\"Kinea II Real Estate Equity FII\",\n\"KNRE11.SA\"],\n [\"Kinea Indices de Precos FII\",\n\"KNIP11.SA\"],\n [\"Kinea Renda Imobiliaria FII\",\n\"KNRI11.SA\"],\n [\"Kinea Rendimentos Imobiliarios FII\",\n\"KNCR11.SA\"],\n [\"Klabin SA Brazilian Units\",\n\"KLBN11.SA\"],\n [\"Legatus Shoppings FI Imobiliario FII\",\n\"LASC11.SA\"],\n [\"Light SA\",\n\"LIGT3.SA\"],\n [\"Linx SA\",\n\"LINX3.SA\"],\n [\"Localiza Rent a Car SA\",\n\"RENT3.SA\"],\n [\"Log Commercial Properties E Participacoe\",\n\"LOGG3.SA\"],\n [\"LOGCP Inter Fundo de Investimento Imobiliario Closed Fund\",\n\"LGCP11.SA\"],\n [\"Log-in Logistica Intermodal SA\",\n\"LOGN3.SA\"],\n [\"Lojas Americanas SA\",\n\"LAME3.SA\"],\n [\"Lojas Americanas SA Preference Shares\",\n\"LAME4.SA\"],\n [\"Lojas Renner SA\",\n\"LREN3.SA\"],\n [\"LPS Brasil - Consultoria de Imoveis SA\",\n\"LPSB3.SA\"],\n [\"Luggo Fundo de Investimento Imobiliario\",\n\"LUGG11.SA\"],\n [\"M. Dias Branco SA Ind Com de Alimentos\",\n\"MDIA3.SA\"],\n [\"MAC Fundo de Investimento Imobiliario\",\n\"DMAC11.SA\"],\n [\"Magazine Luiza SA\",\n\"MGLU3.SA\"],\n [\"Mahle Metal Leve SA\",\n\"LEVE3.SA\"],\n [\"Malls Brasil Plural FI Imobiliario\",\n\"MALL11.SA\"],\n [\"Marcopolo SA\",\n\"POMO3.SA\"],\n [\"Marcopolo SA Preference Shares\",\n\"POMO4.SA\"],\n [\"Marfrig Global Foods SA\",\n\"MRFG3.SA\"],\n [\"Marisa Lojas SA\",\n\"AMAR3.SA\"],\n [\"Maxi Renda Fundo de Investimento Imobiliario - FII\",\n\"MXRF11.SA\"],\n [\"Merito Desenvolvimento Imobiliario I FII\",\n\"MFII11.SA\"],\n [\"Merito Fundos De Acoes Imobiliarias FII Closed Fund\",\n\"MFAI11.SA\"],\n [\"Metalfrio Solutions SA\",\n\"FRIO3.SA\"],\n [\"Metalurgica Gerdau S.A.\",\n\"GOAU3.SA\"],\n [\"Metalurgica Gerdau S.A. Preference Shares\",\n\"GOAU4.SA\"],\n [\"Mills Estruturas e Servicos de Engnhr SA\",\n\"MILS3.SA\"],\n [\"Minerva SA\",\n\"BEEF3.SA\"],\n [\"More Real Estate FOF FII FI Imobiliario\",\n\"MORE11.SA\"],\n [\"Movida Participacoes SA\",\n\"MOVI3.SA\"],\n [\"MRV Engenharia e Participacoes SA\",\n\"MRVE3.SA\"],\n [\"Multiplan Empreendiment. Imobiliarios SA\",\n\"MULT3.SA\"],\n [\"Natura & Co Holding SA\",\n\"NTCO3.SA\"],\n [\"Notre Dame Intermedica Participacoes SA\",\n\"GNDI3.SA\"],\n [\"Odontoprev SA\",\n\"ODPV3.SA\"],\n [\"Omega Geracao SA\",\n\"OMGE3.SA\"],\n [\"Ourinvest JPP FI Imobiliario\",\n\"OUJP11.SA\"],\n [\"Ouro Fino Saude Animal Participacoes SA\",\n\"OFSA3.SA\"],\n [\"Paranapanema SA\",\n\"PMAM3.SA\"],\n [\"Parque Anhanguera FII\",\n\"PQAG11.SA\"],\n [\"Patria Edificios Corporativos FI Imobiliario-FII\",\n\"PATC11.SA\"],\n [\"Patria Logistica Fundo de Investimento Imobiliario\",\n\"PATL11.SA\"],\n [\"PBG SA\",\n\"PTBL3.SA\"],\n [\"Petro Rio SA\",\n\"PRIO3.SA\"],\n [\"Petrobras Distribuidora SA\",\n\"BRDT3.SA\"],\n [\"Petroleo Brasileiro SA Petrobras\",\n\"PETR3.SA\"],\n [\"Petroleo Brasileiro SA Petrobras Preference Shares\",\n\"PETR4.SA\"],\n [\"Pettenati SA Industria Textil Preference Shares\",\n\"PTNT4.SA\"],\n [\"Plural Recebiveis Imobiliarios FII\",\n\"PLCR11.SA\"],\n [\"Polo FII Recebiveis Imobiliarios I\",\n\"PLRI11.SA\"],\n [\"Polo FII Recebiveis Imobiliarios II\",\n\"PORD11.SA\"],\n [\"Porto Seguro SA\",\n\"PSSA3.SA\"],\n [\"Positivo Tecnologia SA\",\n\"POSI3.SA\"],\n [\"Profarma Distribuidora de Produts Frm SA\",\n\"PFRM3.SA\"],\n [\"Qualicorp Consultoria e Cra de Ses SA\",\n\"QUAL3.SA\"],\n [\"Quasar Agro - Fundo de Investimento Imobiliario\",\n\"QAGR11.SA\"],\n [\"Quata Monetai FOF - FII\",\n\"QMFF11.SA\"],\n [\"Raia Drogasil SA\",\n\"RADL3.SA\"],\n [\"Randon SA Implementos e Participacoes\",\n\"RAPT3.SA\"],\n [\"Randon SA Implementos e Participacoes Preference Shares\",\n\"RAPT4.SA\"],\n [\"RB Capital Desenvolvimento Residencial II FII\",\n\"RBDS11.SA\"],\n [\"RB Capital General Shopping Sulacap FII\",\n\"RBGS11.SA\"],\n [\"RB Capital Renda II FI Imobiliario\",\n\"RBRD11.SA\"],\n [\"Rbr Log Fundo de Investimento Imobiliario\",\n\"RBRL11.SA\"],\n [\"Renda de Escritors Fndo de Invto ImoFII\",\n\"NEWU11.SA\"],\n [\"Renova Energia SA\",\n\"RNEW3.SA\"],\n [\"Renova Energia SA Brazilian Units\",\n\"RNEW11.SA\"],\n [\"Renova Energia SA Preference Shares\",\n\"RNEW4.SA\"],\n [\"Restoque Comercio e Confecos de Roups SA\",\n\"LLIS3.SA\"],\n [\"Rio Bravo Credito Imobiliario II FII\",\n\"RBVO11.SA\"],\n [\"Rio Bravo Credito Imobiliario IV FI Imobiliario FII\",\n\"RBIV11.SA\"],\n [\"Rio Bravo IFIX Fundo de FII\",\n\"RBFF11.SA\"],\n [\"Rio Bravo Renda Educacional-FII\",\n\"RBED11.SA\"],\n [\"Rio Paranapanema Energia SA Preference Shares\",\n\"GEPA4.SA\"],\n [\"Riza Arctium Real Estate FII\",\n\"ARCT11.SA\"],\n [\"RNI Negocios Imobiliarios SA\",\n\"RDNI3.SA\"],\n [\"Rossi Residencial SA\",\n\"RSID3.SA\"],\n [\"Rumo SA\",\n\"RAIL3.SA\"],\n [\"Santander Papeis Imobiliarios CDI FII\",\n\"SADI11.SA\"],\n [\"Santander Renda de Alugueis FII\",\n\"SARE11.SA\"],\n [\"Santos Brasil Participacoes SA\",\n\"STBP3.SA\"],\n [\"Sao Carlos Empreendimentos e Part. SA\",\n\"SCAR3.SA\"],\n [\"Sao Martinho SA\",\n\"SMTO3.SA\"],\n [\"SCP Fundo Investimento Imobiliario\",\n\"SCPF11.SA\"],\n [\"Ser Educacional SA\",\n\"SEER3.SA\"],\n [\"Shopping West Plaza FI Imobiliario\",\n\"WPLZ11.SA\"],\n [\"SLC Agricola S.A.\",\n\"SLCE3.SA\"],\n [\"Smiles Fidelidade SA\",\n\"SMLS3.SA\"],\n [\"SP Downtown Fundo Investimento Imobiliario - FII\",\n\"SPTW11.SA\"],\n [\"SP Downtown Fundo Investimento Imobiliario - FII\",\n\"SPTW11.SA\"],\n [\"Springs Global Participacoes SA\",\n\"SGPS3.SA\"],\n [\"Steel Do Brasil Part\",\n\"ADHM3.SA\"],\n [\"Sul America SA Brazilian Units\",\n\"SULA11.SA\"],\n [\"Suzano SA\",\n\"SUZB3.SA\"],\n [\"T4f Entretenimento SA\",\n\"SHOW3.SA\"],\n [\"Technos SA\",\n\"TECN3.SA\"],\n [\"Tecnisa SA\",\n\"TCSA3.SA\"],\n [\"Tegma Gestao Logistica SA\",\n\"TGMA3.SA\"],\n [\"Tellus Properties Fundo de Investimento Imobiliario Closed Fund\",\n\"TEPP11.SA\"],\n [\"Terra Santa Agro SA\",\n\"TESA3.SA\"],\n [\"Tim SA\",\n\"TIMS3.SA\"],\n [\"Tordesilhas EI Fundo de Investimento Imobiliario Closed Fund\",\n\"TORD11.SA\"],\n [\"Totvs SA\",\n\"TOTS3.SA\"],\n [\"Transmissora Alianca Energia Eletrica SA Brazilian Units\",\n\"TAEE11.SA\"],\n [\"Trisul SA\",\n\"TRIS3.SA\"],\n [\"TRX Edificios Corporativos FII\",\n\"XTED11.SA\"],\n [\"TRX Real Estate FII Closed Fund\",\n\"TRXF11.SA\"],\n [\"Tupy SA\",\n\"TUPY3.SA\"],\n [\"Ultrapar Participacoes SA\",\n\"UGPA3.SA\"],\n [\"UNICASA Industria de Moveis S/A\",\n\"UCAS3.SA\"],\n [\"Unipar Participacoes B Pref Shs\",\n\"UNIP6.SA\"],\n [\"Urca Prime Renda FII Closed Fund\",\n\"URPR11.SA\"],\n [\"Usinas Siderurgicas de Minas Gerais A Pref Shs\",\n\"USIM5.SA\"],\n [\"Usinas Siderurgicas de Mins Grs SA USMNS\",\n\"USIM3.SA\"],\n [\"Vale SA\",\n\"VALE3.SA\"],\n [\"Valid Solucoes SA\",\n\"VLID3.SA\"],\n [\"Valora Cri Indice de Preco FI Imobiliario - FII\",\n\"VGIP11.SA\"],\n [\"Valora RE III FI Imobiliario-FII\",\n\"VGIR11.SA\"],\n [\"Vbi Reits Fof - Fundo de Investimento Imobiliario\",\n\"RVBI11.SA\"],\n [\"Vectis Juros Real FI Imobiliario FII\",\n\"VCJR11.SA\"],\n [\"Via Varejo SA\",\n\"VVAR3.SA\"],\n [\"Vinci Instrumentos Financeiros Fundo de Investimento Imobiliario Closed Fund\",\n\"VIFI11.SA\"],\n [\"Vinci Logistica Fundo de Investimento Imobiliario\",\n\"VILG11.SA\"],\n [\"Vinci Offices Fdo Inv Imob - Fii Vinc Cor\",\n\"VINO11.SA\"],\n [\"Vinci Shopping Centers FI Imobiliario\",\n\"VISC11.SA\"],\n [\"Votorantim Securities Master FII-FII\",\n\"VOTS11.SA\"],\n [\"Vulcabras Azaleia SA\",\n\"VULC3.SA\"],\n [\"Weg SA\",\n\"WEGE3.SA\"],\n [\"Wiz Solucoes e Corretagem de Seguros SA\",\n\"WIZS3.SA\"],\n [\"XP Corporate Macae FI Imobiliario\",\n\"XPCM11.SA\"],\n [\"XP Credito Imobiliario Fdo Inv Mob\",\n\"XPCI11.SA\"],\n [\"XP Hoteis - Fdo Inv Imob - FII\",\n\"XPHT11.SA\"],\n [\"XP Industrial Fundo de Investimento Imobiliario\",\n\"XPIN11.SA\"],\n [\"XP Log Fundo de Investimento Imobiliario-FII\",\n\"XPLG11.SA\"],\n [\"XP Malls Fundo de Investimento Imobiliario\",\n\"XPML11.SA\"],\n [\"XP Properties FII - FII\",\n\"XPPR11.SA\"],\n [\"Xp Selection Fundo de Fundos Inv Imob Fii\",\n\"XPSF11.SA\"],\n [\"#N/D\",\n\"VIVT4.SA\"]],\n        columns: [[\"string\", \"Empresa\"], [\"string\", \"Ticker\"]],\n        columnOptions: [],\n        rowsPerPage: 5,\n        helpUrl: \"https://colab.research.google.com/notebooks/data_table.ipynb\",\n        suppressOutputScrolling: true,\n        minimumWidth: undefined,\n      });\n    ",
            "text/plain": [
              "<google.colab.data_table.DataTable object>"
            ],
            "text/html": [
              "<div>\n",
              "<style scoped>\n",
              "    .dataframe tbody tr th:only-of-type {\n",
              "        vertical-align: middle;\n",
              "    }\n",
              "\n",
              "    .dataframe tbody tr th {\n",
              "        vertical-align: top;\n",
              "    }\n",
              "\n",
              "    .dataframe thead th {\n",
              "        text-align: right;\n",
              "    }\n",
              "</style>\n",
              "<table border=\"1\" class=\"dataframe\">\n",
              "  <thead>\n",
              "    <tr style=\"text-align: right;\">\n",
              "      <th></th>\n",
              "      <th>Empresa</th>\n",
              "      <th>Ticker</th>\n",
              "    </tr>\n",
              "  </thead>\n",
              "  <tbody>\n",
              "    <tr>\n",
              "      <th>0</th>\n",
              "      <td>AES Tiete Energia SA Brazilian Units</td>\n",
              "      <td>TIET11.SA</td>\n",
              "    </tr>\n",
              "    <tr>\n",
              "      <th>1</th>\n",
              "      <td>AF Invest FII - Recebiveis Imobiliarios</td>\n",
              "      <td>AFCR11.SA</td>\n",
              "    </tr>\n",
              "    <tr>\n",
              "      <th>2</th>\n",
              "      <td>Aliansce Sonae Shopping Centers SA</td>\n",
              "      <td>ALSO3.SA</td>\n",
              "    </tr>\n",
              "    <tr>\n",
              "      <th>3</th>\n",
              "      <td>Alianza Trust Renda Imobiliaria FII</td>\n",
              "      <td>ALZR11.SA</td>\n",
              "    </tr>\n",
              "    <tr>\n",
              "      <th>4</th>\n",
              "      <td>Alpargatas SA</td>\n",
              "      <td>ALPA3.SA</td>\n",
              "    </tr>\n",
              "    <tr>\n",
              "      <th>...</th>\n",
              "      <td>...</td>\n",
              "      <td>...</td>\n",
              "    </tr>\n",
              "    <tr>\n",
              "      <th>398</th>\n",
              "      <td>XP Log Fundo de Investimento Imobiliario-FII</td>\n",
              "      <td>XPLG11.SA</td>\n",
              "    </tr>\n",
              "    <tr>\n",
              "      <th>399</th>\n",
              "      <td>XP Malls Fundo de Investimento Imobiliario</td>\n",
              "      <td>XPML11.SA</td>\n",
              "    </tr>\n",
              "    <tr>\n",
              "      <th>400</th>\n",
              "      <td>XP Properties FII - FII</td>\n",
              "      <td>XPPR11.SA</td>\n",
              "    </tr>\n",
              "    <tr>\n",
              "      <th>401</th>\n",
              "      <td>Xp Selection Fundo de Fundos Inv Imob Fii</td>\n",
              "      <td>XPSF11.SA</td>\n",
              "    </tr>\n",
              "    <tr>\n",
              "      <th>402</th>\n",
              "      <td>#N/D</td>\n",
              "      <td>VIVT4.SA</td>\n",
              "    </tr>\n",
              "  </tbody>\n",
              "</table>\n",
              "<p>403 rows × 2 columns</p>\n",
              "</div>"
            ]
          },
          "metadata": {
            "tags": []
          },
          "execution_count": 2
        }
      ]
    },
    {
      "cell_type": "code",
      "metadata": {
        "id": "mNpK3IUqrhn8",
        "colab": {
          "base_uri": "https://localhost:8080/"
        },
        "cellView": "form",
        "outputId": "c2204c32-74a7-4ede-dd36-bdbf0e20496d"
      },
      "source": [
        "#@title\n",
        "print('Usar a nomenclatura utilizada no Yahoo Finance. Ex: PETR4.SA:')\n",
        "print('')\n",
        "\n",
        "# Código Base para incluir os ativos na carteira\n",
        "opcao = 1\n",
        "carteira = []\n",
        "\n",
        "carteira.append(input('Digite o nome do ativo. - '))\n",
        "opcao = int(input('Deseja digitar outro ativo? [1] Sim / [2] Não - '))\n",
        "\n",
        "while True:\n",
        "  if opcao == 1:\n",
        "    carteira.append(input('Digite o nome do ativo. - '))\n",
        "    opcao = int(input('Deseja digitar outro ativo? [1] Sim / [2] Não - '))\n",
        "  elif opcao != 1 and opcao != 2:\n",
        "    opcao = int(input('Escolha entre [1] Sim / [2] Não - '))\n",
        "  else:\n",
        "    break\n",
        "\n",
        "print('')\n",
        "print(f'Sua carteira é composta pelos seguintes ativos: {carteira}')"
      ],
      "execution_count": null,
      "outputs": [
        {
          "output_type": "stream",
          "text": [
            "Usar a nomenclatura utilizada no Yahoo Finance. Ex: PETR4.SA:\n",
            "\n",
            "Digite o nome do ativo. - MXRF11.SA\n",
            "Deseja digitar outro ativo? [1] Sim / [2] Não - 1\n",
            "Digite o nome do ativo. - BEES3.SA\n",
            "Deseja digitar outro ativo? [1] Sim / [2] Não - 1\n",
            "Digite o nome do ativo. - BBAS3.SA\n",
            "Deseja digitar outro ativo? [1] Sim / [2] Não - 1\n",
            "Digite o nome do ativo. - TAEE11.SA\n",
            "Deseja digitar outro ativo? [1] Sim / [2] Não - 1\n",
            "Digite o nome do ativo. - ITSA4.SA\n",
            "Deseja digitar outro ativo? [1] Sim / [2] Não - 2\n",
            "\n",
            "Sua carteira é composta pelos seguintes ativos: ['MXRF11.SA', 'BEES3.SA', 'BBAS3.SA', 'TAEE11.SA', 'ITSA4.SA']\n"
          ],
          "name": "stdout"
        }
      ]
    },
    {
      "cell_type": "markdown",
      "metadata": {
        "id": "Ddt6ea3Jxmai"
      },
      "source": [
        "## Atribuindo os Pesos para esses Ativos"
      ]
    },
    {
      "cell_type": "code",
      "metadata": {
        "id": "TaagHv4Jf7mN",
        "cellView": "form",
        "colab": {
          "base_uri": "https://localhost:8080/"
        },
        "outputId": "3543f1b8-823e-4e90-f5aa-0a837426f3aa"
      },
      "source": [
        "#@title\n",
        "lista = [carteira]\n",
        "\n",
        "pesos = []\n",
        "\n",
        "try:\n",
        "  for loc, ativo in enumerate(carteira):\n",
        "    pesos.append(float(input(f'Escreva o peso do ativo {carteira[loc]} (somente o número) - '))/100)\n",
        "except:\n",
        "  print('')\n",
        "  print('\\033[31mO valor digitado resultou em um erro.\\033[m')\n",
        "  print('Favor executar esta célula novamente!')\n",
        "\n",
        "# pode ser que não precise dessa parte do código\n",
        "else:\n",
        "  if sum(pesos) != 1:\n",
        "    print('')\n",
        "    print(f'\\033[31mA soma dos pesos resultou em {sum(pesos)*100}%, a soma deve ser 100%!\\033[31m')\n",
        "    print('Favor executar esta célula novamente!')"
      ],
      "execution_count": null,
      "outputs": [
        {
          "output_type": "stream",
          "text": [
            "Escreva o peso do ativo MXRF11.SA (somente o número) - 10\n",
            "Escreva o peso do ativo BEES3.SA (somente o número) - 20\n",
            "Escreva o peso do ativo BBAS3.SA (somente o número) - 30\n",
            "Escreva o peso do ativo TAEE11.SA (somente o número) - 20\n",
            "Escreva o peso do ativo ITSA4.SA (somente o número) - 20\n"
          ],
          "name": "stdout"
        }
      ]
    },
    {
      "cell_type": "markdown",
      "metadata": {
        "id": "eA8KJBTF1F9S"
      },
      "source": [
        "## Importação da base de dados com as cotações diárias do Yahoo Finance"
      ]
    },
    {
      "cell_type": "code",
      "metadata": {
        "id": "2SxEUbXZ1NJh",
        "colab": {
          "base_uri": "https://localhost:8080/"
        },
        "cellView": "form",
        "outputId": "8c85a3d7-2951-41a5-d26a-b05a460a2e8a"
      },
      "source": [
        "#@title\n",
        "inicio = input('A partir de qual data? Colocar em formato americano. Ex: \"ano\"-\"mês\"-\"dia\" -->> ')\n",
        "\n",
        "BaseDados = pd.DataFrame()\n",
        "\n",
        "for acao in carteira:\n",
        "  BaseDados[acao] = data.DataReader(acao, data_source = 'yahoo',start = inicio)['Adj Close']\n",
        "\n",
        "print('')\n",
        "print('Importação dos dados realizada com sucesso!')"
      ],
      "execution_count": null,
      "outputs": [
        {
          "output_type": "stream",
          "text": [
            "A partir de qual data? Colocar em formato americano. Ex: \"ano\"-\"mês\"-\"dia\" -->> 2020-01-01\n",
            "\n",
            "Importação dos dados realizada com sucesso!\n"
          ],
          "name": "stdout"
        }
      ]
    },
    {
      "cell_type": "markdown",
      "metadata": {
        "id": "SLdDym7UoM4n"
      },
      "source": [
        "##### Resultado da tabela que foi gerada de forma parcial"
      ]
    },
    {
      "cell_type": "code",
      "metadata": {
        "id": "dFvyWIEg2lSb",
        "colab": {
          "base_uri": "https://localhost:8080/",
          "height": 235
        },
        "cellView": "form",
        "outputId": "98542096-6252-4153-fda0-de0449fecd9f"
      },
      "source": [
        "#@title\n",
        "# Resultado da tabela que foi gerada parcialmente\n",
        "BaseDados.head()"
      ],
      "execution_count": null,
      "outputs": [
        {
          "output_type": "execute_result",
          "data": {
            "text/html": [
              "<div>\n",
              "<style scoped>\n",
              "    .dataframe tbody tr th:only-of-type {\n",
              "        vertical-align: middle;\n",
              "    }\n",
              "\n",
              "    .dataframe tbody tr th {\n",
              "        vertical-align: top;\n",
              "    }\n",
              "\n",
              "    .dataframe thead th {\n",
              "        text-align: right;\n",
              "    }\n",
              "</style>\n",
              "<table border=\"1\" class=\"dataframe\">\n",
              "  <thead>\n",
              "    <tr style=\"text-align: right;\">\n",
              "      <th></th>\n",
              "      <th>MXRF11.SA</th>\n",
              "      <th>BEES3.SA</th>\n",
              "      <th>BBAS3.SA</th>\n",
              "      <th>TAEE11.SA</th>\n",
              "      <th>ITSA4.SA</th>\n",
              "    </tr>\n",
              "    <tr>\n",
              "      <th>Date</th>\n",
              "      <th></th>\n",
              "      <th></th>\n",
              "      <th></th>\n",
              "      <th></th>\n",
              "      <th></th>\n",
              "    </tr>\n",
              "  </thead>\n",
              "  <tbody>\n",
              "    <tr>\n",
              "      <th>2020-01-02</th>\n",
              "      <td>14.12</td>\n",
              "      <td>6.228553</td>\n",
              "      <td>51.715546</td>\n",
              "      <td>28.625641</td>\n",
              "      <td>13.812769</td>\n",
              "    </tr>\n",
              "    <tr>\n",
              "      <th>2020-01-03</th>\n",
              "      <td>13.75</td>\n",
              "      <td>6.219015</td>\n",
              "      <td>51.629032</td>\n",
              "      <td>28.588511</td>\n",
              "      <td>13.610631</td>\n",
              "    </tr>\n",
              "    <tr>\n",
              "      <th>2020-01-06</th>\n",
              "      <td>13.16</td>\n",
              "      <td>6.228553</td>\n",
              "      <td>50.946541</td>\n",
              "      <td>28.764870</td>\n",
              "      <td>13.581754</td>\n",
              "    </tr>\n",
              "    <tr>\n",
              "      <th>2020-01-07</th>\n",
              "      <td>12.94</td>\n",
              "      <td>6.228553</td>\n",
              "      <td>50.562042</td>\n",
              "      <td>28.421438</td>\n",
              "      <td>13.398867</td>\n",
              "    </tr>\n",
              "    <tr>\n",
              "      <th>2020-01-08</th>\n",
              "      <td>12.50</td>\n",
              "      <td>6.323937</td>\n",
              "      <td>50.100639</td>\n",
              "      <td>28.133696</td>\n",
              "      <td>13.196730</td>\n",
              "    </tr>\n",
              "  </tbody>\n",
              "</table>\n",
              "</div>"
            ],
            "text/plain": [
              "            MXRF11.SA  BEES3.SA   BBAS3.SA  TAEE11.SA   ITSA4.SA\n",
              "Date                                                            \n",
              "2020-01-02      14.12  6.228553  51.715546  28.625641  13.812769\n",
              "2020-01-03      13.75  6.219015  51.629032  28.588511  13.610631\n",
              "2020-01-06      13.16  6.228553  50.946541  28.764870  13.581754\n",
              "2020-01-07      12.94  6.228553  50.562042  28.421438  13.398867\n",
              "2020-01-08      12.50  6.323937  50.100639  28.133696  13.196730"
            ]
          },
          "metadata": {
            "tags": []
          },
          "execution_count": 10
        }
      ]
    },
    {
      "cell_type": "markdown",
      "metadata": {
        "id": "7I9Hqw7K438k"
      },
      "source": [
        "## Inclusão da coluna com o retorno diário da carteira "
      ]
    },
    {
      "cell_type": "markdown",
      "metadata": {
        "id": "HD0YUsmPo0YX"
      },
      "source": [
        "##### Tabela gerada com os resultados consolidados"
      ]
    },
    {
      "cell_type": "code",
      "metadata": {
        "id": "un79H8hIHfOI",
        "cellView": "form",
        "colab": {
          "base_uri": "https://localhost:8080/",
          "height": 235
        },
        "outputId": "3ff82f01-68dd-43d4-f6e2-a170bb5af2f3"
      },
      "source": [
        "#@title\n",
        "# Retorno acumulado de cada ação\n",
        "\n",
        "retorno_acumulado = ((BaseDados/BaseDados.iloc[0])-1)*100\n",
        "\n",
        "w = np.array(pesos)\n",
        "\n",
        "ValorTotal = (retorno_acumulado * w)\n",
        "ValorTotal['Retorno'] = ValorTotal.sum(axis=1)\n",
        "ValorTotal.tail()"
      ],
      "execution_count": null,
      "outputs": [
        {
          "output_type": "execute_result",
          "data": {
            "text/html": [
              "<div>\n",
              "<style scoped>\n",
              "    .dataframe tbody tr th:only-of-type {\n",
              "        vertical-align: middle;\n",
              "    }\n",
              "\n",
              "    .dataframe tbody tr th {\n",
              "        vertical-align: top;\n",
              "    }\n",
              "\n",
              "    .dataframe thead th {\n",
              "        text-align: right;\n",
              "    }\n",
              "</style>\n",
              "<table border=\"1\" class=\"dataframe\">\n",
              "  <thead>\n",
              "    <tr style=\"text-align: right;\">\n",
              "      <th></th>\n",
              "      <th>MXRF11.SA</th>\n",
              "      <th>BEES3.SA</th>\n",
              "      <th>BBAS3.SA</th>\n",
              "      <th>TAEE11.SA</th>\n",
              "      <th>ITSA4.SA</th>\n",
              "      <th>Retorno</th>\n",
              "    </tr>\n",
              "    <tr>\n",
              "      <th>Date</th>\n",
              "      <th></th>\n",
              "      <th></th>\n",
              "      <th></th>\n",
              "      <th></th>\n",
              "      <th></th>\n",
              "      <th></th>\n",
              "    </tr>\n",
              "  </thead>\n",
              "  <tbody>\n",
              "    <tr>\n",
              "      <th>2020-12-28</th>\n",
              "      <td>-2.669971</td>\n",
              "      <td>-3.139469</td>\n",
              "      <td>-7.173209</td>\n",
              "      <td>3.496418</td>\n",
              "      <td>-2.914360</td>\n",
              "      <td>-12.400591</td>\n",
              "    </tr>\n",
              "    <tr>\n",
              "      <th>2020-12-29</th>\n",
              "      <td>-2.606233</td>\n",
              "      <td>-2.370168</td>\n",
              "      <td>-7.306631</td>\n",
              "      <td>3.454497</td>\n",
              "      <td>-2.813004</td>\n",
              "      <td>-11.641539</td>\n",
              "    </tr>\n",
              "    <tr>\n",
              "      <th>2020-12-30</th>\n",
              "      <td>-2.570822</td>\n",
              "      <td>-2.530439</td>\n",
              "      <td>-7.492262</td>\n",
              "      <td>3.335723</td>\n",
              "      <td>-3.015716</td>\n",
              "      <td>-12.273515</td>\n",
              "    </tr>\n",
              "    <tr>\n",
              "      <th>2021-01-04</th>\n",
              "      <td>-2.620396</td>\n",
              "      <td>-2.018295</td>\n",
              "      <td>-8.043354</td>\n",
              "      <td>3.056252</td>\n",
              "      <td>-3.290823</td>\n",
              "      <td>-12.916616</td>\n",
              "    </tr>\n",
              "    <tr>\n",
              "      <th>2021-01-05</th>\n",
              "      <td>-2.577904</td>\n",
              "      <td>-2.275176</td>\n",
              "      <td>-8.345002</td>\n",
              "      <td>3.112148</td>\n",
              "      <td>-3.392178</td>\n",
              "      <td>-13.478113</td>\n",
              "    </tr>\n",
              "  </tbody>\n",
              "</table>\n",
              "</div>"
            ],
            "text/plain": [
              "            MXRF11.SA  BEES3.SA  BBAS3.SA  TAEE11.SA  ITSA4.SA    Retorno\n",
              "Date                                                                     \n",
              "2020-12-28  -2.669971 -3.139469 -7.173209   3.496418 -2.914360 -12.400591\n",
              "2020-12-29  -2.606233 -2.370168 -7.306631   3.454497 -2.813004 -11.641539\n",
              "2020-12-30  -2.570822 -2.530439 -7.492262   3.335723 -3.015716 -12.273515\n",
              "2021-01-04  -2.620396 -2.018295 -8.043354   3.056252 -3.290823 -12.916616\n",
              "2021-01-05  -2.577904 -2.275176 -8.345002   3.112148 -3.392178 -13.478113"
            ]
          },
          "metadata": {
            "tags": []
          },
          "execution_count": 11
        }
      ]
    },
    {
      "cell_type": "markdown",
      "metadata": {
        "id": "5ZMtUWaY5Oza"
      },
      "source": [
        "## Escolha dos Benchmarks"
      ]
    },
    {
      "cell_type": "code",
      "metadata": {
        "cellView": "form",
        "id": "e_erilkVLaYy",
        "colab": {
          "base_uri": "https://localhost:8080/"
        },
        "outputId": "7232d71b-9e19-471e-a84c-82e00f5e9396"
      },
      "source": [
        "#@title\n",
        "print('Usar a nomenclatura utilizada no Yahoo Finance. Ex: Para o Ibovespa, ^BVSP; para os fundos imobiliários, IFIX.SA e para o S&P 500 é ^GSPC')\n",
        "print('')\n",
        "\n",
        "benchmarks = []\n",
        "\n",
        "q = 's'\n",
        "\n",
        "q = input('Deseja incluir algum benchmark? Se sim, digite \"s\", caso contrário tecle \"Enter\" - ')\n",
        "if q == 's':\n",
        "\n",
        "  # inclusão dos benchmarks\n",
        "  escolha = 1\n",
        "\n",
        "  benchmarks.append(input('Digite o código do benchmark. - '))\n",
        "  escolha = int(input('Deseja adicionar outro? [1] Sim / [2] Não - '))\n",
        "\n",
        "  while True:\n",
        "    if escolha == 1:\n",
        "      benchmarks.append(input('Digite o nome do benchmark. - '))\n",
        "      escolha = int(input('Deseja adicionar outro? [1] Sim / [2] Não - '))\n",
        "    elif opcao != 1 and opcao != 2:\n",
        "      opcao = int(input('Escolha entre [1] Sim / [2] Não - '))\n",
        "    else:\n",
        "      break\n",
        "\n",
        "  print('')\n",
        "  print(f'Os seguintes benchmarks foram incluídos : {benchmarks}')"
      ],
      "execution_count": null,
      "outputs": [
        {
          "output_type": "stream",
          "text": [
            "Usar a nomenclatura utilizada no Yahoo Finance. Ex: Para o Ibovespa, ^BVSP; para os fundos imobiliários, IFIX.SA e para o S&P 500 é ^GSPC\n",
            "\n",
            "Deseja incluir algum benchmark? Se sim, digite \"s\", caso contrário tecle \"Enter\" - s\n",
            "Digite o código do benchmark. - ^BVSP\n",
            "Deseja adicionar outro? [1] Sim / [2] Não - 2\n",
            "\n",
            "Os seguintes benchmarks foram incluídos : ['^BVSP']\n"
          ],
          "name": "stdout"
        }
      ]
    },
    {
      "cell_type": "markdown",
      "metadata": {
        "id": "qw6zFYstpH5X"
      },
      "source": [
        "##### Importação dos dados dos benchmarks que foram escolhidos"
      ]
    },
    {
      "cell_type": "code",
      "metadata": {
        "cellView": "form",
        "id": "CoD2nA5VcmZN",
        "colab": {
          "base_uri": "https://localhost:8080/"
        },
        "outputId": "6094fd7d-ae05-48b0-d9da-c9bd4ab8a2c8"
      },
      "source": [
        "#@title\n",
        "#Os dados referentes aos benchmarks escolhidos serão importados para posterior análise\n",
        "\n",
        "BaseDados2 = pd.DataFrame()\n",
        "\n",
        "for indice in benchmarks:\n",
        "  BaseDados2[indice] = data.DataReader(indice, data_source = 'yahoo',start = inicio)['Adj Close']\n",
        "\n",
        "bmk_var_acum = ((BaseDados2/BaseDados2.iloc[0])-1)*100\n",
        "\n",
        "print('Importação dos dados realizada com sucesso!')"
      ],
      "execution_count": null,
      "outputs": [
        {
          "output_type": "stream",
          "text": [
            "Importação dos dados realizada com sucesso!\n"
          ],
          "name": "stdout"
        }
      ]
    },
    {
      "cell_type": "markdown",
      "metadata": {
        "id": "imaeqiAJpfVd"
      },
      "source": [
        "### Criação da Tabela Carteira X Benchmarks"
      ]
    },
    {
      "cell_type": "markdown",
      "metadata": {
        "id": "sQu0n0_yp6fW"
      },
      "source": [
        "##### Resultado da tabela criada"
      ]
    },
    {
      "cell_type": "code",
      "metadata": {
        "id": "RmqfkLvYkNMI",
        "cellView": "form",
        "colab": {
          "base_uri": "https://localhost:8080/",
          "height": 235
        },
        "outputId": "ca45c439-c1ce-4a74-fcac-7f41436c18ce"
      },
      "source": [
        "#@title\n",
        "# Criação da tabela com o retorno acumulado da carteira e dos benchmarks selecionados\n",
        "\n",
        "tabela_final = pd.DataFrame()\n",
        "\n",
        "tabela_final['Sua Carteira'] = ValorTotal['Retorno']\n",
        "\n",
        "for i in benchmarks:\n",
        "  tabela_final[i] = bmk_var_acum[i]\n",
        "\n",
        "tabela_final.head()"
      ],
      "execution_count": null,
      "outputs": [
        {
          "output_type": "execute_result",
          "data": {
            "text/html": [
              "<div>\n",
              "<style scoped>\n",
              "    .dataframe tbody tr th:only-of-type {\n",
              "        vertical-align: middle;\n",
              "    }\n",
              "\n",
              "    .dataframe tbody tr th {\n",
              "        vertical-align: top;\n",
              "    }\n",
              "\n",
              "    .dataframe thead th {\n",
              "        text-align: right;\n",
              "    }\n",
              "</style>\n",
              "<table border=\"1\" class=\"dataframe\">\n",
              "  <thead>\n",
              "    <tr style=\"text-align: right;\">\n",
              "      <th></th>\n",
              "      <th>Sua Carteira</th>\n",
              "      <th>^BVSP</th>\n",
              "    </tr>\n",
              "    <tr>\n",
              "      <th>Date</th>\n",
              "      <th></th>\n",
              "      <th></th>\n",
              "    </tr>\n",
              "  </thead>\n",
              "  <tbody>\n",
              "    <tr>\n",
              "      <th>2020-01-02</th>\n",
              "      <td>0.000000</td>\n",
              "      <td>0.000000</td>\n",
              "    </tr>\n",
              "    <tr>\n",
              "      <th>2020-01-03</th>\n",
              "      <td>-0.661476</td>\n",
              "      <td>-0.730352</td>\n",
              "    </tr>\n",
              "    <tr>\n",
              "      <th>2020-01-06</th>\n",
              "      <td>-1.363203</td>\n",
              "      <td>-1.429499</td>\n",
              "    </tr>\n",
              "    <tr>\n",
              "      <th>2020-01-07</th>\n",
              "      <td>-2.246812</td>\n",
              "      <td>-1.611665</td>\n",
              "    </tr>\n",
              "    <tr>\n",
              "      <th>2020-01-08</th>\n",
              "      <td>-3.013525</td>\n",
              "      <td>-1.961661</td>\n",
              "    </tr>\n",
              "  </tbody>\n",
              "</table>\n",
              "</div>"
            ],
            "text/plain": [
              "            Sua Carteira     ^BVSP\n",
              "Date                              \n",
              "2020-01-02      0.000000  0.000000\n",
              "2020-01-03     -0.661476 -0.730352\n",
              "2020-01-06     -1.363203 -1.429499\n",
              "2020-01-07     -2.246812 -1.611665\n",
              "2020-01-08     -3.013525 -1.961661"
            ]
          },
          "metadata": {
            "tags": []
          },
          "execution_count": 14
        }
      ]
    },
    {
      "cell_type": "markdown",
      "metadata": {
        "id": "-whGDrNx5UCC"
      },
      "source": [
        "## Visualizações e Análises dos Dados Importados e Normalizados"
      ]
    },
    {
      "cell_type": "markdown",
      "metadata": {
        "id": "9AI6VTNaqlPc"
      },
      "source": [
        "##### Visualização dos ativos que compõem a carteira"
      ]
    },
    {
      "cell_type": "code",
      "metadata": {
        "id": "mJ7M5m07vR7f",
        "colab": {
          "base_uri": "https://localhost:8080/",
          "height": 521
        },
        "cellView": "form",
        "outputId": "08c75c04-3a35-4464-91a9-91efdc7aebee"
      },
      "source": [
        "#@title\n",
        "# Visualização da Representatividade na carteira\n",
        "listafinal = []\n",
        "\n",
        "valorinvestido = float(int(input('Quanto é o patrimônio da carteira? ')))\n",
        "\n",
        "for numero in pesos:\n",
        "  listafinal.append(numero * valorinvestido)\n",
        "\n",
        "listafinal\n",
        "\n",
        "x_list = listafinal\n",
        "labels_list = carteira\n",
        "plt.figure(figsize=(8,8))\n",
        "plt.axis('equal')\n",
        "plt.pie(x_list,autopct='%1.1f%%',labels=labels_list)\n",
        "plt.title('Composição da Carteira',size=20)\n",
        "print('')"
      ],
      "execution_count": null,
      "outputs": [
        {
          "output_type": "stream",
          "text": [
            "Quanto é o patrimônio da carteira? 1000\n",
            "\n"
          ],
          "name": "stdout"
        },
        {
          "output_type": "display_data",
          "data": {
            "image/png": "[encoded data removed]",
            "text/plain": [
              "<Figure size 576x576 with 1 Axes>"
            ]
          },
          "metadata": {
            "tags": []
          }
        }
      ]
    },
    {
      "cell_type": "markdown",
      "metadata": {
        "id": "I8uA6QOyqfAR"
      },
      "source": [
        "##### Visualização das variações da carteira e benchmarks acumulados"
      ]
    },
    {
      "cell_type": "code",
      "metadata": {
        "id": "70hVfRKOeROl",
        "colab": {
          "base_uri": "https://localhost:8080/",
          "height": 483
        },
        "cellView": "form",
        "outputId": "e9b54653-d1b7-448a-f207-b06ccb0b2b75"
      },
      "source": [
        "#@title\n",
        "# Visualização das variações da carteira e benchmarks acumulados\n",
        "cores = ['c','#368B8B','#276666','#276666','#0FA7A7']\n",
        "\n",
        "tabela_final['Sua Carteira'].plot(color='b',LineWidth=5,figsize=(22,8))\n",
        "for loc,j in enumerate(benchmarks):\n",
        "  tabela_final[j].plot(color=cores[loc])\n",
        "plt.legend()\n",
        "plt.title ('Retorno Acumulado da Carteira de Investimentos',size=20)\n",
        "plt.xlabel('')\n",
        "plt.ylabel('Variação Percentual (%)')\n",
        "print('')"
      ],
      "execution_count": null,
      "outputs": [
        {
          "output_type": "stream",
          "text": [
            "\n"
          ],
          "name": "stdout"
        },
        {
          "output_type": "display_data",
          "data": {
            "image/png": "[encoded data removed]",
            "text/plain": [
              "<Figure size 1584x576 with 1 Axes>"
            ]
          },
          "metadata": {
            "tags": [],
            "needs_background": "light"
          }
        }
      ]
    },
    {
      "cell_type": "markdown",
      "metadata": {
        "id": "p8IwXcu6q7ty"
      },
      "source": [
        "##### Lista de Resultados da carteira analisada"
      ]
    },
    {
      "cell_type": "code",
      "metadata": {
        "cellView": "form",
        "id": "HlrIKmvvRIi5",
        "colab": {
          "base_uri": "https://localhost:8080/"
        },
        "outputId": "25928262-032a-4c47-91db-5a9890f98757"
      },
      "source": [
        "#@title\n",
        "BaseDados['Soma'] = BaseDados.sum(axis=1)\n",
        "\n",
        "ret_cart = BaseDados['Soma'].pct_change().mean()*100\n",
        "risco_cart = BaseDados['Soma'].pct_change().std()*100\n",
        "linhas = BaseDados['Soma'].pct_change().count()\n",
        "ret_acum_cart = tabela_final['Sua Carteira'].iloc[linhas]\n",
        "\n",
        "print(f'Variação diária média da carteira: {round(ret_cart,2)}% a.p.')\n",
        "print(f'Retorno acumulado da carteira: {round(ret_acum_cart,2)}% a.p.')\n",
        "print(f'Risco da carteira: {round(risco_cart,2)}% a.p')\n",
        "if q == 's':\n",
        "  if '^BVSP' in tabela_final:\n",
        "    ret_acum_ibov = tabela_final['^BVSP'].iloc[linhas]\n",
        "    dci = round(((ret_acum_cart/ret_acum_ibov)-1)*100,2)\n",
        "    print(f'Desempenho em relação ao Ibovespa: {dci}%.')\n",
        "  else:\n",
        "    print('')"
      ],
      "execution_count": null,
      "outputs": [
        {
          "output_type": "stream",
          "text": [
            "Variação diária média da carteira: -0.04% a.p.\n",
            "Retorno acumulado da carteira: -13.48% a.p.\n",
            "Risco da carteira: 2.27% a.p\n",
            "Desempenho em relação ao Ibovespa: -1728.15%.\n"
          ],
          "name": "stdout"
        }
      ]
    },
    {
      "cell_type": "markdown",
      "metadata": {
        "id": "K1hTEAT4Grwu"
      },
      "source": [
        "# Visualizações Dinâmicas da Carteira"
      ]
    },
    {
      "cell_type": "markdown",
      "metadata": {
        "id": "jST1KvefG1j8"
      },
      "source": [
        "Funciona apenas caso seja executado em outro ambiente além do GitHub"
      ]
    },
    {
      "cell_type": "code",
      "metadata": {
        "id": "i3fSyr1gyDsc"
      },
      "source": [
        "import plotly.graph_objects as go"
      ],
      "execution_count": null,
      "outputs": []
    },
    {
      "cell_type": "code",
      "metadata": {
        "id": "Tgho6E1gJ3Ja",
        "colab": {
          "base_uri": "https://localhost:8080/",
          "height": 1000
        },
        "outputId": "859be365-0b60-41f9-92d9-004d8c331469"
      },
      "source": [
        "# Composição da Carteira\r\n",
        "\r\n",
        "labels = carteira\r\n",
        "values = listafinal\r\n",
        "\r\n",
        "fig = go.Figure(data=[go.Pie(labels=labels, values=values)])\r\n",
        "fig.update_layout(title_text=\"Composição da Carteira\")\r\n",
        "fig.show()\r\n",
        "\r\n",
        "# Retorno Acumulado da Carteira de Investimentos\r\n",
        "fig2 = go.Figure()\r\n",
        "for loc,coluna in enumerate(tabela_final):\r\n",
        "  fig2.add_scatter(x=tabela_final.index, y=tabela_final[f'{coluna}'],name=f'{coluna}')\r\n",
        "fig2.update_layout(title_text=\"Retorno Acumulado da Carteira de Investimentos\")\r\n",
        "fig2.show()"
      ],
      "execution_count": null,
      "outputs": [
        {
          "output_type": "display_data",
          "data": {
            "text/html": [
              "<html>\n",
              "<head><meta charset=\"utf-8\" /></head>\n",
              "<body>\n",
              "    <div>\n",
              "            <script src=\"https://cdnjs.cloudflare.com/ajax/libs/mathjax/2.7.5/MathJax.js?config=TeX-AMS-MML_SVG\"></script><script type=\"text/javascript\">if (window.MathJax) {MathJax.Hub.Config({SVG: {font: \"STIX-Web\"}});}</script>\n",
              "                <script type=\"text/javascript\">window.PlotlyConfig = {MathJaxConfig: 'local'};</script>\n",
              "        <script src=\"https://cdn.plot.ly/plotly-latest.min.js\"></script>    \n",
              "            <div id=\"f3007799-f0c5-4a33-a044-f3ed96e8a4f1\" class=\"plotly-graph-div\" style=\"height:525px; width:100%;\"></div>\n",
              "            <script type=\"text/javascript\">\n",
              "                \n",
              "                    window.PLOTLYENV=window.PLOTLYENV || {};\n",
              "                    \n",
              "                if (document.getElementById(\"f3007799-f0c5-4a33-a044-f3ed96e8a4f1\")) {\n",
              "                    Plotly.newPlot(\n",
              "                        'f3007799-f0c5-4a33-a044-f3ed96e8a4f1',\n",
              "                        [{\"labels\": [\"MXRF11.SA\", \"BEES3.SA\", \"BBAS3.SA\", \"TAEE11.SA\", \"ITSA4.SA\"], \"type\": \"pie\", \"values\": [100.0, 200.0, 300.0, 200.0, 200.0]}],\n",
              "                        {\"template\": {\"data\": {\"bar\": [{\"error_x\": {\"color\": \"#2a3f5f\"}, \"error_y\": {\"color\": \"#2a3f5f\"}, \"marker\": {\"line\": {\"color\": \"#E5ECF6\", \"width\": 0.5}}, \"type\": \"bar\"}], \"barpolar\": [{\"marker\": {\"line\": {\"color\": \"#E5ECF6\", \"width\": 0.5}}, \"type\": \"barpolar\"}], \"carpet\": [{\"aaxis\": {\"endlinecolor\": \"#2a3f5f\", \"gridcolor\": \"white\", \"linecolor\": \"white\", \"minorgridcolor\": \"white\", \"startlinecolor\": \"#2a3f5f\"}, \"baxis\": {\"endlinecolor\": \"#2a3f5f\", \"gridcolor\": \"white\", \"linecolor\": \"white\", \"minorgridcolor\": \"white\", \"startlinecolor\": \"#2a3f5f\"}, \"type\": \"carpet\"}], \"choropleth\": [{\"colorbar\": {\"outlinewidth\": 0, \"ticks\": \"\"}, \"type\": \"choropleth\"}], \"contour\": [{\"colorbar\": {\"outlinewidth\": 0, \"ticks\": \"\"}, \"colorscale\": [[0.0, \"#0d0887\"], [0.1111111111111111, \"#46039f\"], [0.2222222222222222, \"#7201a8\"], [0.3333333333333333, \"#9c179e\"], [0.4444444444444444, \"#bd3786\"], [0.5555555555555556, \"#d8576b\"], [0.6666666666666666, \"#ed7953\"], [0.7777777777777778, \"#fb9f3a\"], [0.8888888888888888, \"#fdca26\"], [1.0, \"#f0f921\"]], \"type\": \"contour\"}], \"contourcarpet\": [{\"colorbar\": {\"outlinewidth\": 0, \"ticks\": \"\"}, \"type\": \"contourcarpet\"}], \"heatmap\": [{\"colorbar\": {\"outlinewidth\": 0, \"ticks\": \"\"}, \"colorscale\": [[0.0, \"#0d0887\"], [0.1111111111111111, \"#46039f\"], [0.2222222222222222, \"#7201a8\"], [0.3333333333333333, \"#9c179e\"], [0.4444444444444444, \"#bd3786\"], [0.5555555555555556, \"#d8576b\"], [0.6666666666666666, \"#ed7953\"], [0.7777777777777778, \"#fb9f3a\"], [0.8888888888888888, \"#fdca26\"], [1.0, \"#f0f921\"]], \"type\": \"heatmap\"}], \"heatmapgl\": [{\"colorbar\": {\"outlinewidth\": 0, \"ticks\": \"\"}, \"colorscale\": [[0.0, \"#0d0887\"], [0.1111111111111111, \"#46039f\"], [0.2222222222222222, \"#7201a8\"], [0.3333333333333333, \"#9c179e\"], [0.4444444444444444, \"#bd3786\"], [0.5555555555555556, \"#d8576b\"], [0.6666666666666666, \"#ed7953\"], [0.7777777777777778, \"#fb9f3a\"], [0.8888888888888888, \"#fdca26\"], [1.0, \"#f0f921\"]], \"type\": \"heatmapgl\"}], \"histogram\": [{\"marker\": {\"colorbar\": {\"outlinewidth\": 0, \"ticks\": \"\"}}, \"type\": \"histogram\"}], \"histogram2d\": [{\"colorbar\": {\"outlinewidth\": 0, \"ticks\": \"\"}, \"colorscale\": [[0.0, \"#0d0887\"], [0.1111111111111111, \"#46039f\"], [0.2222222222222222, \"#7201a8\"], [0.3333333333333333, \"#9c179e\"], [0.4444444444444444, \"#bd3786\"], [0.5555555555555556, \"#d8576b\"], [0.6666666666666666, \"#ed7953\"], [0.7777777777777778, \"#fb9f3a\"], [0.8888888888888888, \"#fdca26\"], [1.0, \"#f0f921\"]], \"type\": \"histogram2d\"}], \"histogram2dcontour\": [{\"colorbar\": {\"outlinewidth\": 0, \"ticks\": \"\"}, \"colorscale\": [[0.0, \"#0d0887\"], [0.1111111111111111, \"#46039f\"], [0.2222222222222222, \"#7201a8\"], [0.3333333333333333, \"#9c179e\"], [0.4444444444444444, \"#bd3786\"], [0.5555555555555556, \"#d8576b\"], [0.6666666666666666, \"#ed7953\"], [0.7777777777777778, \"#fb9f3a\"], [0.8888888888888888, \"#fdca26\"], [1.0, \"#f0f921\"]], \"type\": \"histogram2dcontour\"}], \"mesh3d\": [{\"colorbar\": {\"outlinewidth\": 0, \"ticks\": \"\"}, \"type\": \"mesh3d\"}], \"parcoords\": [{\"line\": {\"colorbar\": {\"outlinewidth\": 0, \"ticks\": \"\"}}, \"type\": \"parcoords\"}], \"pie\": [{\"automargin\": true, \"type\": \"pie\"}], \"scatter\": [{\"marker\": {\"colorbar\": {\"outlinewidth\": 0, \"ticks\": \"\"}}, \"type\": \"scatter\"}], \"scatter3d\": [{\"line\": {\"colorbar\": {\"outlinewidth\": 0, \"ticks\": \"\"}}, \"marker\": {\"colorbar\": {\"outlinewidth\": 0, \"ticks\": \"\"}}, \"type\": \"scatter3d\"}], \"scattercarpet\": [{\"marker\": {\"colorbar\": {\"outlinewidth\": 0, \"ticks\": \"\"}}, \"type\": \"scattercarpet\"}], \"scattergeo\": [{\"marker\": {\"colorbar\": {\"outlinewidth\": 0, \"ticks\": \"\"}}, \"type\": \"scattergeo\"}], \"scattergl\": [{\"marker\": {\"colorbar\": {\"outlinewidth\": 0, \"ticks\": \"\"}}, \"type\": \"scattergl\"}], \"scattermapbox\": [{\"marker\": {\"colorbar\": {\"outlinewidth\": 0, \"ticks\": \"\"}}, \"type\": \"scattermapbox\"}], \"scatterpolar\": [{\"marker\": {\"colorbar\": {\"outlinewidth\": 0, \"ticks\": \"\"}}, \"type\": \"scatterpolar\"}], \"scatterpolargl\": [{\"marker\": {\"colorbar\": {\"outlinewidth\": 0, \"ticks\": \"\"}}, \"type\": \"scatterpolargl\"}], \"scatterternary\": [{\"marker\": {\"colorbar\": {\"outlinewidth\": 0, \"ticks\": \"\"}}, \"type\": \"scatterternary\"}], \"surface\": [{\"colorbar\": {\"outlinewidth\": 0, \"ticks\": \"\"}, \"colorscale\": [[0.0, \"#0d0887\"], [0.1111111111111111, \"#46039f\"], [0.2222222222222222, \"#7201a8\"], [0.3333333333333333, \"#9c179e\"], [0.4444444444444444, \"#bd3786\"], [0.5555555555555556, \"#d8576b\"], [0.6666666666666666, \"#ed7953\"], [0.7777777777777778, \"#fb9f3a\"], [0.8888888888888888, \"#fdca26\"], [1.0, \"#f0f921\"]], \"type\": \"surface\"}], \"table\": [{\"cells\": {\"fill\": {\"color\": \"#EBF0F8\"}, \"line\": {\"color\": \"white\"}}, \"header\": {\"fill\": {\"color\": \"#C8D4E3\"}, \"line\": {\"color\": \"white\"}}, \"type\": \"table\"}]}, \"layout\": {\"annotationdefaults\": {\"arrowcolor\": \"#2a3f5f\", \"arrowhead\": 0, \"arrowwidth\": 1}, \"coloraxis\": {\"colorbar\": {\"outlinewidth\": 0, \"ticks\": \"\"}}, \"colorscale\": {\"diverging\": [[0, \"#8e0152\"], [0.1, \"#c51b7d\"], [0.2, \"#de77ae\"], [0.3, \"#f1b6da\"], [0.4, \"#fde0ef\"], [0.5, \"#f7f7f7\"], [0.6, \"#e6f5d0\"], [0.7, \"#b8e186\"], [0.8, \"#7fbc41\"], [0.9, \"#4d9221\"], [1, \"#276419\"]], \"sequential\": [[0.0, \"#0d0887\"], [0.1111111111111111, \"#46039f\"], [0.2222222222222222, \"#7201a8\"], [0.3333333333333333, \"#9c179e\"], [0.4444444444444444, \"#bd3786\"], [0.5555555555555556, \"#d8576b\"], [0.6666666666666666, \"#ed7953\"], [0.7777777777777778, \"#fb9f3a\"], [0.8888888888888888, \"#fdca26\"], [1.0, \"#f0f921\"]], \"sequentialminus\": [[0.0, \"#0d0887\"], [0.1111111111111111, \"#46039f\"], [0.2222222222222222, \"#7201a8\"], [0.3333333333333333, \"#9c179e\"], [0.4444444444444444, \"#bd3786\"], [0.5555555555555556, \"#d8576b\"], [0.6666666666666666, \"#ed7953\"], [0.7777777777777778, \"#fb9f3a\"], [0.8888888888888888, \"#fdca26\"], [1.0, \"#f0f921\"]]}, \"colorway\": [\"#636efa\", \"#EF553B\", \"#00cc96\", \"#ab63fa\", \"#FFA15A\", \"#19d3f3\", \"#FF6692\", \"#B6E880\", \"#FF97FF\", \"#FECB52\"], \"font\": {\"color\": \"#2a3f5f\"}, \"geo\": {\"bgcolor\": \"white\", \"lakecolor\": \"white\", \"landcolor\": \"#E5ECF6\", \"showlakes\": true, \"showland\": true, \"subunitcolor\": \"white\"}, \"hoverlabel\": {\"align\": \"left\"}, \"hovermode\": \"closest\", \"mapbox\": {\"style\": \"light\"}, \"paper_bgcolor\": \"white\", \"plot_bgcolor\": \"#E5ECF6\", \"polar\": {\"angularaxis\": {\"gridcolor\": \"white\", \"linecolor\": \"white\", \"ticks\": \"\"}, \"bgcolor\": \"#E5ECF6\", \"radialaxis\": {\"gridcolor\": \"white\", \"linecolor\": \"white\", \"ticks\": \"\"}}, \"scene\": {\"xaxis\": {\"backgroundcolor\": \"#E5ECF6\", \"gridcolor\": \"white\", \"gridwidth\": 2, \"linecolor\": \"white\", \"showbackground\": true, \"ticks\": \"\", \"zerolinecolor\": \"white\"}, \"yaxis\": {\"backgroundcolor\": \"#E5ECF6\", \"gridcolor\": \"white\", \"gridwidth\": 2, \"linecolor\": \"white\", \"showbackground\": true, \"ticks\": \"\", \"zerolinecolor\": \"white\"}, \"zaxis\": {\"backgroundcolor\": \"#E5ECF6\", \"gridcolor\": \"white\", \"gridwidth\": 2, \"linecolor\": \"white\", \"showbackground\": true, \"ticks\": \"\", \"zerolinecolor\": \"white\"}}, \"shapedefaults\": {\"line\": {\"color\": \"#2a3f5f\"}}, \"ternary\": {\"aaxis\": {\"gridcolor\": \"white\", \"linecolor\": \"white\", \"ticks\": \"\"}, \"baxis\": {\"gridcolor\": \"white\", \"linecolor\": \"white\", \"ticks\": \"\"}, \"bgcolor\": \"#E5ECF6\", \"caxis\": {\"gridcolor\": \"white\", \"linecolor\": \"white\", \"ticks\": \"\"}}, \"title\": {\"x\": 0.05}, \"xaxis\": {\"automargin\": true, \"gridcolor\": \"white\", \"linecolor\": \"white\", \"ticks\": \"\", \"title\": {\"standoff\": 15}, \"zerolinecolor\": \"white\", \"zerolinewidth\": 2}, \"yaxis\": {\"automargin\": true, \"gridcolor\": \"white\", \"linecolor\": \"white\", \"ticks\": \"\", \"title\": {\"standoff\": 15}, \"zerolinecolor\": \"white\", \"zerolinewidth\": 2}}}, \"title\": {\"text\": \"Composi\\u00e7\\u00e3o da Carteira\"}},\n",
              "                        {\"responsive\": true}\n",
              "                    ).then(function(){\n",
              "                            \n",
              "var gd = document.getElementById('f3007799-f0c5-4a33-a044-f3ed96e8a4f1');\n",
              "var x = new MutationObserver(function (mutations, observer) {{\n",
              "        var display = window.getComputedStyle(gd).display;\n",
              "        if (!display || display === 'none') {{\n",
              "            console.log([gd, 'removed!']);\n",
              "            Plotly.purge(gd);\n",
              "            observer.disconnect();\n",
              "        }}\n",
              "}});\n",
              "\n",
              "// Listen for the removal of the full notebook cells\n",
              "var notebookContainer = gd.closest('#notebook-container');\n",
              "if (notebookContainer) {{\n",
              "    x.observe(notebookContainer, {childList: true});\n",
              "}}\n",
              "\n",
              "// Listen for the clearing of the current output cell\n",
              "var outputEl = gd.closest('.output');\n",
              "if (outputEl) {{\n",
              "    x.observe(outputEl, {childList: true});\n",
              "}}\n",
              "\n",
              "                        })\n",
              "                };\n",
              "                \n",
              "            </script>\n",
              "        </div>\n",
              "</body>\n",
              "</html>"
            ]
          },
          "metadata": {
            "tags": []
          }
        },
        {
          "output_type": "display_data",
          "data": {
            "text/html": [
              "<html>\n",
              "<head><meta charset=\"utf-8\" /></head>\n",
              "<body>\n",
              "    <div>\n",
              "            <script src=\"https://cdnjs.cloudflare.com/ajax/libs/mathjax/2.7.5/MathJax.js?config=TeX-AMS-MML_SVG\"></script><script type=\"text/javascript\">if (window.MathJax) {MathJax.Hub.Config({SVG: {font: \"STIX-Web\"}});}</script>\n",
              "                <script type=\"text/javascript\">window.PlotlyConfig = {MathJaxConfig: 'local'};</script>\n",
              "        <script src=\"https://cdn.plot.ly/plotly-latest.min.js\"></script>    \n",
              "            <div id=\"7a99f07b-5be4-4f93-8797-ab6c9a967d61\" class=\"plotly-graph-div\" style=\"height:525px; width:100%;\"></div>\n",
              "            <script type=\"text/javascript\">\n",
              "                \n",
              "                    window.PLOTLYENV=window.PLOTLYENV || {};\n",
              "                    \n",
              "                if (document.getElementById(\"7a99f07b-5be4-4f93-8797-ab6c9a967d61\")) {\n",
              "                    Plotly.newPlot(\n",
              "                        '7a99f07b-5be4-4f93-8797-ab6c9a967d61',\n",
              "                        [{\"name\": \"Sua Carteira\", \"type\": \"scatter\", \"x\": [\"2020-01-02T00:00:00\", \"2020-01-03T00:00:00\", \"2020-01-06T00:00:00\", \"2020-01-07T00:00:00\", \"2020-01-08T00:00:00\", \"2020-01-09T00:00:00\", \"2020-01-10T00:00:00\", \"2020-01-13T00:00:00\", \"2020-01-14T00:00:00\", \"2020-01-15T00:00:00\", \"2020-01-16T00:00:00\", \"2020-01-17T00:00:00\", \"2020-01-20T00:00:00\", \"2020-01-21T00:00:00\", \"2020-01-22T00:00:00\", \"2020-01-23T00:00:00\", \"2020-01-24T00:00:00\", \"2020-01-27T00:00:00\", \"2020-01-28T00:00:00\", \"2020-01-29T00:00:00\", \"2020-01-30T00:00:00\", \"2020-01-31T00:00:00\", \"2020-02-03T00:00:00\", \"2020-02-04T00:00:00\", \"2020-02-05T00:00:00\", \"2020-02-06T00:00:00\", \"2020-02-07T00:00:00\", \"2020-02-10T00:00:00\", \"2020-02-11T00:00:00\", \"2020-02-12T00:00:00\", \"2020-02-13T00:00:00\", \"2020-02-14T00:00:00\", \"2020-02-17T00:00:00\", \"2020-02-18T00:00:00\", \"2020-02-19T00:00:00\", \"2020-02-20T00:00:00\", \"2020-02-21T00:00:00\", \"2020-02-27T00:00:00\", \"2020-02-28T00:00:00\", \"2020-03-02T00:00:00\", \"2020-03-03T00:00:00\", \"2020-03-04T00:00:00\", \"2020-03-05T00:00:00\", \"2020-03-06T00:00:00\", \"2020-03-09T00:00:00\", \"2020-03-10T00:00:00\", \"2020-03-11T00:00:00\", \"2020-03-12T00:00:00\", \"2020-03-13T00:00:00\", \"2020-03-16T00:00:00\", \"2020-03-17T00:00:00\", \"2020-03-18T00:00:00\", \"2020-03-19T00:00:00\", \"2020-03-20T00:00:00\", \"2020-03-23T00:00:00\", \"2020-03-24T00:00:00\", \"2020-03-25T00:00:00\", \"2020-03-26T00:00:00\", \"2020-03-27T00:00:00\", \"2020-03-30T00:00:00\", \"2020-03-31T00:00:00\", \"2020-04-01T00:00:00\", \"2020-04-02T00:00:00\", \"2020-04-03T00:00:00\", \"2020-04-06T00:00:00\", \"2020-04-07T00:00:00\", \"2020-04-08T00:00:00\", \"2020-04-09T00:00:00\", \"2020-04-13T00:00:00\", \"2020-04-14T00:00:00\", \"2020-04-15T00:00:00\", \"2020-04-16T00:00:00\", \"2020-04-17T00:00:00\", \"2020-04-20T00:00:00\", \"2020-04-22T00:00:00\", \"2020-04-23T00:00:00\", \"2020-04-24T00:00:00\", \"2020-04-27T00:00:00\", \"2020-04-28T00:00:00\", \"2020-04-29T00:00:00\", \"2020-04-30T00:00:00\", \"2020-05-04T00:00:00\", \"2020-05-05T00:00:00\", \"2020-05-06T00:00:00\", \"2020-05-07T00:00:00\", \"2020-05-08T00:00:00\", \"2020-05-11T00:00:00\", \"2020-05-12T00:00:00\", \"2020-05-13T00:00:00\", \"2020-05-14T00:00:00\", \"2020-05-15T00:00:00\", \"2020-05-18T00:00:00\", \"2020-05-19T00:00:00\", \"2020-05-20T00:00:00\", \"2020-05-21T00:00:00\", \"2020-05-22T00:00:00\", \"2020-05-25T00:00:00\", \"2020-05-26T00:00:00\", \"2020-05-27T00:00:00\", \"2020-05-28T00:00:00\", \"2020-05-29T00:00:00\", \"2020-06-01T00:00:00\", \"2020-06-02T00:00:00\", \"2020-06-03T00:00:00\", \"2020-06-04T00:00:00\", \"2020-06-05T00:00:00\", \"2020-06-08T00:00:00\", \"2020-06-09T00:00:00\", \"2020-06-10T00:00:00\", \"2020-06-12T00:00:00\", \"2020-06-15T00:00:00\", \"2020-06-16T00:00:00\", \"2020-06-17T00:00:00\", \"2020-06-18T00:00:00\", \"2020-06-19T00:00:00\", \"2020-06-22T00:00:00\", \"2020-06-23T00:00:00\", \"2020-06-24T00:00:00\", \"2020-06-25T00:00:00\", \"2020-06-26T00:00:00\", \"2020-06-29T00:00:00\", \"2020-06-30T00:00:00\", \"2020-07-01T00:00:00\", \"2020-07-02T00:00:00\", \"2020-07-03T00:00:00\", \"2020-07-06T00:00:00\", \"2020-07-07T00:00:00\", \"2020-07-08T00:00:00\", \"2020-07-09T00:00:00\", \"2020-07-10T00:00:00\", \"2020-07-13T00:00:00\", \"2020-07-14T00:00:00\", \"2020-07-15T00:00:00\", \"2020-07-16T00:00:00\", \"2020-07-17T00:00:00\", \"2020-07-20T00:00:00\", \"2020-07-21T00:00:00\", \"2020-07-22T00:00:00\", \"2020-07-23T00:00:00\", \"2020-07-24T00:00:00\", \"2020-07-27T00:00:00\", \"2020-07-28T00:00:00\", \"2020-07-29T00:00:00\", \"2020-07-30T00:00:00\", \"2020-07-31T00:00:00\", \"2020-08-03T00:00:00\", \"2020-08-04T00:00:00\", \"2020-08-05T00:00:00\", \"2020-08-06T00:00:00\", \"2020-08-07T00:00:00\", \"2020-08-10T00:00:00\", \"2020-08-11T00:00:00\", \"2020-08-12T00:00:00\", \"2020-08-13T00:00:00\", \"2020-08-14T00:00:00\", \"2020-08-17T00:00:00\", \"2020-08-18T00:00:00\", \"2020-08-19T00:00:00\", \"2020-08-20T00:00:00\", \"2020-08-21T00:00:00\", \"2020-08-24T00:00:00\", \"2020-08-25T00:00:00\", \"2020-08-26T00:00:00\", \"2020-08-27T00:00:00\", \"2020-08-28T00:00:00\", \"2020-08-31T00:00:00\", \"2020-09-01T00:00:00\", \"2020-09-02T00:00:00\", \"2020-09-03T00:00:00\", \"2020-09-04T00:00:00\", \"2020-09-08T00:00:00\", \"2020-09-09T00:00:00\", \"2020-09-10T00:00:00\", \"2020-09-11T00:00:00\", \"2020-09-14T00:00:00\", \"2020-09-15T00:00:00\", \"2020-09-16T00:00:00\", \"2020-09-17T00:00:00\", \"2020-09-18T00:00:00\", \"2020-09-21T00:00:00\", \"2020-09-22T00:00:00\", \"2020-09-23T00:00:00\", \"2020-09-24T00:00:00\", \"2020-09-25T00:00:00\", \"2020-09-28T00:00:00\", \"2020-09-29T00:00:00\", \"2020-09-30T00:00:00\", \"2020-10-01T00:00:00\", \"2020-10-02T00:00:00\", \"2020-10-05T00:00:00\", \"2020-10-06T00:00:00\", \"2020-10-07T00:00:00\", \"2020-10-08T00:00:00\", \"2020-10-09T00:00:00\", \"2020-10-13T00:00:00\", \"2020-10-14T00:00:00\", \"2020-10-15T00:00:00\", \"2020-10-16T00:00:00\", \"2020-10-19T00:00:00\", \"2020-10-20T00:00:00\", \"2020-10-21T00:00:00\", \"2020-10-22T00:00:00\", \"2020-10-23T00:00:00\", \"2020-10-26T00:00:00\", \"2020-10-27T00:00:00\", \"2020-10-28T00:00:00\", \"2020-10-29T00:00:00\", \"2020-10-30T00:00:00\", \"2020-11-03T00:00:00\", \"2020-11-04T00:00:00\", \"2020-11-05T00:00:00\", \"2020-11-06T00:00:00\", \"2020-11-09T00:00:00\", \"2020-11-10T00:00:00\", \"2020-11-11T00:00:00\", \"2020-11-12T00:00:00\", \"2020-11-13T00:00:00\", \"2020-11-16T00:00:00\", \"2020-11-17T00:00:00\", \"2020-11-18T00:00:00\", \"2020-11-19T00:00:00\", \"2020-11-23T00:00:00\", \"2020-11-24T00:00:00\", \"2020-11-25T00:00:00\", \"2020-11-26T00:00:00\", \"2020-11-27T00:00:00\", \"2020-11-30T00:00:00\", \"2020-12-01T00:00:00\", \"2020-12-02T00:00:00\", \"2020-12-03T00:00:00\", \"2020-12-04T00:00:00\", \"2020-12-07T00:00:00\", \"2020-12-08T00:00:00\", \"2020-12-09T00:00:00\", \"2020-12-10T00:00:00\", \"2020-12-11T00:00:00\", \"2020-12-14T00:00:00\", \"2020-12-15T00:00:00\", \"2020-12-16T00:00:00\", \"2020-12-17T00:00:00\", \"2020-12-18T00:00:00\", \"2020-12-21T00:00:00\", \"2020-12-22T00:00:00\", \"2020-12-23T00:00:00\", \"2020-12-28T00:00:00\", \"2020-12-29T00:00:00\", \"2020-12-30T00:00:00\", \"2021-01-04T00:00:00\", \"2021-01-05T00:00:00\"], \"y\": [0.0, -0.6614762400527685, -1.3632031603377626, -2.2468124141529913, -3.01352451308588, -4.078991306256922, -3.7752424981748014, -3.0204702236560244, -2.981925568154268, -3.49636263996913, -3.4385301653867395, -2.571389711748525, -2.4229931317243634, -4.301995625527038, -3.7097294928709146, -1.3431134735189532, -1.7535994661436738, -3.137650157858156, -2.729553374871702, -3.469949977081812, -3.723965390814744, -5.048954568398631, -4.931729228936092, -4.397392213167365, -2.428162503875952, -3.719562792448344, -3.3407695179158274, -3.9182419312644856, -1.496329845808191, -1.358779420210733, -1.9970838334905474, -3.1823824299763523, -3.455795357137868, -2.9467240197387334, -2.7319343319670564, -4.245458934698416, -4.485463286457364, -8.616171925413237, -8.398964671275019, -6.594590363027217, -7.98917064597784, -7.216926569147344, -10.727638456070146, -12.536192652656439, -18.06569296425009, -15.101681843686055, -19.484086898905257, -27.609985133653637, -21.599085061873705, -29.27383777859506, -26.903283258048745, -33.11078974622194, -34.57942828260942, -35.82644749725911, -40.22949272630192, -36.1910854509222, -32.7240144897804, -30.434697883805143, -33.00097408432415, -31.975501522212124, -32.397952469948876, -34.3697502252077, -33.84539273922064, -35.49282608661505, -32.59341429036192, -31.035234394809947, -29.75074548591514, -29.991464307767636, -29.169711383222108, -27.97026217434132, -29.0691193917281, -30.622710624193843, -30.262905873412393, -30.66879849656349, -30.22593101941615, -30.999652187348424, -34.78642355798082, -32.43447905832692, -29.186580037827536, -28.79801973280658, -30.43478711119074, -31.626018737191483, -31.087953618524942, -31.759441902128472, -33.19294304565811, -32.26048422626709, -32.667296062399885, -33.863392953260515, -34.02207403671204, -32.84066484657083, -33.64377911199419, -31.4844682766757, -32.2426708672979, -32.19514572848309, -29.832039348007207, -30.165539715036566, -26.795662103221687, -28.205091381154496, -27.506289605484643, -27.306247310266563, -26.765609249502, -25.559878569791437, -23.57072960538312, -21.18069428176308, -21.30653091275302, -20.048744102648094, -18.582922174226777, -19.4180243883183, -20.618503689361106, -21.88751364705005, -22.511624167149062, -21.759660750260316, -20.58289863560489, -20.262343288345175, -20.212433571890497, -21.12641669135766, -21.257316905231566, -22.644408300229877, -21.93593056717034, -23.227814824860005, -21.636901221108133, -22.873536427800556, -21.932674303724582, -21.8287367402621, -21.61786796468175, -20.3175202495131, -21.75954310871564, -20.90043044764179, -20.982646731974384, -20.996789843653612, -21.468254372060542, -20.992102874701096, -20.623333233722597, -21.154353780335274, -20.369719453150807, -20.236430232469893, -20.00852890699968, -20.268691457256082, -21.235332095100805, -21.55514348596568, -19.790449852813172, -19.681807170481267, -18.773651807091888, -19.554342485077644, -20.791204870023368, -20.750281750733272, -22.612778178232187, -22.46036526943265, -21.521385409407912, -22.081815817851094, -21.51335505116579, -21.901419402747365, -22.575727845401016, -23.206304633044418, -22.701351995538264, -24.43752974634949, -23.672790903356294, -23.915788840421516, -23.864244996469345, -23.867921519632823, -23.24621870051437, -23.52938180798033, -24.15859923324278, -23.878972523736195, -22.97574874328861, -23.99026524007404, -23.305690592622902, -23.420638038898172, -22.949740932840967, -22.883535480409364, -23.329468450457878, -22.964314025150163, -24.138222380641242, -25.78421026962774, -25.121667735839857, -25.56842415741792, -25.226724662570984, -25.294910949853318, -26.37758698152117, -26.73285129422597, -26.692986781333218, -27.59364833124695, -26.90797664629583, -27.14594528735019, -27.255484520230223, -27.886377695741874, -28.08240944013139, -27.977100491512836, -28.135036707444186, -27.653729176375016, -27.847860421114305, -28.008093738126668, -26.542888481067703, -26.580182163657753, -26.559958355015304, -26.685817045997464, -26.52449986878727, -27.225316731162806, -26.723431365800984, -25.176674797324168, -24.974934261314115, -23.4173730355368, -23.605296948636457, -23.552216493634177, -24.30001002670548, -26.401491512755833, -26.52322365309306, -27.69669306771757, -27.296833083160116, -26.26361802254487, -25.05251798136948, -24.651632811436183, -21.922359365059645, -20.43110268268211, -20.94513423388281, -21.57455503195083, -20.232935771230707, -18.789187109773085, -18.58076771508424, -18.474944935816247, -17.98693916061535, -18.61443257276923, -17.543011493059954, -17.4427140599165, -17.748788103036077, -17.339164990472423, -18.50145576762327, -17.23400399954032, -17.568628610981737, -16.70090693194645, -16.643130313999066, -15.57061437393741, -15.617782593927702, -15.996981134054087, -14.833632671838462, -13.788614708567644, -14.040174918420236, -13.534224494352811, -13.045227639875964, -12.967371589639578, -13.314357364027856, -14.60207266925471, -14.272626692696718, -13.374115573097168, -12.400590830566847, -11.6415393205999, -12.273515269796695, -12.91661595783544, -13.478112662648634]}, {\"name\": \"^BVSP\", \"type\": \"scatter\", \"x\": [\"2020-01-02T00:00:00\", \"2020-01-03T00:00:00\", \"2020-01-06T00:00:00\", \"2020-01-07T00:00:00\", \"2020-01-08T00:00:00\", \"2020-01-09T00:00:00\", \"2020-01-10T00:00:00\", \"2020-01-13T00:00:00\", \"2020-01-14T00:00:00\", \"2020-01-15T00:00:00\", \"2020-01-16T00:00:00\", \"2020-01-17T00:00:00\", \"2020-01-20T00:00:00\", \"2020-01-21T00:00:00\", \"2020-01-22T00:00:00\", \"2020-01-23T00:00:00\", \"2020-01-24T00:00:00\", \"2020-01-27T00:00:00\", \"2020-01-28T00:00:00\", \"2020-01-29T00:00:00\", \"2020-01-30T00:00:00\", \"2020-01-31T00:00:00\", \"2020-02-03T00:00:00\", \"2020-02-04T00:00:00\", \"2020-02-05T00:00:00\", \"2020-02-06T00:00:00\", \"2020-02-07T00:00:00\", \"2020-02-10T00:00:00\", \"2020-02-11T00:00:00\", \"2020-02-12T00:00:00\", \"2020-02-13T00:00:00\", \"2020-02-14T00:00:00\", \"2020-02-17T00:00:00\", \"2020-02-18T00:00:00\", \"2020-02-19T00:00:00\", \"2020-02-20T00:00:00\", \"2020-02-21T00:00:00\", \"2020-02-27T00:00:00\", \"2020-02-28T00:00:00\", \"2020-03-02T00:00:00\", \"2020-03-03T00:00:00\", \"2020-03-04T00:00:00\", \"2020-03-05T00:00:00\", \"2020-03-06T00:00:00\", \"2020-03-09T00:00:00\", \"2020-03-10T00:00:00\", \"2020-03-11T00:00:00\", \"2020-03-12T00:00:00\", \"2020-03-13T00:00:00\", \"2020-03-16T00:00:00\", \"2020-03-17T00:00:00\", \"2020-03-18T00:00:00\", \"2020-03-19T00:00:00\", \"2020-03-20T00:00:00\", \"2020-03-23T00:00:00\", \"2020-03-24T00:00:00\", \"2020-03-25T00:00:00\", \"2020-03-26T00:00:00\", \"2020-03-27T00:00:00\", \"2020-03-30T00:00:00\", \"2020-03-31T00:00:00\", \"2020-04-01T00:00:00\", \"2020-04-02T00:00:00\", \"2020-04-03T00:00:00\", \"2020-04-06T00:00:00\", \"2020-04-07T00:00:00\", \"2020-04-08T00:00:00\", \"2020-04-09T00:00:00\", \"2020-04-13T00:00:00\", \"2020-04-14T00:00:00\", \"2020-04-15T00:00:00\", \"2020-04-16T00:00:00\", \"2020-04-17T00:00:00\", \"2020-04-20T00:00:00\", \"2020-04-22T00:00:00\", \"2020-04-23T00:00:00\", \"2020-04-24T00:00:00\", \"2020-04-27T00:00:00\", \"2020-04-28T00:00:00\", \"2020-04-29T00:00:00\", \"2020-04-30T00:00:00\", \"2020-05-04T00:00:00\", \"2020-05-05T00:00:00\", \"2020-05-06T00:00:00\", \"2020-05-07T00:00:00\", \"2020-05-08T00:00:00\", \"2020-05-11T00:00:00\", \"2020-05-12T00:00:00\", \"2020-05-13T00:00:00\", \"2020-05-14T00:00:00\", \"2020-05-15T00:00:00\", \"2020-05-18T00:00:00\", \"2020-05-19T00:00:00\", \"2020-05-20T00:00:00\", \"2020-05-21T00:00:00\", \"2020-05-22T00:00:00\", \"2020-05-25T00:00:00\", \"2020-05-26T00:00:00\", \"2020-05-27T00:00:00\", \"2020-05-28T00:00:00\", \"2020-05-29T00:00:00\", \"2020-06-01T00:00:00\", \"2020-06-02T00:00:00\", \"2020-06-03T00:00:00\", \"2020-06-04T00:00:00\", \"2020-06-05T00:00:00\", \"2020-06-08T00:00:00\", \"2020-06-09T00:00:00\", \"2020-06-10T00:00:00\", \"2020-06-12T00:00:00\", \"2020-06-15T00:00:00\", \"2020-06-16T00:00:00\", \"2020-06-17T00:00:00\", \"2020-06-18T00:00:00\", \"2020-06-19T00:00:00\", \"2020-06-22T00:00:00\", \"2020-06-23T00:00:00\", \"2020-06-24T00:00:00\", \"2020-06-25T00:00:00\", \"2020-06-26T00:00:00\", \"2020-06-29T00:00:00\", \"2020-06-30T00:00:00\", \"2020-07-01T00:00:00\", \"2020-07-02T00:00:00\", \"2020-07-03T00:00:00\", \"2020-07-06T00:00:00\", \"2020-07-07T00:00:00\", \"2020-07-08T00:00:00\", \"2020-07-09T00:00:00\", \"2020-07-10T00:00:00\", \"2020-07-13T00:00:00\", \"2020-07-14T00:00:00\", \"2020-07-15T00:00:00\", \"2020-07-16T00:00:00\", \"2020-07-17T00:00:00\", \"2020-07-20T00:00:00\", \"2020-07-21T00:00:00\", \"2020-07-22T00:00:00\", \"2020-07-23T00:00:00\", \"2020-07-24T00:00:00\", \"2020-07-27T00:00:00\", \"2020-07-28T00:00:00\", \"2020-07-29T00:00:00\", \"2020-07-30T00:00:00\", \"2020-07-31T00:00:00\", \"2020-08-03T00:00:00\", \"2020-08-04T00:00:00\", \"2020-08-05T00:00:00\", \"2020-08-06T00:00:00\", \"2020-08-07T00:00:00\", \"2020-08-10T00:00:00\", \"2020-08-11T00:00:00\", \"2020-08-12T00:00:00\", \"2020-08-13T00:00:00\", \"2020-08-14T00:00:00\", \"2020-08-17T00:00:00\", \"2020-08-18T00:00:00\", \"2020-08-19T00:00:00\", \"2020-08-20T00:00:00\", \"2020-08-21T00:00:00\", \"2020-08-24T00:00:00\", \"2020-08-25T00:00:00\", \"2020-08-26T00:00:00\", \"2020-08-27T00:00:00\", \"2020-08-28T00:00:00\", \"2020-08-31T00:00:00\", \"2020-09-01T00:00:00\", \"2020-09-02T00:00:00\", \"2020-09-03T00:00:00\", \"2020-09-04T00:00:00\", \"2020-09-08T00:00:00\", \"2020-09-09T00:00:00\", \"2020-09-10T00:00:00\", \"2020-09-11T00:00:00\", \"2020-09-14T00:00:00\", \"2020-09-15T00:00:00\", \"2020-09-16T00:00:00\", \"2020-09-17T00:00:00\", \"2020-09-18T00:00:00\", \"2020-09-21T00:00:00\", \"2020-09-22T00:00:00\", \"2020-09-23T00:00:00\", \"2020-09-24T00:00:00\", \"2020-09-25T00:00:00\", \"2020-09-28T00:00:00\", \"2020-09-29T00:00:00\", \"2020-09-30T00:00:00\", \"2020-10-01T00:00:00\", \"2020-10-02T00:00:00\", \"2020-10-05T00:00:00\", \"2020-10-06T00:00:00\", \"2020-10-07T00:00:00\", \"2020-10-08T00:00:00\", \"2020-10-09T00:00:00\", \"2020-10-13T00:00:00\", \"2020-10-14T00:00:00\", \"2020-10-15T00:00:00\", \"2020-10-16T00:00:00\", \"2020-10-19T00:00:00\", \"2020-10-20T00:00:00\", \"2020-10-21T00:00:00\", \"2020-10-22T00:00:00\", \"2020-10-23T00:00:00\", \"2020-10-26T00:00:00\", \"2020-10-27T00:00:00\", \"2020-10-28T00:00:00\", \"2020-10-29T00:00:00\", \"2020-10-30T00:00:00\", \"2020-11-03T00:00:00\", \"2020-11-04T00:00:00\", \"2020-11-05T00:00:00\", \"2020-11-06T00:00:00\", \"2020-11-09T00:00:00\", \"2020-11-10T00:00:00\", \"2020-11-11T00:00:00\", \"2020-11-12T00:00:00\", \"2020-11-13T00:00:00\", \"2020-11-16T00:00:00\", \"2020-11-17T00:00:00\", \"2020-11-18T00:00:00\", \"2020-11-19T00:00:00\", \"2020-11-23T00:00:00\", \"2020-11-24T00:00:00\", \"2020-11-25T00:00:00\", \"2020-11-26T00:00:00\", \"2020-11-27T00:00:00\", \"2020-11-30T00:00:00\", \"2020-12-01T00:00:00\", \"2020-12-02T00:00:00\", \"2020-12-03T00:00:00\", \"2020-12-04T00:00:00\", \"2020-12-07T00:00:00\", \"2020-12-08T00:00:00\", \"2020-12-09T00:00:00\", \"2020-12-10T00:00:00\", \"2020-12-11T00:00:00\", \"2020-12-14T00:00:00\", \"2020-12-15T00:00:00\", \"2020-12-16T00:00:00\", \"2020-12-17T00:00:00\", \"2020-12-18T00:00:00\", \"2020-12-21T00:00:00\", \"2020-12-22T00:00:00\", \"2020-12-23T00:00:00\", \"2020-12-28T00:00:00\", \"2020-12-29T00:00:00\", \"2020-12-30T00:00:00\", \"2021-01-04T00:00:00\", \"2021-01-05T00:00:00\"], \"y\": [0.0, -0.7303517664223769, -1.4294991271200042, -1.6116653875671516, -1.961660749074412, -2.214669444139894, -2.5891223128368224, -1.0525161714724285, -0.7936039401887474, -1.8208192421546254, -1.57624417025799, -0.08011942010407447, 0.243731709579742, -1.304681504221028, -0.15349194167306734, 0.8054110126251235, -0.166142376426337, -3.4501952383763634, -1.7660006915571014, -2.688639066229248, -2.568038254914695, -4.0582594688504114, -3.3262209777942697, -2.543580747725027, -2.146357096472218, -2.853094718021809, -4.050669207998448, -5.062703988260397, -2.7004461386656353, -1.6015450397645292, -2.4550277044521063, -3.5353748323817435, -2.752734602312501, -3.0327308915183093, -1.733109561198587, -3.362485557420325, -4.125728454201205, -13.147175157919587, -12.145260725460261, -10.07649296214147, -10.9940711629123, -9.571318934327378, -13.780540257900197, -17.35302303222488, -27.414335472662408, -22.230187310770578, -28.169988108591337, -38.78623295353917, -30.272490364585526, -39.97959063193138, -37.07083400099517, -43.5832778119808, -42.37136616261712, -43.43653276884282, -46.38745751562329, -41.19318900592883, -36.78493417557117, -34.462314354869996, -38.07274843345449, -37.05143666770682, -38.41768362106044, -40.14910645762526, -39.0645425181112, -41.354271208453866, -37.52962310138058, -35.60254020729846, -33.69063783492025, -34.485928499742776, -33.51268838605753, -32.600170359188006, -33.516905197641954, -34.37629139854773, -33.38281058925725, -33.397147748644294, -31.95162473750348, -32.806794126824826, -36.468673306739305, -34.01617568923785, -31.424523289450377, -29.856712742361246, -32.104273316859654, -33.47895389338213, -32.97715331483558, -33.32040177780776, -34.11737916726405, -32.3092103598627, -33.31955841549088, -34.32568965953463, -34.41002589122313, -33.365099980602665, -34.59134878935339, -31.524040042842806, -31.905239810074804, -31.418619753232193, -29.97815691599268, -30.698388334612435, -27.75505384868393, -27.91866613815962, -25.829657679235574, -26.67048990916988, -26.287603417304105, -25.26123147765511, -23.21523449689221, -21.56561780506523, -20.86815716900138, -20.186720416958327, -17.64988656776838, -18.407225928331073, -20.145395663430964, -21.740193804660425, -22.093562615435214, -21.119479139433096, -19.419260708593022, -18.931797289433515, -18.55481433378594, -19.59721015745575, -19.058301636966256, -20.405994619348423, -19.051554738431175, -20.863940357416954, -19.26070859301865, -19.833351606183534, -18.866015028716486, -18.839027434576174, -18.392045406627144, -16.560262454353015, -17.55205653900972, -15.857741644387847, -16.372192657687666, -15.636780717363985, -16.762669410405408, -15.292688892074924, -14.15330640196335, -15.197388950266921, -13.228137940340545, -11.931046696971482, -12.028876725730143, -12.045743972067836, -13.729938518887097, -13.65487927268434, -11.888035218810355, -12.19839255142402, -10.936722525364118, -11.439366466227552, -13.207897244735312, -13.277052954719881, -14.638239734172199, -13.300667099592655, -12.184055392036974, -13.322594519831664, -12.75922849215252, -13.830298634596405, -13.877526924341964, -15.274978283420337, -14.522699096758963, -16.005330049842716, -13.922225127136867, -14.943536892884557, -14.425712430317184, -14.381014227522282, -13.725721707302673, -13.877526924341964, -15.134980138817433, -15.137510225768091, -13.856442866419838, -16.195929933458707, -13.835358808497721, -14.052102923937149, -15.055704081030253, -14.61631231393319, -15.621600195660058, -14.574144198088945, -16.646285410675276, -17.04435242424498, -15.431843674360945, -15.412446341072583, -15.937017702175027, -15.581118804449579, -17.105917873377585, -18.201445523011138, -17.945906740995, -19.26070859301865, -18.183734914356553, -18.194698624476057, -20.162262909768668, -21.078154385905734, -20.215394735732417, -19.476609346141196, -20.710448415743887, -18.962158332841373, -19.36191207104484, -19.436971317247597, -17.417961930625015, -17.786511263103744, -16.926281699881084, -16.225447614549683, -16.461589063277472, -17.089893989356764, -16.795560540763923, -15.208352660386426, -15.198232312583803, -14.04619938771896, -14.60113179222926, -14.806068835232299, -15.996053064356975, -19.569379200998537, -18.546380710617083, -20.76442360402453, -19.385526215917626, -17.509888423165478, -15.01100587823535, -14.989921820313224, -12.363691565533463, -11.150936553852898, -11.841650291381677, -13.829455272279523, -11.858517537719383, -10.24094861393403, -9.567102122742954, -10.196250411139129, -10.167576092365039, -9.440597775210213, -7.410624678468114, -7.117977954509036, -7.0387018967218555, -6.745211810445884, -8.167964039030807, -6.104256449613321, -5.700285899825419, -4.7683705396675435, -4.124885091884323, -4.172956743946765, -4.21849830905855, -4.9345129160938805, -3.0200804567650286, -2.7409275298761138, -3.034417616152074, -2.046840343079792, -0.5279448103699846, -0.35083872382414283, -0.7539659112951513, -2.1564774442748402, -1.876481155069032, -0.6038474188896248, 0.4031271874710196, 0.7607128098302329, 0.6181845782766704, -0.012650434753269657, 0.8278194129354821]}],\n",
              "                        {\"template\": {\"data\": {\"bar\": [{\"error_x\": {\"color\": \"#2a3f5f\"}, \"error_y\": {\"color\": \"#2a3f5f\"}, \"marker\": {\"line\": {\"color\": \"#E5ECF6\", \"width\": 0.5}}, \"type\": \"bar\"}], \"barpolar\": [{\"marker\": {\"line\": {\"color\": \"#E5ECF6\", \"width\": 0.5}}, \"type\": \"barpolar\"}], \"carpet\": [{\"aaxis\": {\"endlinecolor\": \"#2a3f5f\", \"gridcolor\": \"white\", \"linecolor\": \"white\", \"minorgridcolor\": \"white\", \"startlinecolor\": \"#2a3f5f\"}, \"baxis\": {\"endlinecolor\": \"#2a3f5f\", \"gridcolor\": \"white\", \"linecolor\": \"white\", \"minorgridcolor\": \"white\", \"startlinecolor\": \"#2a3f5f\"}, \"type\": \"carpet\"}], \"choropleth\": [{\"colorbar\": {\"outlinewidth\": 0, \"ticks\": \"\"}, \"type\": \"choropleth\"}], \"contour\": [{\"colorbar\": {\"outlinewidth\": 0, \"ticks\": \"\"}, \"colorscale\": [[0.0, \"#0d0887\"], [0.1111111111111111, \"#46039f\"], [0.2222222222222222, \"#7201a8\"], [0.3333333333333333, \"#9c179e\"], [0.4444444444444444, \"#bd3786\"], [0.5555555555555556, \"#d8576b\"], [0.6666666666666666, \"#ed7953\"], [0.7777777777777778, \"#fb9f3a\"], [0.8888888888888888, \"#fdca26\"], [1.0, \"#f0f921\"]], \"type\": \"contour\"}], \"contourcarpet\": [{\"colorbar\": {\"outlinewidth\": 0, \"ticks\": \"\"}, \"type\": \"contourcarpet\"}], \"heatmap\": [{\"colorbar\": {\"outlinewidth\": 0, \"ticks\": \"\"}, \"colorscale\": [[0.0, \"#0d0887\"], [0.1111111111111111, \"#46039f\"], [0.2222222222222222, \"#7201a8\"], [0.3333333333333333, \"#9c179e\"], [0.4444444444444444, \"#bd3786\"], [0.5555555555555556, \"#d8576b\"], [0.6666666666666666, \"#ed7953\"], [0.7777777777777778, \"#fb9f3a\"], [0.8888888888888888, \"#fdca26\"], [1.0, \"#f0f921\"]], \"type\": \"heatmap\"}], \"heatmapgl\": [{\"colorbar\": {\"outlinewidth\": 0, \"ticks\": \"\"}, \"colorscale\": [[0.0, \"#0d0887\"], [0.1111111111111111, \"#46039f\"], [0.2222222222222222, \"#7201a8\"], [0.3333333333333333, \"#9c179e\"], [0.4444444444444444, \"#bd3786\"], [0.5555555555555556, \"#d8576b\"], [0.6666666666666666, \"#ed7953\"], [0.7777777777777778, \"#fb9f3a\"], [0.8888888888888888, \"#fdca26\"], [1.0, \"#f0f921\"]], \"type\": \"heatmapgl\"}], \"histogram\": [{\"marker\": {\"colorbar\": {\"outlinewidth\": 0, \"ticks\": \"\"}}, \"type\": \"histogram\"}], \"histogram2d\": [{\"colorbar\": {\"outlinewidth\": 0, \"ticks\": \"\"}, \"colorscale\": [[0.0, \"#0d0887\"], [0.1111111111111111, \"#46039f\"], [0.2222222222222222, \"#7201a8\"], [0.3333333333333333, \"#9c179e\"], [0.4444444444444444, \"#bd3786\"], [0.5555555555555556, \"#d8576b\"], [0.6666666666666666, \"#ed7953\"], [0.7777777777777778, \"#fb9f3a\"], [0.8888888888888888, \"#fdca26\"], [1.0, \"#f0f921\"]], \"type\": \"histogram2d\"}], \"histogram2dcontour\": [{\"colorbar\": {\"outlinewidth\": 0, \"ticks\": \"\"}, \"colorscale\": [[0.0, \"#0d0887\"], [0.1111111111111111, \"#46039f\"], [0.2222222222222222, \"#7201a8\"], [0.3333333333333333, \"#9c179e\"], [0.4444444444444444, \"#bd3786\"], [0.5555555555555556, \"#d8576b\"], [0.6666666666666666, \"#ed7953\"], [0.7777777777777778, \"#fb9f3a\"], [0.8888888888888888, \"#fdca26\"], [1.0, \"#f0f921\"]], \"type\": \"histogram2dcontour\"}], \"mesh3d\": [{\"colorbar\": {\"outlinewidth\": 0, \"ticks\": \"\"}, \"type\": \"mesh3d\"}], \"parcoords\": [{\"line\": {\"colorbar\": {\"outlinewidth\": 0, \"ticks\": \"\"}}, \"type\": \"parcoords\"}], \"pie\": [{\"automargin\": true, \"type\": \"pie\"}], \"scatter\": [{\"marker\": {\"colorbar\": {\"outlinewidth\": 0, \"ticks\": \"\"}}, \"type\": \"scatter\"}], \"scatter3d\": [{\"line\": {\"colorbar\": {\"outlinewidth\": 0, \"ticks\": \"\"}}, \"marker\": {\"colorbar\": {\"outlinewidth\": 0, \"ticks\": \"\"}}, \"type\": \"scatter3d\"}], \"scattercarpet\": [{\"marker\": {\"colorbar\": {\"outlinewidth\": 0, \"ticks\": \"\"}}, \"type\": \"scattercarpet\"}], \"scattergeo\": [{\"marker\": {\"colorbar\": {\"outlinewidth\": 0, \"ticks\": \"\"}}, \"type\": \"scattergeo\"}], \"scattergl\": [{\"marker\": {\"colorbar\": {\"outlinewidth\": 0, \"ticks\": \"\"}}, \"type\": \"scattergl\"}], \"scattermapbox\": [{\"marker\": {\"colorbar\": {\"outlinewidth\": 0, \"ticks\": \"\"}}, \"type\": \"scattermapbox\"}], \"scatterpolar\": [{\"marker\": {\"colorbar\": {\"outlinewidth\": 0, \"ticks\": \"\"}}, \"type\": \"scatterpolar\"}], \"scatterpolargl\": [{\"marker\": {\"colorbar\": {\"outlinewidth\": 0, \"ticks\": \"\"}}, \"type\": \"scatterpolargl\"}], \"scatterternary\": [{\"marker\": {\"colorbar\": {\"outlinewidth\": 0, \"ticks\": \"\"}}, \"type\": \"scatterternary\"}], \"surface\": [{\"colorbar\": {\"outlinewidth\": 0, \"ticks\": \"\"}, \"colorscale\": [[0.0, \"#0d0887\"], [0.1111111111111111, \"#46039f\"], [0.2222222222222222, \"#7201a8\"], [0.3333333333333333, \"#9c179e\"], [0.4444444444444444, \"#bd3786\"], [0.5555555555555556, \"#d8576b\"], [0.6666666666666666, \"#ed7953\"], [0.7777777777777778, \"#fb9f3a\"], [0.8888888888888888, \"#fdca26\"], [1.0, \"#f0f921\"]], \"type\": \"surface\"}], \"table\": [{\"cells\": {\"fill\": {\"color\": \"#EBF0F8\"}, \"line\": {\"color\": \"white\"}}, \"header\": {\"fill\": {\"color\": \"#C8D4E3\"}, \"line\": {\"color\": \"white\"}}, \"type\": \"table\"}]}, \"layout\": {\"annotationdefaults\": {\"arrowcolor\": \"#2a3f5f\", \"arrowhead\": 0, \"arrowwidth\": 1}, \"coloraxis\": {\"colorbar\": {\"outlinewidth\": 0, \"ticks\": \"\"}}, \"colorscale\": {\"diverging\": [[0, \"#8e0152\"], [0.1, \"#c51b7d\"], [0.2, \"#de77ae\"], [0.3, \"#f1b6da\"], [0.4, \"#fde0ef\"], [0.5, \"#f7f7f7\"], [0.6, \"#e6f5d0\"], [0.7, \"#b8e186\"], [0.8, \"#7fbc41\"], [0.9, \"#4d9221\"], [1, \"#276419\"]], \"sequential\": [[0.0, \"#0d0887\"], [0.1111111111111111, \"#46039f\"], [0.2222222222222222, \"#7201a8\"], [0.3333333333333333, \"#9c179e\"], [0.4444444444444444, \"#bd3786\"], [0.5555555555555556, \"#d8576b\"], [0.6666666666666666, \"#ed7953\"], [0.7777777777777778, \"#fb9f3a\"], [0.8888888888888888, \"#fdca26\"], [1.0, \"#f0f921\"]], \"sequentialminus\": [[0.0, \"#0d0887\"], [0.1111111111111111, \"#46039f\"], [0.2222222222222222, \"#7201a8\"], [0.3333333333333333, \"#9c179e\"], [0.4444444444444444, \"#bd3786\"], [0.5555555555555556, \"#d8576b\"], [0.6666666666666666, \"#ed7953\"], [0.7777777777777778, \"#fb9f3a\"], [0.8888888888888888, \"#fdca26\"], [1.0, \"#f0f921\"]]}, \"colorway\": [\"#636efa\", \"#EF553B\", \"#00cc96\", \"#ab63fa\", \"#FFA15A\", \"#19d3f3\", \"#FF6692\", \"#B6E880\", \"#FF97FF\", \"#FECB52\"], \"font\": {\"color\": \"#2a3f5f\"}, \"geo\": {\"bgcolor\": \"white\", \"lakecolor\": \"white\", \"landcolor\": \"#E5ECF6\", \"showlakes\": true, \"showland\": true, \"subunitcolor\": \"white\"}, \"hoverlabel\": {\"align\": \"left\"}, \"hovermode\": \"closest\", \"mapbox\": {\"style\": \"light\"}, \"paper_bgcolor\": \"white\", \"plot_bgcolor\": \"#E5ECF6\", \"polar\": {\"angularaxis\": {\"gridcolor\": \"white\", \"linecolor\": \"white\", \"ticks\": \"\"}, \"bgcolor\": \"#E5ECF6\", \"radialaxis\": {\"gridcolor\": \"white\", \"linecolor\": \"white\", \"ticks\": \"\"}}, \"scene\": {\"xaxis\": {\"backgroundcolor\": \"#E5ECF6\", \"gridcolor\": \"white\", \"gridwidth\": 2, \"linecolor\": \"white\", \"showbackground\": true, \"ticks\": \"\", \"zerolinecolor\": \"white\"}, \"yaxis\": {\"backgroundcolor\": \"#E5ECF6\", \"gridcolor\": \"white\", \"gridwidth\": 2, \"linecolor\": \"white\", \"showbackground\": true, \"ticks\": \"\", \"zerolinecolor\": \"white\"}, \"zaxis\": {\"backgroundcolor\": \"#E5ECF6\", \"gridcolor\": \"white\", \"gridwidth\": 2, \"linecolor\": \"white\", \"showbackground\": true, \"ticks\": \"\", \"zerolinecolor\": \"white\"}}, \"shapedefaults\": {\"line\": {\"color\": \"#2a3f5f\"}}, \"ternary\": {\"aaxis\": {\"gridcolor\": \"white\", \"linecolor\": \"white\", \"ticks\": \"\"}, \"baxis\": {\"gridcolor\": \"white\", \"linecolor\": \"white\", \"ticks\": \"\"}, \"bgcolor\": \"#E5ECF6\", \"caxis\": {\"gridcolor\": \"white\", \"linecolor\": \"white\", \"ticks\": \"\"}}, \"title\": {\"x\": 0.05}, \"xaxis\": {\"automargin\": true, \"gridcolor\": \"white\", \"linecolor\": \"white\", \"ticks\": \"\", \"title\": {\"standoff\": 15}, \"zerolinecolor\": \"white\", \"zerolinewidth\": 2}, \"yaxis\": {\"automargin\": true, \"gridcolor\": \"white\", \"linecolor\": \"white\", \"ticks\": \"\", \"title\": {\"standoff\": 15}, \"zerolinecolor\": \"white\", \"zerolinewidth\": 2}}}, \"title\": {\"text\": \"Retorno Acumulado da Carteira de Investimentos\"}},\n",
              "                        {\"responsive\": true}\n",
              "                    ).then(function(){\n",
              "                            \n",
              "var gd = document.getElementById('7a99f07b-5be4-4f93-8797-ab6c9a967d61');\n",
              "var x = new MutationObserver(function (mutations, observer) {{\n",
              "        var display = window.getComputedStyle(gd).display;\n",
              "        if (!display || display === 'none') {{\n",
              "            console.log([gd, 'removed!']);\n",
              "            Plotly.purge(gd);\n",
              "            observer.disconnect();\n",
              "        }}\n",
              "}});\n",
              "\n",
              "// Listen for the removal of the full notebook cells\n",
              "var notebookContainer = gd.closest('#notebook-container');\n",
              "if (notebookContainer) {{\n",
              "    x.observe(notebookContainer, {childList: true});\n",
              "}}\n",
              "\n",
              "// Listen for the clearing of the current output cell\n",
              "var outputEl = gd.closest('.output');\n",
              "if (outputEl) {{\n",
              "    x.observe(outputEl, {childList: true});\n",
              "}}\n",
              "\n",
              "                        })\n",
              "                };\n",
              "                \n",
              "            </script>\n",
              "        </div>\n",
              "</body>\n",
              "</html>"
            ]
          },
          "metadata": {
            "tags": []
          }
        }
      ]
    }
  ]
}
