{
  "nbformat": 4,
  "nbformat_minor": 0,
  "metadata": {
    "colab": {
      "name": "Análise-DRE_CiaExemplo.ipynb",
      "provenance": [],
      "collapsed_sections": [],
      "authorship_tag": "ABX9TyNvqz2WTr5x0XPOriEUXmrG",
      "include_colab_link": true
    },
    "kernelspec": {
      "name": "python3",
      "display_name": "Python 3"
    }
  },
  "cells": [
    {
      "cell_type": "markdown",
      "metadata": {
        "id": "view-in-github",
        "colab_type": "text"
      },
      "source": [
        "<a href=\"https://colab.research.google.com/github/gabrieldepaiva/Projetos_Financas-Python/blob/main/An%C3%A1lise_DRE_CiaExemplo.ipynb\" target=\"_parent\"><img src=\"https://colab.research.google.com/assets/colab-badge.svg\" alt=\"Open In Colab\"/></a>"
      ]
    },
    {
      "cell_type": "markdown",
      "metadata": {
        "id": "LLe64rR1pd6W"
      },
      "source": [
        "## Baixando e carregando a DRE de uma Companhia"
      ]
    },
    {
      "cell_type": "markdown",
      "metadata": {
        "id": "iGhoftX9piy7"
      },
      "source": [
        "#### Base de Dados da CVM - http://dados.cvm.gov.br/dados/CIA_ABERTA/DOC/ITR/DADOS/"
      ]
    },
    {
      "cell_type": "markdown",
      "metadata": {
        "id": "JFrzkJxArmCw"
      },
      "source": [
        "#### Importação das Bibliotecas"
      ]
    },
    {
      "cell_type": "code",
      "metadata": {
        "id": "xIR9HDKMp0U9"
      },
      "source": [
        "!pip install wget"
      ],
      "execution_count": null,
      "outputs": []
    },
    {
      "cell_type": "code",
      "metadata": {
        "id": "F1sLf-lJp8qk"
      },
      "source": [
        "import pandas as pd\r\n",
        "import wget\r\n",
        "from zipfile import ZipFile\r\n",
        "from google.colab.data_table import DataTable"
      ],
      "execution_count": 15,
      "outputs": []
    },
    {
      "cell_type": "code",
      "metadata": {
        "id": "yZDnxbIJsuvG"
      },
      "source": [
        "url_base = 'http://dados.cvm.gov.br/dados/CIA_ABERTA/DOC/ITR/DADOS/'"
      ],
      "execution_count": 3,
      "outputs": []
    },
    {
      "cell_type": "code",
      "metadata": {
        "id": "a-m0rgZ5tHxA"
      },
      "source": [
        "nome_arquivo = []\r\n",
        "for ano in range(2011,2021):\r\n",
        "  nome_arquivo.append(f'itr_cia_aberta_{ano}.zip')"
      ],
      "execution_count": 33,
      "outputs": []
    },
    {
      "cell_type": "markdown",
      "metadata": {
        "id": "A6fgYd9_upyQ"
      },
      "source": [
        "- Download do Arquivo"
      ]
    },
    {
      "cell_type": "code",
      "metadata": {
        "id": "Xiq89oWIutgg"
      },
      "source": [
        "for arq in nome_arquivo:\r\n",
        "  wget.download(url_base+arq)"
      ],
      "execution_count": 32,
      "outputs": []
    },
    {
      "cell_type": "markdown",
      "metadata": {
        "id": "u5IfDg4VvYPu"
      },
      "source": [
        "- Extrair o arquivo Zipado"
      ]
    },
    {
      "cell_type": "code",
      "metadata": {
        "id": "tcbJPv1PvbGL"
      },
      "source": [
        "for arq in nome_arquivo:\r\n",
        "  ZipFile(arq,mode='r').extractall('Demons_Financ')"
      ],
      "execution_count": 36,
      "outputs": []
    },
    {
      "cell_type": "markdown",
      "metadata": {
        "id": "GozzU0XL0SPb"
      },
      "source": [
        "- Carregar todas as DRE's das Empresas disponíveis no site da CVM"
      ]
    },
    {
      "cell_type": "code",
      "metadata": {
        "colab": {
          "base_uri": "https://localhost:8080/"
        },
        "id": "5x4c1Gax0UwX",
        "outputId": "56b58b87-8186-4e68-acec-b7475b89bc3a"
      },
      "source": [
        "dre_empresas = pd.read_csv(f'/content/Demonstrações_Financeiras/itr_cia_aberta_DRE_con_{ano}.csv',sep=';',decimal=',',encoding='ISO-8859-1')\r\n",
        "\r\n",
        "dre = dre_empresas[dre_empresas['ORDEM_EXERC'] == 'ÚLTIMO']\r\n",
        "\r\n",
        "print('Carregado com Sucesso')"
      ],
      "execution_count": 91,
      "outputs": [
        {
          "output_type": "stream",
          "text": [
            "Carregado com Sucesso\n"
          ],
          "name": "stdout"
        }
      ]
    },
    {
      "cell_type": "markdown",
      "metadata": {
        "id": "N_S4T5uQmnE0"
      },
      "source": [
        "- Companhias Disponíveis na Tabela"
      ]
    },
    {
      "cell_type": "code",
      "metadata": {
        "id": "dqs8fnvClxOi",
        "outputId": "799ae960-4bed-4006-ebd7-1a743951139f",
        "colab": {
          "base_uri": "https://localhost:8080/",
          "height": 598
        }
      },
      "source": [
        "empresas = dre[['DENOM_CIA','CD_CVM']].drop_duplicates().set_index('CD_CVM')\r\n",
        "empresas.rename(columns={'DENOM_CIA': 'Empresa'},inplace=True)\r\n",
        "DataTable(empresas)"
      ],
      "execution_count": 103,
      "outputs": [
        {
          "output_type": "execute_result",
          "data": {
            "application/vnd.google.colaboratory.module+javascript": "\n      import \"https://ssl.gstatic.com/colaboratory/data_table/a6224c040fa35dcf/data_table.js\";\n\n      window.createDataTable({\n        data: [[{\n            'v': 2437,\n            'f': \"2437\",\n        },\n\"CENTRAIS ELET BRAS S.A. - ELETROBRAS\"],\n [{\n            'v': 14451,\n            'f': \"14451\",\n        },\n\"CIA ENERGETICA DE BRASILIA\"],\n [{\n            'v': 15423,\n            'f': \"15423\",\n        },\n\"ATOM EMPREENDIMENTOS E PARTICIPA\\u00c7\\u00d5ES S.A.\"],\n [{\n            'v': 24880,\n            'f': \"24880\",\n        },\n\"LM TRANSPORTES INTERESTADUAIS SERVI\\u00c7OS E COM\\u00c9RCIO S.A.\"],\n [{\n            'v': 22594,\n            'f': \"22594\",\n        },\n\"STATKRAFT ENERGIAS RENOVAVEIS S.A.\"],\n [{\n            'v': 20990,\n            'f': \"20990\",\n        },\n\"B2W - COMPANHIA DIGITAL\"],\n [{\n            'v': 15253,\n            'f': \"15253\",\n        },\n\"ENERGISA S.A.\"],\n [{\n            'v': 15539,\n            'f': \"15539\",\n        },\n\"NEOENERGIA S.A.\"],\n [{\n            'v': 24660,\n            'f': \"24660\",\n        },\n\"BBM LOG\\u00cdSTICA S.A.\"],\n [{\n            'v': 16101,\n            'f': \"16101\",\n        },\n\"GAFISA S.A.\"],\n [{\n            'v': 25160,\n            'f': \"25160\",\n        },\n\"SEQUOIA LOG\\u00cdSTICA E TRANSPORTES S.A.\"],\n [{\n            'v': 16292,\n            'f': \"16292\",\n        },\n\"BRF S.A.\"],\n [{\n            'v': 23000,\n            'f': \"23000\",\n        },\n\"LIGHT ENERGIA S.A.\"],\n [{\n            'v': 18708,\n            'f': \"18708\",\n        },\n\"CIA PARTICIPACOES ALIANCA DA BAHIA\"],\n [{\n            'v': 16438,\n            'f': \"16438\",\n        },\n\"SUL 116 PARTICIPACOES S.A.\"],\n [{\n            'v': 16497,\n            'f': \"16497\",\n        },\n\"EMPRESA NAC COM REDITO PART S.A.ENCORPAR\"],\n [{\n            'v': 18287,\n            'f': \"18287\",\n        },\n\"CIBRASEC - COMPANHIA BRASILEIRA DE SECURITIZACAO\"],\n [{\n            'v': 16659,\n            'f': \"16659\",\n        },\n\"PORTO SEGURO S.A.\"],\n [{\n            'v': 16632,\n            'f': \"16632\",\n        },\n\"GPC PARTICIPACOES S.A.\"],\n [{\n            'v': 24813,\n            'f': \"24813\",\n        },\n\"LOCALIZA FLEET S.A.\"],\n [{\n            'v': 16993,\n            'f': \"16993\",\n        },\n\"EMAE - EMPRESA METROP.AGUAS ENERGIA S.A.\"],\n [{\n            'v': 20800,\n            'f': \"20800\",\n        },\n\"TEGMA GESTAO LOGISTICA S.A.\"],\n [{\n            'v': 24910,\n            'f': \"24910\",\n        },\n\"LOCAWEB SERVI\\u00c7OS DE INTERNET S.A.\"],\n [{\n            'v': 24872,\n            'f': \"24872\",\n        },\n\"LIFEMED INDUSTRIAL DE EQUIP. E ART. MEDICOS E HOSP. S.A\"],\n [{\n            'v': 18414,\n            'f': \"18414\",\n        },\n\"IDEIASNET S.A.\"],\n [{\n            'v': 17450,\n            'f': \"17450\",\n        },\n\"RUMO S.A.\"],\n [{\n            'v': 18660,\n            'f': \"18660\",\n        },\n\"CPFL ENERGIA S.A.\"],\n [{\n            'v': 17329,\n            'f': \"17329\",\n        },\n\"ENGIE BRASIL ENERGIA S.A.\"],\n [{\n            'v': 17639,\n            'f': \"17639\",\n        },\n\"TIM PARTICIPACOES S.A.\"],\n [{\n            'v': 17671,\n            'f': \"17671\",\n        },\n\"TELEF\\u00d4NICA BRASIL S.A\"],\n [{\n            'v': 17914,\n            'f': \"17914\",\n        },\n\"MMX MINERACAO E METALICOS S.A. - EM RECUPERA\\u00c7\\u00c3O JUDICIAL\"],\n [{\n            'v': 17892,\n            'f': \"17892\",\n        },\n\"SANTOS BRASIL PARTICIPACOES S.A.\"],\n [{\n            'v': 17973,\n            'f': \"17973\",\n        },\n\"COGNA EDUCA\\u00c7\\u00c3O S.A.\"],\n [{\n            'v': 18821,\n            'f': \"18821\",\n        },\n\"CCR S.A.\"],\n [{\n            'v': 22454,\n            'f': \"22454\",\n        },\n\"T4F ENTRETENIMENTO S.A.\"],\n [{\n            'v': 20575,\n            'f': \"20575\",\n        },\n\"JBS S.A.\"],\n [{\n            'v': 19771,\n            'f': \"19771\",\n        },\n\"ARTERIS S.A.\"],\n [{\n            'v': 21431,\n            'f': \"21431\",\n        },\n\"HYPERA S.A.\"],\n [{\n            'v': 20478,\n            'f': \"20478\",\n        },\n\"PDG REALTY S.A. EMPREEND E PARTICIPACOES - EM REC. JUDICIAL\"],\n [{\n            'v': 18368,\n            'f': \"18368\",\n        },\n\"RIO PARANAPANEMA ENERGIA S.A.\"],\n [{\n            'v': 18376,\n            'f': \"18376\",\n        },\n\"CTEEP - CIA TRANSMISS\\u00c3O ENERGIA EL\\u00c9TRICA PAULISTA\"],\n [{\n            'v': 19330,\n            'f': \"19330\",\n        },\n\"TPI - TRIUNFO PARTICIP. E INVEST. S.A.\"],\n [{\n            'v': 20010,\n            'f': \"20010\",\n        },\n\"EQUATORIAL ENERGIA S.A.\"],\n [{\n            'v': 19879,\n            'f': \"19879\",\n        },\n\"LIGHT S.A.\"],\n [{\n            'v': 18775,\n            'f': \"18775\",\n        },\n\"INVESTIMENTOS E PARTICIP. EM INFRA S.A. - INVEPAR\"],\n [{\n            'v': 24490,\n            'f': \"24490\",\n        },\n\"SABER SERVI\\u00c7OS EDUCACIONAIS S.A.\"],\n [{\n            'v': 18724,\n            'f': \"18724\",\n        },\n\"BRADESPAR S.A.\"],\n [{\n            'v': 20788,\n            'f': \"20788\",\n        },\n\"MARFRIG GLOBAL FOODS S.A.\"],\n [{\n            'v': 18953,\n            'f': \"18953\",\n        },\n\"CPFL GERACAO DE ENERGIA S.A.\"],\n [{\n            'v': 19763,\n            'f': \"19763\",\n        },\n\"EDP - ENERGIAS DO BRASIL S.A.\"],\n [{\n            'v': 19100,\n            'f': \"19100\",\n        },\n\"ATMA PARTICIPA\\u00c7\\u00d5ES S.A.\"],\n [{\n            'v': 22799,\n            'f': \"22799\",\n        },\n\"SINQIA S.A.\"],\n [{\n            'v': 18970,\n            'f': \"18970\",\n        },\n\"AES TIETE ENERGIA SA\"],\n [{\n            'v': 19453,\n            'f': \"19453\",\n        },\n\"ECORODOVIAS INFRAESTRUTURA E LOG\\u00cdSTICA S.A.\"],\n [{\n            'v': 24740,\n            'f': \"24740\",\n        },\n\"COPEL GERA\\u00c7\\u00c3O E TRANSMISS\\u00c3O S.A.\"],\n [{\n            'v': 21237,\n            'f': \"21237\",\n        },\n\"ENEVA S.A\"],\n [{\n            'v': 19305,\n            'f': \"19305\",\n        },\n\"BIOMM S.A.\"],\n [{\n            'v': 20613,\n            'f': \"20613\",\n        },\n\"METALFRIO SOLUTIONS S.A.\"],\n [{\n            'v': 23221,\n            'f': \"23221\",\n        },\n\"SER EDUCACIONAL S.A.\"],\n [{\n            'v': 24392,\n            'f': \"24392\",\n        },\n\"HAPVIDA PARTICIPA\\u00c7\\u00d5ES E INVESTIMENTOS S.A.\"],\n [{\n            'v': 80047,\n            'f': \"80047\",\n        },\n\"WILSON SONS LTD.\"],\n [{\n            'v': 24252,\n            'f': \"24252\",\n        },\n\"SMILES FIDELIDADE S.A.\"],\n [{\n            'v': 20354,\n            'f': \"20354\",\n        },\n\"TERRA SANTA AGRO S.A.\"],\n [{\n            'v': 22357,\n            'f': \"22357\",\n        },\n\"ALIANSCE SONAE SHOPPING CENTERS S.A.\"],\n [{\n            'v': 24821,\n            'f': \"24821\",\n        },\n\"REDE D'OR S\\u00c3O LUIZ S.A.\"],\n [{\n            'v': 19569,\n            'f': \"19569\",\n        },\n\"GOL LINHAS AEREAS INTELIGENTES S.A.\"],\n [{\n            'v': 23035,\n            'f': \"23035\",\n        },\n\"LINX S.A.\"],\n [{\n            'v': 19909,\n            'f': \"19909\",\n        },\n\"BR MALLS PARTICIPACOES S.A.\"],\n [{\n            'v': 19925,\n            'f': \"19925\",\n        },\n\"BR PROPERTIES S.A.\"],\n [{\n            'v': 20320,\n            'f': \"20320\",\n        },\n\"CEMIG GERACAO E TRANSMISSAO S.A.\"],\n [{\n            'v': 23981,\n            'f': \"23981\",\n        },\n\"CTC - CENTRO DE TECNOLOGIA CANAVIEIRA S.A.\"],\n [{\n            'v': 23531,\n            'f': \"23531\",\n        },\n\"CLARO TELECOM PARTICIPA\\u00c7\\u00d5ES S.A.\"],\n [{\n            'v': 20338,\n            'f': \"20338\",\n        },\n\"M.DIAS BRANCO S.A. IND COM DE ALIMENTOS\"],\n [{\n            'v': 22810,\n            'f': \"22810\",\n        },\n\"ELDORADO BRASIL CELULOSE S.A.\"],\n [{\n            'v': 25003,\n            'f': \"25003\",\n        },\n\"SIMPAR S.A.\"],\n [{\n            'v': 23965,\n            'f': \"23965\",\n        },\n\"CINESYSTEM S.A.\"],\n [{\n            'v': 23264,\n            'f': \"23264\",\n        },\n\"AMBEV S.A.\"],\n [{\n            'v': 24260,\n            'f': \"24260\",\n        },\n\"SMARTFIT ESCOLA DE GIN\\u00c1STICA E DAN\\u00c7A S.A.\"],\n [{\n            'v': 20036,\n            'f': \"20036\",\n        },\n\"BRASILAGRO - CIA BRAS DE PROP AGRICOLAS\"],\n [{\n            'v': 20087,\n            'f': \"20087\",\n        },\n\"EMBRAER S.A.\"],\n [{\n            'v': 20966,\n            'f': \"20966\",\n        },\n\"SPRINGS GLOBAL PARTICIPACOES S.A.\"],\n [{\n            'v': 20982,\n            'f': \"20982\",\n        },\n\"MULTIPLAN - EMPREEND IMOBILIARIOS S.A.\"],\n [{\n            'v': 20630,\n            'f': \"20630\",\n        },\n\"CR2 EMPREENDIMENTOS IMOBILIARIOS S.A.\"],\n [{\n            'v': 80187,\n            'f': \"80187\",\n        },\n\"AURA MINERALS INC.\"],\n [{\n            'v': 80020,\n            'f': \"80020\",\n        },\n\"GP INVESTMENTS, LTD.\"],\n [{\n            'v': 24473,\n            'f': \"24473\",\n        },\n\"JHSF MALLS S.A.\"],\n [{\n            'v': 20257,\n            'f': \"20257\",\n        },\n\"TRANSMISSORA ALIAN\\u00c7A DE ENERGIA EL\\u00c9TRICA S.A.\"],\n [{\n            'v': 24902,\n            'f': \"24902\",\n        },\n\"MITRE REALTY EMPREENDIMENTOS E PARTICIPA\\u00c7\\u00d5ES S.A.\"],\n [{\n            'v': 20435,\n            'f': \"20435\",\n        },\n\"TECNISA S.A.\"],\n [{\n            'v': 23230,\n            'f': \"23230\",\n        },\n\"RAIZEN ENERGIA S.A.\"],\n [{\n            'v': 20370,\n            'f': \"20370\",\n        },\n\"LPS BRASIL - CONSULTORIA DE IMOVEIS S.A.\"],\n [{\n            'v': 23175,\n            'f': \"23175\",\n        },\n\"IGUA SANEAMENTO S.A.\"],\n [{\n            'v': 20605,\n            'f': \"20605\",\n        },\n\"JHSF PARTICIPACOES S.A.\"],\n [{\n            'v': 20770,\n            'f': \"20770\",\n        },\n\"EZ TEC EMPREEND. E PARTICIPACOES S.A.\"],\n [{\n            'v': 20915,\n            'f': \"20915\",\n        },\n\"MRV ENGENHARIA E PARTICIPACOES S.A.\"],\n [{\n            'v': 21490,\n            'f': \"21490\",\n        },\n\"ALUPAR INVESTIMENTO S/A\"],\n [{\n            'v': 4669,\n            'f': \"4669\",\n        },\n\"GUARARAPES CONFECCOES S.A.\"],\n [{\n            'v': 20540,\n            'f': \"20540\",\n        },\n\"CPFL ENERGIAS RENOV\\u00c1VEIS S.A.\"],\n [{\n            'v': 21709,\n            'f': \"21709\",\n        },\n\"CIA MINEIRA DE A\\u00c7UCAR E ALCOOL PARTICIPA\\u00c7\\u00d5ES\"],\n [{\n            'v': 21636,\n            'f': \"21636\",\n        },\n\"RENOVA ENERGIA S.A. - EM RECUPERA\\u00c7\\u00c3O JUDICIAL\"],\n [{\n            'v': 21393,\n            'f': \"21393\",\n        },\n\"CIA CELG DE PARTICIPACOES - CELGPAR\"],\n [{\n            'v': 24546,\n            'f': \"24546\",\n        },\n\"PR\\u00c1TICA KLIMAQUIP IND\\u00daSTRIA E COM\\u00c9RCIO S.A.\"],\n [{\n            'v': 21180,\n            'f': \"21180\",\n        },\n\"BRASIL BROKERS PARTICIPACOES S.A.\"],\n [{\n            'v': 21008,\n            'f': \"21008\",\n        },\n\"GENERAL SHOPPING E OUTLETS DO BRASIL S.A.\"],\n [{\n            'v': 20818,\n            'f': \"20818\",\n        },\n\"ISEC SECURITIZADORA S.A.\"],\n [{\n            'v': 25224,\n            'f': \"25224\",\n        },\n\"2W ENERGIA S.A.\"],\n [{\n            'v': 23930,\n            'f': \"23930\",\n        },\n\"BRASILIANA PARTICIPA\\u00c7\\u00d5ES S/A\"],\n [{\n            'v': 25100,\n            'f': \"25100\",\n        },\n\"CURY CONSTRUTORA E INCORPORADORA S.A.\"],\n [{\n            'v': 21040,\n            'f': \"21040\",\n        },\n\"CYRELA COMMERCIAL PROPERT S.A. EMPR PART\"],\n [{\n            'v': 21016,\n            'f': \"21016\",\n        },\n\"YDUQS PARTICIPACOES S.A.\"],\n [{\n            'v': 21130,\n            'f': \"21130\",\n        },\n\"TRISUL S.A.\"],\n [{\n            'v': 23396,\n            'f': \"23396\",\n        },\n\"AEGEA SANEAMENTO E PARTICIPA\\u00c7\\u00d5ES S.A.\"],\n [{\n            'v': 21903,\n            'f': \"21903\",\n        },\n\"ECORODOVIAS CONCESS\\u00d5ES E SERVI\\u00c7OS S.A.\"],\n [{\n            'v': 23493,\n            'f': \"23493\",\n        },\n\"DOMMO ENERGIA S.A.\"],\n [{\n            'v': 21520,\n            'f': \"21520\",\n        },\n\"MULTINER S/A\"],\n [{\n            'v': 23272,\n            'f': \"23272\",\n        },\n\"LOG COMMERCIAL PROPERTIES E PARTICIPA\\u00c7\\u00d5ES\"],\n [{\n            'v': 22560,\n            'f': \"22560\",\n        },\n\"INBRANDS S.A.\"],\n [{\n            'v': 21342,\n            'f': \"21342\",\n        },\n\"OSX BRASIL S.A.\"],\n [{\n            'v': 23426,\n            'f': \"23426\",\n        },\n\"OMEGA GERA\\u00c7\\u00c3O S.A.\"],\n [{\n            'v': 23248,\n            'f': \"23248\",\n        },\n\"ANIMA HOLDING S.A.\"],\n [{\n            'v': 22519,\n            'f': \"22519\",\n        },\n\"TECHNOS S.A.\"],\n [{\n            'v': 24112,\n            'f': \"24112\",\n        },\n\"AZUL S.A.\"],\n [{\n            'v': 21610,\n            'f': \"21610\",\n        },\n\"B3 S.A. - BRASIL, BOLSA, BALC\\u00c3O\"],\n [{\n            'v': 24279,\n            'f': \"24279\",\n        },\n\"INTER CONSTRUTORA E INCORPORADORA S.A.\"],\n [{\n            'v': 22691,\n            'f': \"22691\",\n        },\n\"CIA LOCA\\u00c7\\u00c3O DAS AM\\u00c9RICAS\"],\n [{\n            'v': 25011,\n            'f': \"25011\",\n        },\n\"GRUPO DE MODA SOMA S.A.\"],\n [{\n            'v': 22187,\n            'f': \"22187\",\n        },\n\"PETRO RIO S.A.\"],\n [{\n            'v': 23310,\n            'f': \"23310\",\n        },\n\"CVC BRASIL OPERADORA E AG\\u00caNCIA DE VIAGENS S.A.\"],\n [{\n            'v': 24350,\n            'f': \"24350\",\n        },\n\"FLEX GEST\\u00c3O DE RELACIONAMENTOS S.A.\"],\n [{\n            'v': 23604,\n            'f': \"23604\",\n        },\n\"YOU INC INCORPORADORA E PARTICIPA\\u00c7\\u00c3O S.A\"],\n [{\n            'v': 22365,\n            'f': \"22365\",\n        },\n\"ENAUTA PARTICIPA\\u00c7\\u00d5ES S.A.\"],\n [{\n            'v': 22217,\n            'f': \"22217\",\n        },\n\"ALPER CONSULTORIA E CORRETORA DE SEGUROS S.A.\"],\n [{\n            'v': 22497,\n            'f': \"22497\",\n        },\n\"QUALICORP CONSULTORIA E CORRETORA DE SEGUROS S.A.\"],\n [{\n            'v': 21067,\n            'f': \"21067\",\n        },\n\"MOURA DUBEUX ENGENHARIA S/A\"],\n [{\n            'v': 25291,\n            'f': \"25291\",\n        },\n\"3R PETROLEUM \\u00d3LEO E G\\u00c1S S.A.\"],\n [{\n            'v': 25046,\n            'f': \"25046\",\n        },\n\"D1000 VAREJO FARMA PARTICIPA\\u00c7\\u00d5ES S.A.\"],\n [{\n            'v': 25119,\n            'f': \"25119\",\n        },\n\"MELNICK DESENVOLVIMENTO IMOBILI\\u00c1RIO S.A.\"],\n [{\n            'v': 25283,\n            'f': \"25283\",\n        },\n\"AERIS IND\\u00daSTRIA E COM. DE EQUIP. PARA GERA\\u00c7\\u00c3O DE ENERGIA S.A\"],\n [{\n            'v': 24961,\n            'f': \"24961\",\n        },\n\"AMBIPAR PARTICIPA\\u00c7\\u00d5ES E EMPREENDIMENTOS S.A.\"],\n [{\n            'v': 22675,\n            'f': \"22675\",\n        },\n\"HIDROVIAS DO BRASIL S.A.\"],\n [{\n            'v': 24694,\n            'f': \"24694\",\n        },\n\"GRUPO SBF S.A.\"],\n [{\n            'v': 22586,\n            'f': \"22586\",\n        },\n\"MLOG S.A.\"],\n [{\n            'v': 24317,\n            'f': \"24317\",\n        },\n\"BK BRASIL OPERA\\u00c7\\u00c3O E ASSESSORIA A RESTAURANTES SA\"],\n [{\n            'v': 23957,\n            'f': \"23957\",\n        },\n\"SUGOI S.A.\"],\n [{\n            'v': 25232,\n            'f': \"25232\",\n        },\n\"M\\u00c9LIUZ S.A.\"],\n [{\n            'v': 25321,\n            'f': \"25321\",\n        },\n\"GRANBIO INVESTIMENTOS S.A.\"],\n [{\n            'v': 1597,\n            'f': \"1597\",\n        },\n\"PARTICIPA\\u00c7\\u00d5ES INDUST. DO NORDESTE S.A.\"],\n [{\n            'v': 20729,\n            'f': \"20729\",\n        },\n\"PARANA BCO S.A.\"],\n [{\n            'v': 12696,\n            'f': \"12696\",\n        },\n\"SANSUY S.A. INDUSTRIA DE PLASTICOS\"],\n [{\n            'v': 23620,\n            'f': \"23620\",\n        },\n\"OCEANA OFFSHORE S.A.\"],\n [{\n            'v': 21156,\n            'f': \"21156\",\n        },\n\"J. MACEDO S.A.\"],\n [{\n            'v': 4863,\n            'f': \"4863\",\n        },\n\"CORREA RIBEIRO S.A. COMERCIO E INDUSTRIA\"],\n [{\n            'v': 3069,\n            'f': \"3069\",\n        },\n\"CIA FERRO LIGAS DA BAHIA - FERBASA\"],\n [{\n            'v': 3115,\n            'f': \"3115\",\n        },\n\"CIA SEGUROS ALIANCA DA BAHIA\"],\n [{\n            'v': 22845,\n            'f': \"22845\",\n        },\n\"BIOSEV S.A.\"],\n [{\n            'v': 25313,\n            'f': \"25313\",\n        },\n\"HOUSI S.A.\"],\n [{\n            'v': 8745,\n            'f': \"8745\",\n        },\n\"METANOR SA METANOL DO NE\"],\n [{\n            'v': 13986,\n            'f': \"13986\",\n        },\n\"SUZANO S.A.\"],\n [{\n            'v': 22349,\n            'f': \"22349\",\n        },\n\"AREZZO IND\\u00daSTRIA E COM\\u00c9RCIO S.A.\"],\n [{\n            'v': 21350,\n            'f': \"21350\",\n        },\n\"DIRECIONAL ENGENHARIA S.A.\"],\n [{\n            'v': 19739,\n            'f': \"19739\",\n        },\n\"LOCALIZA RENT A CAR S.A.\"],\n [{\n            'v': 25275,\n            'f': \"25275\",\n        },\n\"ALPHAVILLE S.A.\"],\n [{\n            'v': 25259,\n            'f': \"25259\",\n        },\n\"ENJOEI.COM.BR ATIVIDADES DE INTERNET S.A.\"],\n [{\n            'v': 2453,\n            'f': \"2453\",\n        },\n\"CIA ENERGETICA DE MINAS GERAIS - CEMIG\"],\n [{\n            'v': 5983,\n            'f': \"5983\",\n        },\n\"FIACAO TEC SAO JOSE S.A.\"],\n [{\n            'v': 4707,\n            'f': \"4707\",\n        },\n\"CONSORCIO ALFA DE ADMINISTRACAO S.A.\"],\n [{\n            'v': 3077,\n            'f': \"3077\",\n        },\n\"CIA FIACAO TECIDOS CEDRO CACHOEIRA\"],\n [{\n            'v': 19445,\n            'f': \"19445\",\n        },\n\"CIA SANEAMENTO DE MINAS GERAIS-COPASA MG\"],\n [{\n            'v': 23574,\n            'f': \"23574\",\n        },\n\"INTERNATIONAL MEAL COMPANY ALIMENTACAO S.A.\"],\n [{\n            'v': 23159,\n            'f': \"23159\",\n        },\n\"BB SEGURIDADE PARTICIPA\\u00c7\\u00d5ES S.A.\"],\n [{\n            'v': 23485,\n            'f': \"23485\",\n        },\n\"COSAN LOGISTICA S.A.\"],\n [{\n            'v': 23868,\n            'f': \"23868\",\n        },\n\"CONCEBRA - CONCESSIONARIA DAS RODOVIAS CENTRAIS DO BRASIL SA\"],\n [{\n            'v': 24236,\n            'f': \"24236\",\n        },\n\"PRINER SERVI\\u00c7OS INDUSTRIAIS S.A.\"],\n [{\n            'v': 24775,\n            'f': \"24775\",\n        },\n\"BCBF PARTICIPA\\u00c7\\u00d5ES S.A.\"],\n [{\n            'v': 24090,\n            'f': \"24090\",\n        },\n\"INSTITUTO HERMES PARDINI S.A.\"],\n [{\n            'v': 3395,\n            'f': \"3395\",\n        },\n\"CIA INDUSTRIAL CATAGUASES\"],\n [{\n            'v': 80179,\n            'f': \"80179\",\n        },\n\"BIOTOSCANA INVESTMENTS S.A.\"],\n [{\n            'v': 24384,\n            'f': \"24384\",\n        },\n\"NOTRE DAME INTERM\\u00c9DICA PARTICIPA\\u00c7\\u00d5ES S.A.\"],\n [{\n            'v': 23507,\n            'f': \"23507\",\n        },\n\"OURO FINO SAUDE ANIMAL PARTICIPACOES S.A.\"],\n [{\n            'v': 4081,\n            'f': \"4081\",\n        },\n\"CIA TECIDOS SANTANENSE\"],\n [{\n            'v': 23825,\n            'f': \"23825\",\n        },\n\"MOVIDA PARTICIPACOES SA\"],\n [{\n            'v': 25127,\n            'f': \"25127\",\n        },\n\"COMPASS G\\u00c1S E ENERGIA S.A.\"],\n [{\n            'v': 23795,\n            'f': \"23795\",\n        },\n\"CAIXA SEGURIDADE PARTICIPA\\u00c7\\u00d5ES S.A.\"],\n [{\n            'v': 3158,\n            'f': \"3158\",\n        },\n\"CIA TECIDOS NORTE DE MINAS COTEMINAS\"],\n [{\n            'v': 25305,\n            'f': \"25305\",\n        },\n\"PATRIMAR ENGENHARIA S.A.\"],\n [{\n            'v': 24716,\n            'f': \"24716\",\n        },\n\"VAMOS LOCA\\u00c7\\u00c3O DE CAMINH\\u00d5ES, M\\u00c1QUINAS E EQUIPAMENTOS S.A.\"],\n [{\n            'v': 25194,\n            'f': \"25194\",\n        },\n\"TRIPLE PLAY BRASIL PARTICIPA\\u00c7\\u00d5ES S.A.\"],\n [{\n            'v': 25070,\n            'f': \"25070\",\n        },\n\"PLANO & PLANO DESENVOLVIMENTO IMOBILI\\u00c1RIO S.A.\"],\n [{\n            'v': 24830,\n            'f': \"24830\",\n        },\n\"BRK AMBIENTAL PARTICIPA\\u00c7\\u00d5ES S.A.\"],\n [{\n            'v': 24120,\n            'f': \"24120\",\n        },\n\"ARGO ENERGIA EMPREENDIMENTOS E PARTICIPA\\u00c7\\u00d5ES S/A\"],\n [{\n            'v': 25186,\n            'f': \"25186\",\n        },\n\"GRUPO MATEUS S.A.\"],\n [{\n            'v': 25062,\n            'f': \"25062\",\n        },\n\"LAVVI EMPREENDIMENTOS IMOBILI\\u00c1RIOS S.A.\"],\n [{\n            'v': 22012,\n            'f': \"22012\",\n        },\n\"MILLS ESTRUTURAS E SERVI\\u00c7OS DE ENGENHARIA S.A.\"],\n [{\n            'v': 24589,\n            'f': \"24589\",\n        },\n\"ENERGISA TRANSMISS\\u00c3O DE ENERGIA S/A\"],\n [{\n            'v': 13781,\n            'f': \"13781\",\n        },\n\"SAO CARLOS EMPREEND E PARTICIPACOES S.A.\"],\n [{\n            'v': 21121,\n            'f': \"21121\",\n        },\n\"SUL AMERICA S.A.\"],\n [{\n            'v': 13366,\n            'f': \"13366\",\n        },\n\"HAGA S.A. INDUSTRIA E COMERCIO\"],\n [{\n            'v': 24597,\n            'f': \"24597\",\n        },\n\"CELEO REDES TRANSMISS\\u00c3O DE ENERGIA S.A.\"],\n [{\n            'v': 21202,\n            'f': \"21202\",\n        },\n\"VIX LOG\\u00cdSTICA S/A\"],\n [{\n            'v': 24783,\n            'f': \"24783\",\n        },\n\"NATURA &CO HOLDING S.A.\"],\n [{\n            'v': 9512,\n            'f': \"9512\",\n        },\n\"PETROLEO BRASILEIRO S.A. PETROBRAS\"],\n [{\n            'v': 8087,\n            'f': \"8087\",\n        },\n\"LOJAS AMERICANAS S.A.\"],\n [{\n            'v': 6505,\n            'f': \"6505\",\n        },\n\"VIA VAREJO S.A.\"],\n [{\n            'v': 4030,\n            'f': \"4030\",\n        },\n\"CIA SIDERURGICA NACIONAL\"],\n [{\n            'v': 8893,\n            'f': \"8893\",\n        },\n\"MONTEIRO ARANHA S.A.\"],\n [{\n            'v': 11207,\n            'f': \"11207\",\n        },\n\"TECNOSOLO ENGENHARIA S.A. - EMPRESA EM RECUPERA\\u00c7\\u00c3O JUDICIAL\"],\n [{\n            'v': 20028,\n            'f': \"20028\",\n        },\n\"VALID SOLU\\u00c7\\u00d5ES S.A.\"],\n [{\n            'v': 6700,\n            'f': \"6700\",\n        },\n\"HOTEIS OTHON S.A. - EM RECUPERA\\u00c7\\u00c3O JUDICIAL\"],\n [{\n            'v': 11070,\n            'f': \"11070\",\n        },\n\"WLM PART. E COM\\u00c9RCIO DE M\\u00c1QUINAS E VE\\u00cdCULOS S.A.\"],\n [{\n            'v': 18465,\n            'f': \"18465\",\n        },\n\"ULTRAPAR PARTICIPACOES S.A.\"],\n [{\n            'v': 24180,\n            'f': \"24180\",\n        },\n\"IRB - BRASIL RESSEGUROS S.A.\"],\n [{\n            'v': 10880,\n            'f': \"10880\",\n        },\n\"SONDOTECNICA ENGENHARIA SOLOS S.A.\"],\n [{\n            'v': 9989,\n            'f': \"9989\",\n        },\n\"REFINARIA DE PETROLEOS MANGUINHOS S.A.\"],\n [{\n            'v': 11231,\n            'f': \"11231\",\n        },\n\"TEKNO S.A. - INDUSTRIA E COMERCIO\"],\n [{\n            'v': 3328,\n            'f': \"3328\",\n        },\n\"CIA HIDRO EL\\u00c9TRICA DO S\\u00c3O FRANCISCO\"],\n [{\n            'v': 4170,\n            'f': \"4170\",\n        },\n\"VALE S.A.\"],\n [{\n            'v': 3980,\n            'f': \"3980\",\n        },\n\"GERDAU S.A.\"],\n [{\n            'v': 24805,\n            'f': \"24805\",\n        },\n\"VIVARA PARTICIPA\\u00c7\\u00d5ES S.A.\"],\n [{\n            'v': 11592,\n            'f': \"11592\",\n        },\n\"UNIPAR CARBOCLORO S.A.\"],\n [{\n            'v': 24295,\n            'f': \"24295\",\n        },\n\"PETROBRAS DISTRIBUIDORA S/A\"],\n [{\n            'v': 24856,\n            'f': \"24856\",\n        },\n\"UP ENGENHARIA E URBANISMO S.A.\"],\n [{\n            'v': 23302,\n            'f': \"23302\",\n        },\n\"QUALITY SOFTWARE S.A.\"],\n [{\n            'v': 23817,\n            'f': \"23817\",\n        },\n\"BRQ SOLUCOES EM INFORMATICA S.A.\"],\n [{\n            'v': 4820,\n            'f': \"4820\",\n        },\n\"BRASKEM S.A.\"],\n [{\n            'v': 20710,\n            'f': \"20710\",\n        },\n\"LOG-IN LOGISTICA INTERMODAL S.A.\"],\n [{\n            'v': 23590,\n            'f': \"23590\",\n        },\n\"WIZ SOLU\\u00c7\\u00d5ES E CORRETAGEM DE SEGUROS S.A.\"],\n [{\n            'v': 15458,\n            'f': \"15458\",\n        },\n\"BATTISTELLA ADM PARTICIPACOES S.A.\"],\n [{\n            'v': 24058,\n            'f': \"24058\",\n        },\n\"CENTRO DE IMAGEM DIAGNOSTICOS S.A.\"],\n [{\n            'v': 6815,\n            'f': \"6815\",\n        },\n\"IGB ELETR\\u00d4NICA S/A\"],\n [{\n            'v': 20524,\n            'f': \"20524\",\n        },\n\"EVEN CONSTRUTORA E INCORPORADORA S.A.\"],\n [{\n            'v': 24848,\n            'f': \"24848\",\n        },\n\"C&A MODAS S.A.\"],\n [{\n            'v': 20346,\n            'f': \"20346\",\n        },\n\"PROFARMA DISTRIB PROD FARMACEUTICOS S.A.\"],\n [{\n            'v': 701,\n            'f': \"701\",\n        },\n\"BAHEMA EDUCA\\u00c7\\u00c3O S.A.\"],\n [{\n            'v': 14826,\n            'f': \"14826\",\n        },\n\"CIA BRASILEIRA DE DISTRIBUICAO\"],\n [{\n            'v': 22470,\n            'f': \"22470\",\n        },\n\"MAGAZINE LUIZA S.A.\"],\n [{\n            'v': 20877,\n            'f': \"20877\",\n        },\n\"HELBOR EMPREENDIMENTOS S.A.\"],\n [{\n            'v': 21440,\n            'f': \"21440\",\n        },\n\"RESTOQUE COM\\u00c9RCIO E CONFEC\\u00c7\\u00d5ES DE ROUPAS S.A.\"],\n [{\n            'v': 12190,\n            'f': \"12190\",\n        },\n\"BOMBRIL S.A.\"],\n [{\n            'v': 19836,\n            'f': \"19836\",\n        },\n\"COSAN S.A.\"],\n [{\n            'v': 11762,\n            'f': \"11762\",\n        },\n\"VULCABRAS/AZALEIA S.A.\"],\n [{\n            'v': 21334,\n            'f': \"21334\",\n        },\n\"NUTRIPLANT INDUSTRIA E COMERCIO S.A.\"],\n [{\n            'v': 20494,\n            'f': \"20494\",\n        },\n\"IGUATEMI EMPRESA DE SHOPPING CENTERS S.A\"],\n [{\n            'v': 20516,\n            'f': \"20516\",\n        },\n\"SAO MARTINHO S.A.\"],\n [{\n            'v': 13471,\n            'f': \"13471\",\n        },\n\"PLASCAR PARTICIPACOES INDUSTRIAIS S.A.\"],\n [{\n            'v': 22020,\n            'f': \"22020\",\n        },\n\"JSL S.A.\"],\n [{\n            'v': 19992,\n            'f': \"19992\",\n        },\n\"TOTVS S.A.\"],\n [{\n            'v': 5770,\n            'f': \"5770\",\n        },\n\"EUCATEX S.A. INDUSTRIA E COMERCIO\"],\n [{\n            'v': 7510,\n            'f': \"7510\",\n        },\n\"INDUSTRIAS ROMI S.A.\"],\n [{\n            'v': 20125,\n            'f': \"20125\",\n        },\n\"ODONTOPREV S.A.\"],\n [{\n            'v': 24627,\n            'f': \"24627\",\n        },\n\"BLAU FARMAC\\u00caUTICA S.A.\"],\n [{\n            'v': 14346,\n            'f': \"14346\",\n        },\n\"WHIRLPOOL S.A.\"],\n [{\n            'v': 25208,\n            'f': \"25208\",\n        },\n\"TRACK & FIELD CO S.A.\"],\n [{\n            'v': 9393,\n            'f': \"9393\",\n        },\n\"PARANAPANEMA S.A.\"],\n [{\n            'v': 8575,\n            'f': \"8575\",\n        },\n\"MAHLE-METAL LEVE S.A.\"],\n [{\n            'v': 10472,\n            'f': \"10472\",\n        },\n\"SARAIVA LIVREIROS S.A. - EM RECUPERA\\u00c7\\u00c3O JUDICIAL\"],\n [{\n            'v': 24953,\n            'f': \"24953\",\n        },\n\"ALLPARK EMPREENDIMENTOS, PARTICIPA\\u00c7\\u00d5ES E SERVI\\u00c7OS S.A.\"],\n [{\n            'v': 8672,\n            'f': \"8672\",\n        },\n\"JEREISSATI PARTICIPACOES S.A.\"],\n [{\n            'v': 12319,\n            'f': \"12319\",\n        },\n\"INDUSTRIAS J B DUARTE S.A.\"],\n [{\n            'v': 9067,\n            'f': \"9067\",\n        },\n\"SUZANO HOLDING S.A.\"],\n [{\n            'v': 3654,\n            'f': \"3654\",\n        },\n\"CIA MELHORAMENTOS DE SAO PAULO\"],\n [{\n            'v': 21881,\n            'f': \"21881\",\n        },\n\"FLEURY S.A.\"],\n [{\n            'v': 1520,\n            'f': \"1520\",\n        },\n\"BARDELLA S.A. INDUSTRIAS MECANICAS EM RECUPERA\\u00c7\\u00c3O JUDICIAL\"],\n [{\n            'v': 19348,\n            'f': \"19348\",\n        },\n\"ITAU UNIBANCO HOLDING S.A.\"],\n [{\n            'v': 14320,\n            'f': \"14320\",\n        },\n\"USINAS SID DE MINAS GERAIS S.A.-USIMINAS\"],\n [{\n            'v': 2577,\n            'f': \"2577\",\n        },\n\"CESP - CIA ENERGETICA DE SAO PAULO\"],\n [{\n            'v': 4723,\n            'f': \"4723\",\n        },\n\"CONSTRUTORA ADOLPHO LINDENBERG S.A.\"],\n [{\n            'v': 8397,\n            'f': \"8397\",\n        },\n\"MANGELS INDUSTRIAL S.A.\"],\n [{\n            'v': 16306,\n            'f': \"16306\",\n        },\n\"ROSSI RESIDENCIAL S.A.\"],\n [{\n            'v': 10456,\n            'f': \"10456\",\n        },\n\"ALPARGATAS S.A.\"],\n [{\n            'v': 4448,\n            'f': \"4448\",\n        },\n\"COBRASMA S.A.\"],\n [{\n            'v': 8427,\n            'f': \"8427\",\n        },\n\"MANUFATURA DE BRINQUEDOS ESTRELA S.A.\"],\n [{\n            'v': 2100,\n            'f': \"2100\",\n        },\n\"CAMBUCI S.A.\"],\n [{\n            'v': 5762,\n            'f': \"5762\",\n        },\n\"ETERNIT S.A. - EM RECUPERA\\u00c7\\u00c3O JUDICIAL\"],\n [{\n            'v': 11932,\n            'f': \"11932\",\n        },\n\"IOCHPE MAXION S.A.\"],\n [{\n            'v': 12823,\n            'f': \"12823\",\n        },\n\"SIDERURGICA J. L. ALIPERTI S.A.\"],\n [{\n            'v': 24600,\n            'f': \"24600\",\n        },\n\"BANCO BMG S/A\"],\n [{\n            'v': 22055,\n            'f': \"22055\",\n        },\n\"MARISA LOJAS S.A.\"],\n [{\n            'v': 11975,\n            'f': \"11975\",\n        },\n\"AZEVEDO E TRAVASSOS S.A.\"],\n [{\n            'v': 1562,\n            'f': \"1562\",\n        },\n\"BAUMER S.A.\"],\n [{\n            'v': 19623,\n            'f': \"19623\",\n        },\n\"DIAGNOSTICOS DA AMERICA S.A.\"],\n [{\n            'v': 7617,\n            'f': \"7617\",\n        },\n\"ITAUSA S.A.\"],\n [{\n            'v': 3190,\n            'f': \"3190\",\n        },\n\"REDE ENERGIA PARTICIPA\\u00c7\\u00d5ES S.A.\"],\n [{\n            'v': 5258,\n            'f': \"5258\",\n        },\n\"RAIA DROGASIL S.A.\"],\n [{\n            'v': 21466,\n            'f': \"21466\",\n        },\n\"BANCO RCI BRASIL S.A.\"],\n [{\n            'v': 24228,\n            'f': \"24228\",\n        },\n\"CAMIL ALIMENTOS S.A.\"],\n [{\n            'v': 20451,\n            'f': \"20451\",\n        },\n\"RNI NEG\\u00d3CIOS IMOBILI\\u00c1RIOS S.A.\"],\n [{\n            'v': 20702,\n            'f': \"20702\",\n        },\n\"VIVER INCORPORADORA E CONSTRUTORA S.A.\"],\n [{\n            'v': 20931,\n            'f': \"20931\",\n        },\n\"MINERVA S.A.\"],\n [{\n            'v': 21032,\n            'f': \"21032\",\n        },\n\"ALGAR TELECOM S/A\"],\n [{\n            'v': 21148,\n            'f': \"21148\",\n        },\n\"CONSTRUTORA TENDA S.A.\"],\n [{\n            'v': 19550,\n            'f': \"19550\",\n        },\n\"NATURA COSMETICOS S.A.\"],\n [{\n            'v': 14460,\n            'f': \"14460\",\n        },\n\"CYRELA BRAZIL REALTY S.A.EMPREEND E PART\"],\n [{\n            'v': 24171,\n            'f': \"24171\",\n        },\n\"ATACAD\\u00c3O S.A.\"],\n [{\n            'v': 23280,\n            'f': \"23280\",\n        },\n\"OURO VERDE LOCACAO E SERVICO S.A.\"],\n [{\n            'v': 14311,\n            'f': \"14311\",\n        },\n\"CIA PARANAENSE DE ENERGIA - COPEL\"],\n [{\n            'v': 11312,\n            'f': \"11312\",\n        },\n\"OI S.A. - EM RECUPERA\\u00c7\\u00c3O JUDICIAL\"],\n [{\n            'v': 7595,\n            'f': \"7595\",\n        },\n\"INEPAR S.A. INDUSTRIA E CONSTRUCOES -EM RECUPERA\\u00c7\\u00c3O JUDICIAL\"],\n [{\n            'v': 14761,\n            'f': \"14761\",\n        },\n\"CIA HERING\"],\n [{\n            'v': 20362,\n            'f': \"20362\",\n        },\n\"POSITIVO TECNOLOGIA S.A.\"],\n [{\n            'v': 11223,\n            'f': \"11223\",\n        },\n\"TEKA-TECELAGEM KUEHNRICH S.A. - EM RECUPERA\\u00c7\\u00c3O JUDICIAL\"],\n [{\n            'v': 4146,\n            'f': \"4146\",\n        },\n\"KARSTEN S.A.\"],\n [{\n            'v': 5380,\n            'f': \"5380\",\n        },\n\"ELECTRO ACO ALTONA S.A.\"],\n [{\n            'v': 3549,\n            'f': \"3549\",\n        },\n\"CIA INDUSTRIAL SCHLOSSER S.A.\"],\n [{\n            'v': 7544,\n            'f': \"7544\",\n        },\n\"TEXTIL RENAUXVIEW S.A.\"],\n [{\n            'v': 13773,\n            'f': \"13773\",\n        },\n\"PBG S/A\"],\n [{\n            'v': 2461,\n            'f': \"2461\",\n        },\n\"CENTRAIS ELET DE SANTA CATARINA S.A.\"],\n [{\n            'v': 5410,\n            'f': \"5410\",\n        },\n\"WEG S.A.\"],\n [{\n            'v': 6343,\n            'f': \"6343\",\n        },\n\"TUPY S.A.\"],\n [{\n            'v': 5207,\n            'f': \"5207\",\n        },\n\"DOHLER S.A.\"],\n [{\n            'v': 11991,\n            'f': \"11991\",\n        },\n\"WETZEL S.A. EM RECUPERA\\u00c7\\u00c3O JUDICIAL\"],\n [{\n            'v': 14664,\n            'f': \"14664\",\n        },\n\"SCHULZ S.A.\"],\n [{\n            'v': 13439,\n            'f': \"13439\",\n        },\n\"METALURGICA RIOSULENSE S.A.\"],\n [{\n            'v': 8753,\n            'f': \"8753\",\n        },\n\"METISA METALURGICA TIMBOENSE S.A.\"],\n [{\n            'v': 19658,\n            'f': \"19658\",\n        },\n\"POMIFRUTAS S/A - EM RECUPERA\\u00c7\\u00c3O JUDICIAL\"],\n [{\n            'v': 13285,\n            'f': \"13285\",\n        },\n\"JOSAPAR-JOAQUIM OLIVEIRA S.A. - PARTICIP\"],\n [{\n            'v': 3298,\n            'f': \"3298\",\n        },\n\"CIA HABITASUL DE PARTICIPACOES\"],\n [{\n            'v': 6211,\n            'f': \"6211\",\n        },\n\"FRAS-LE S.A.\"],\n [{\n            'v': 5312,\n            'f': \"5312\",\n        },\n\"MUNDIAL S.A. - PRODUTOS DE CONSUMO\"],\n [{\n            'v': 8451,\n            'f': \"8451\",\n        },\n\"MARCOPOLO S.A.\"],\n [{\n            'v': 9539,\n            'f': \"9539\",\n        },\n\"PETTENATI S.A. INDUSTRIA TEXTIL\"],\n [{\n            'v': 14109,\n            'f': \"14109\",\n        },\n\"RANDON S.A. IMPLEMENTOS E PARTICIPACOES\"],\n [{\n            'v': 20745,\n            'f': \"20745\",\n        },\n\"SLC AGRICOLA S.A.\"],\n [{\n            'v': 20060,\n            'f': \"20060\",\n        },\n\"LUPATECH S.A.\"],\n [{\n            'v': 12653,\n            'f': \"12653\",\n        },\n\"KLABIN S.A.\"],\n [{\n            'v': 13030,\n            'f': \"13030\",\n        },\n\"CONSTRUTORA SULTEPA S.A.\"],\n [{\n            'v': 19615,\n            'f': \"19615\",\n        },\n\"GRENDENE S.A.\"],\n [{\n            'v': 13765,\n            'f': \"13765\",\n        },\n\"MINUPAR PARTICIPACOES S.A.\"],\n [{\n            'v': 20532,\n            'f': \"20532\",\n        },\n\"BCO SANTANDER (BRASIL) S.A.\"],\n [{\n            'v': 22780,\n            'f': \"22780\",\n        },\n\"UNICASA IND\\u00daSTRIA DE M\\u00d3VEIS S.A.\"],\n [{\n            'v': 12572,\n            'f': \"12572\",\n        },\n\"RECRUSUL S.A.\"],\n [{\n            'v': 24201,\n            'f': \"24201\",\n        },\n\"STARA S.A. - IND\\u00daSTRIA DE IMPLEMENTOS AGR\\u00cdCOLAS\"],\n [{\n            'v': 7870,\n            'f': \"7870\",\n        },\n\"KEPLER WEBER S.A.\"],\n [{\n            'v': 4537,\n            'f': \"4537\",\n        },\n\"GRAZZIOTIN S.A.\"],\n [{\n            'v': 8192,\n            'f': \"8192\",\n        },\n\"TREVISA INVESTIMENTOS S.A.\"],\n [{\n            'v': 9342,\n            'f': \"9342\",\n        },\n\"DIMED S.A. DISTRIBUIDORA DE MEDICAMENTOS\"],\n [{\n            'v': 8656,\n            'f': \"8656\",\n        },\n\"METALURGICA GERDAU S.A.\"],\n [{\n            'v': 94,\n            'f': \"94\",\n        },\n\"PANATLANTICA S.A.\"],\n [{\n            'v': 3204,\n            'f': \"3204\",\n        },\n\"CIA ESTADUAL GER.TRANS.ENER.ELET-CEEE-GT\"],\n [{\n            'v': 8133,\n            'f': \"8133\",\n        },\n\"LOJAS RENNER S.A.\"],\n [{\n            'v': 6173,\n            'f': \"6173\",\n        },\n\"TAURUS ARMAS S.A.\"],\n [{\n            'v': 2429,\n            'f': \"2429\",\n        },\n\"IRANI PAPEL E EMBALAGEM S.A.\"],\n [{\n            'v': 25143,\n            'f': \"25143\",\n        },\n\"PACAEMBU CONSTRUTORA S.A.\"],\n [{\n            'v': 25038,\n            'f': \"25038\",\n        },\n\"LOJAS QUERO QUERO S.A.\"],\n [{\n            'v': 21091,\n            'f': \"21091\",\n        },\n\"DURATEX S.A.\"]],\n        columns: [[\"number\", \"CD_CVM\"], [\"string\", \"Empresa\"]],\n        columnOptions: [{\"width\": \"1px\", \"className\": \"index_column\"}],\n        rowsPerPage: 25,\n        helpUrl: \"https://colab.research.google.com/notebooks/data_table.ipynb\",\n        suppressOutputScrolling: true,\n        minimumWidth: undefined,\n      });\n    ",
            "text/plain": [
              "<google.colab.data_table.DataTable object>"
            ],
            "text/html": [
              "<div>\n",
              "<style scoped>\n",
              "    .dataframe tbody tr th:only-of-type {\n",
              "        vertical-align: middle;\n",
              "    }\n",
              "\n",
              "    .dataframe tbody tr th {\n",
              "        vertical-align: top;\n",
              "    }\n",
              "\n",
              "    .dataframe thead th {\n",
              "        text-align: right;\n",
              "    }\n",
              "</style>\n",
              "<table border=\"1\" class=\"dataframe\">\n",
              "  <thead>\n",
              "    <tr style=\"text-align: right;\">\n",
              "      <th></th>\n",
              "      <th>Empresa</th>\n",
              "    </tr>\n",
              "    <tr>\n",
              "      <th>CD_CVM</th>\n",
              "      <th></th>\n",
              "    </tr>\n",
              "  </thead>\n",
              "  <tbody>\n",
              "    <tr>\n",
              "      <th>2437</th>\n",
              "      <td>CENTRAIS ELET BRAS S.A. - ELETROBRAS</td>\n",
              "    </tr>\n",
              "    <tr>\n",
              "      <th>14451</th>\n",
              "      <td>CIA ENERGETICA DE BRASILIA</td>\n",
              "    </tr>\n",
              "    <tr>\n",
              "      <th>15423</th>\n",
              "      <td>ATOM EMPREENDIMENTOS E PARTICIPAÇÕES S.A.</td>\n",
              "    </tr>\n",
              "    <tr>\n",
              "      <th>24880</th>\n",
              "      <td>LM TRANSPORTES INTERESTADUAIS SERVIÇOS E COMÉR...</td>\n",
              "    </tr>\n",
              "    <tr>\n",
              "      <th>22594</th>\n",
              "      <td>STATKRAFT ENERGIAS RENOVAVEIS S.A.</td>\n",
              "    </tr>\n",
              "    <tr>\n",
              "      <th>...</th>\n",
              "      <td>...</td>\n",
              "    </tr>\n",
              "    <tr>\n",
              "      <th>6173</th>\n",
              "      <td>TAURUS ARMAS S.A.</td>\n",
              "    </tr>\n",
              "    <tr>\n",
              "      <th>2429</th>\n",
              "      <td>IRANI PAPEL E EMBALAGEM S.A.</td>\n",
              "    </tr>\n",
              "    <tr>\n",
              "      <th>25143</th>\n",
              "      <td>PACAEMBU CONSTRUTORA S.A.</td>\n",
              "    </tr>\n",
              "    <tr>\n",
              "      <th>25038</th>\n",
              "      <td>LOJAS QUERO QUERO S.A.</td>\n",
              "    </tr>\n",
              "    <tr>\n",
              "      <th>21091</th>\n",
              "      <td>DURATEX S.A.</td>\n",
              "    </tr>\n",
              "  </tbody>\n",
              "</table>\n",
              "<p>344 rows × 1 columns</p>\n",
              "</div>"
            ]
          },
          "metadata": {
            "tags": []
          },
          "execution_count": 103
        }
      ]
    },
    {
      "cell_type": "markdown",
      "metadata": {
        "id": "TW5eWI4CKwfM"
      },
      "source": [
        "- Períodos disponíveis para análise"
      ]
    },
    {
      "cell_type": "code",
      "metadata": {
        "id": "K4xBV1dgnqqP",
        "outputId": "ff0bb7e9-330c-4c41-b3ea-4a0d7d8f5914",
        "colab": {
          "base_uri": "https://localhost:8080/"
        }
      },
      "source": [
        "data = empresa['DT_REFER'].drop_duplicates()\r\n",
        "data"
      ],
      "execution_count": 55,
      "outputs": [
        {
          "output_type": "execute_result",
          "data": {
            "text/plain": [
              "1829    2020-03-31\n",
              "1894    2020-06-30\n",
              "2022    2020-09-30\n",
              "Name: DT_REFER, dtype: object"
            ]
          },
          "metadata": {
            "tags": []
          },
          "execution_count": 55
        }
      ]
    },
    {
      "cell_type": "markdown",
      "metadata": {
        "id": "S4DDfkgBMdXP"
      },
      "source": [
        "- Input do código da empresa que se quer a DRE e a data de referência do demonstrativo"
      ]
    },
    {
      "cell_type": "code",
      "metadata": {
        "id": "GR_VtN1onXzq",
        "outputId": "0b041d7f-fc20-4ea8-d9ef-e2dadc427f41",
        "colab": {
          "base_uri": "https://localhost:8080/"
        }
      },
      "source": [
        "escolha1 = int(input('Insira o Código da CVM da Empresa a qual quer análisar - '))\r\n",
        "escolha2 = input('Insira o período de análise - ')"
      ],
      "execution_count": 96,
      "outputs": [
        {
          "output_type": "stream",
          "text": [
            "Insira o Código da CVM da Empresa a qual quer análisar - 20990\n",
            "Insira o período de análise - 2020-09-30\n"
          ],
          "name": "stdout"
        }
      ]
    },
    {
      "cell_type": "markdown",
      "metadata": {
        "id": "AKnm9gfdMmtK"
      },
      "source": [
        "- Geração da DRE"
      ]
    },
    {
      "cell_type": "code",
      "metadata": {
        "id": "w3xf4dii-Bsa",
        "outputId": "0231c372-c060-4315-fc03-263e2de7f60d",
        "colab": {
          "base_uri": "https://localhost:8080/",
          "height": 598
        }
      },
      "source": [
        "empresa = dre[dre['CD_CVM'] == escolha1]\r\n",
        "empresa = empresa[empresa['DT_REFER'] == escolha2]\r\n",
        "empresa = empresa[empresa['DT_INI_EXERC'] == '2020-01-01']\r\n",
        "empresa.rename(columns={'CD_CONTA': 'Código'},inplace=True)\r\n",
        "empresa.rename(columns={'DS_CONTA': 'Conta'},inplace=True)\r\n",
        "empresa.rename(columns={'VL_CONTA': 'Valor'},inplace=True)\r\n",
        "DataTable(empresa[['Código','Conta','Valor']].set_index('Código'))"
      ],
      "execution_count": 97,
      "outputs": [
        {
          "output_type": "execute_result",
          "data": {
            "application/vnd.google.colaboratory.module+javascript": "\n      import \"https://ssl.gstatic.com/colaboratory/data_table/a6224c040fa35dcf/data_table.js\";\n\n      window.createDataTable({\n        data: [[\"3.01\",\n\"Receita de Venda de Bens e/ou Servi\\u00e7os\",\n\"6793863.0000000000\"],\n [\"3.02\",\n\"Custo dos Bens e/ou Servi\\u00e7os Vendidos\",\n\"-4909175.0000000000\"],\n [\"3.03\",\n\"Resultado Bruto\",\n\"1884688.0000000000\"],\n [\"3.04\",\n\"Despesas/Receitas Operacionais\",\n\"-1875739.0000000000\"],\n [\"3.04.01\",\n\"Despesas com Vendas\",\n\"-1162112.0000000000\"],\n [\"3.04.02\",\n\"Despesas Gerais e Administrativas\",\n\"-612486.0000000000\"],\n [\"3.04.03\",\n\"Perdas pela N\\u00e3o Recuperabilidade de Ativos\",\n\"0.0000000000\"],\n [\"3.04.04\",\n\"Outras Receitas Operacionais\",\n\"0.0000000000\"],\n [\"3.04.05\",\n\"Outras Despesas Operacionais\",\n\"-58733.0000000000\"],\n [\"3.04.05.02\",\n\"Honor\\u00e1rios Administradores\",\n\"0.0000000000\"],\n [\"3.04.05.03\",\n\"Outras (despesas) receitas operacionais\",\n\"-58733.0000000000\"],\n [\"3.04.06\",\n\"Resultado de Equival\\u00eancia Patrimonial\",\n\"-42408.0000000000\"],\n [\"3.05\",\n\"Resultado Antes do Resultado Financeiro e dos Tributos\",\n\"8949.0000000000\"],\n [\"3.06\",\n\"Resultado Financeiro\",\n\"-322116.0000000000\"],\n [\"3.06.01\",\n\"Receitas Financeiras\",\n\"264102.0000000000\"],\n [\"3.06.02\",\n\"Despesas Financeiras\",\n\"-586218.0000000000\"],\n [\"3.07\",\n\"Resultado Antes dos Tributos sobre o Lucro\",\n\"-313167.0000000000\"],\n [\"3.08\",\n\"Imposto de Renda e Contribui\\u00e7\\u00e3o Social sobre o Lucro\",\n\"86777.0000000000\"],\n [\"3.08.01\",\n\"Corrente\",\n\"-1092.0000000000\"],\n [\"3.08.02\",\n\"Diferido\",\n\"87869.0000000000\"],\n [\"3.09\",\n\"Resultado L\\u00edquido das Opera\\u00e7\\u00f5es Continuadas\",\n\"-226390.0000000000\"],\n [\"3.10\",\n\"Resultado L\\u00edquido de Opera\\u00e7\\u00f5es Descontinuadas\",\n\"0.0000000000\"],\n [\"3.10.01\",\n\"Lucro/Preju\\u00edzo L\\u00edquido das Opera\\u00e7\\u00f5es Descontinuadas\",\n\"0.0000000000\"],\n [\"3.10.02\",\n\"Ganhos/Perdas L\\u00edquidas sobre Ativos de Opera\\u00e7\\u00f5es Descontinuadas\",\n\"0.0000000000\"],\n [\"3.11\",\n\"Lucro/Preju\\u00edzo Consolidado do Per\\u00edodo\",\n\"-226390.0000000000\"],\n [\"3.11.01\",\n\"Atribu\\u00eddo a S\\u00f3cios da Empresa Controladora\",\n\"-226390.0000000000\"],\n [\"3.11.02\",\n\"Atribu\\u00eddo a S\\u00f3cios N\\u00e3o Controladores\",\n\"0.0000000000\"],\n [\"3.99\",\n\"Lucro por A\\u00e7\\u00e3o - (Reais / A\\u00e7\\u00e3o)\",\n\"0.0000000000\"],\n [\"3.99.01\",\n\"Lucro B\\u00e1sico por A\\u00e7\\u00e3o\",\n\"0.0000000000\"],\n [\"3.99.01.01\",\n\"ON\",\n\"-0.4312000000\"],\n [\"3.99.02\",\n\"Lucro Dilu\\u00eddo por A\\u00e7\\u00e3o\",\n\"0.0000000000\"],\n [\"3.99.02.01\",\n\"ON\",\n\"-0.4273000000\"]],\n        columns: [[\"string\", \"C\\u00f3digo\"], [\"string\", \"Conta\"], [\"string\", \"Valor\"]],\n        columnOptions: [{\"width\": \"1px\", \"className\": \"index_column\"}],\n        rowsPerPage: 25,\n        helpUrl: \"https://colab.research.google.com/notebooks/data_table.ipynb\",\n        suppressOutputScrolling: true,\n        minimumWidth: undefined,\n      });\n    ",
            "text/plain": [
              "<google.colab.data_table.DataTable object>"
            ],
            "text/html": [
              "<div>\n",
              "<style scoped>\n",
              "    .dataframe tbody tr th:only-of-type {\n",
              "        vertical-align: middle;\n",
              "    }\n",
              "\n",
              "    .dataframe tbody tr th {\n",
              "        vertical-align: top;\n",
              "    }\n",
              "\n",
              "    .dataframe thead th {\n",
              "        text-align: right;\n",
              "    }\n",
              "</style>\n",
              "<table border=\"1\" class=\"dataframe\">\n",
              "  <thead>\n",
              "    <tr style=\"text-align: right;\">\n",
              "      <th></th>\n",
              "      <th>Conta</th>\n",
              "      <th>Valor</th>\n",
              "    </tr>\n",
              "    <tr>\n",
              "      <th>Código</th>\n",
              "      <th></th>\n",
              "      <th></th>\n",
              "    </tr>\n",
              "  </thead>\n",
              "  <tbody>\n",
              "    <tr>\n",
              "      <th>3.01</th>\n",
              "      <td>Receita de Venda de Bens e/ou Serviços</td>\n",
              "      <td>6793863.0000000000</td>\n",
              "    </tr>\n",
              "    <tr>\n",
              "      <th>3.02</th>\n",
              "      <td>Custo dos Bens e/ou Serviços Vendidos</td>\n",
              "      <td>-4909175.0000000000</td>\n",
              "    </tr>\n",
              "    <tr>\n",
              "      <th>3.03</th>\n",
              "      <td>Resultado Bruto</td>\n",
              "      <td>1884688.0000000000</td>\n",
              "    </tr>\n",
              "    <tr>\n",
              "      <th>3.04</th>\n",
              "      <td>Despesas/Receitas Operacionais</td>\n",
              "      <td>-1875739.0000000000</td>\n",
              "    </tr>\n",
              "    <tr>\n",
              "      <th>3.04.01</th>\n",
              "      <td>Despesas com Vendas</td>\n",
              "      <td>-1162112.0000000000</td>\n",
              "    </tr>\n",
              "    <tr>\n",
              "      <th>3.04.02</th>\n",
              "      <td>Despesas Gerais e Administrativas</td>\n",
              "      <td>-612486.0000000000</td>\n",
              "    </tr>\n",
              "    <tr>\n",
              "      <th>3.04.03</th>\n",
              "      <td>Perdas pela Não Recuperabilidade de Ativos</td>\n",
              "      <td>0.0000000000</td>\n",
              "    </tr>\n",
              "    <tr>\n",
              "      <th>3.04.04</th>\n",
              "      <td>Outras Receitas Operacionais</td>\n",
              "      <td>0.0000000000</td>\n",
              "    </tr>\n",
              "    <tr>\n",
              "      <th>3.04.05</th>\n",
              "      <td>Outras Despesas Operacionais</td>\n",
              "      <td>-58733.0000000000</td>\n",
              "    </tr>\n",
              "    <tr>\n",
              "      <th>3.04.05.02</th>\n",
              "      <td>Honorários Administradores</td>\n",
              "      <td>0.0000000000</td>\n",
              "    </tr>\n",
              "    <tr>\n",
              "      <th>3.04.05.03</th>\n",
              "      <td>Outras (despesas) receitas operacionais</td>\n",
              "      <td>-58733.0000000000</td>\n",
              "    </tr>\n",
              "    <tr>\n",
              "      <th>3.04.06</th>\n",
              "      <td>Resultado de Equivalência Patrimonial</td>\n",
              "      <td>-42408.0000000000</td>\n",
              "    </tr>\n",
              "    <tr>\n",
              "      <th>3.05</th>\n",
              "      <td>Resultado Antes do Resultado Financeiro e dos ...</td>\n",
              "      <td>8949.0000000000</td>\n",
              "    </tr>\n",
              "    <tr>\n",
              "      <th>3.06</th>\n",
              "      <td>Resultado Financeiro</td>\n",
              "      <td>-322116.0000000000</td>\n",
              "    </tr>\n",
              "    <tr>\n",
              "      <th>3.06.01</th>\n",
              "      <td>Receitas Financeiras</td>\n",
              "      <td>264102.0000000000</td>\n",
              "    </tr>\n",
              "    <tr>\n",
              "      <th>3.06.02</th>\n",
              "      <td>Despesas Financeiras</td>\n",
              "      <td>-586218.0000000000</td>\n",
              "    </tr>\n",
              "    <tr>\n",
              "      <th>3.07</th>\n",
              "      <td>Resultado Antes dos Tributos sobre o Lucro</td>\n",
              "      <td>-313167.0000000000</td>\n",
              "    </tr>\n",
              "    <tr>\n",
              "      <th>3.08</th>\n",
              "      <td>Imposto de Renda e Contribuição Social sobre o...</td>\n",
              "      <td>86777.0000000000</td>\n",
              "    </tr>\n",
              "    <tr>\n",
              "      <th>3.08.01</th>\n",
              "      <td>Corrente</td>\n",
              "      <td>-1092.0000000000</td>\n",
              "    </tr>\n",
              "    <tr>\n",
              "      <th>3.08.02</th>\n",
              "      <td>Diferido</td>\n",
              "      <td>87869.0000000000</td>\n",
              "    </tr>\n",
              "    <tr>\n",
              "      <th>3.09</th>\n",
              "      <td>Resultado Líquido das Operações Continuadas</td>\n",
              "      <td>-226390.0000000000</td>\n",
              "    </tr>\n",
              "    <tr>\n",
              "      <th>3.10</th>\n",
              "      <td>Resultado Líquido de Operações Descontinuadas</td>\n",
              "      <td>0.0000000000</td>\n",
              "    </tr>\n",
              "    <tr>\n",
              "      <th>3.10.01</th>\n",
              "      <td>Lucro/Prejuízo Líquido das Operações Descontin...</td>\n",
              "      <td>0.0000000000</td>\n",
              "    </tr>\n",
              "    <tr>\n",
              "      <th>3.10.02</th>\n",
              "      <td>Ganhos/Perdas Líquidas sobre Ativos de Operaçõ...</td>\n",
              "      <td>0.0000000000</td>\n",
              "    </tr>\n",
              "    <tr>\n",
              "      <th>3.11</th>\n",
              "      <td>Lucro/Prejuízo Consolidado do Período</td>\n",
              "      <td>-226390.0000000000</td>\n",
              "    </tr>\n",
              "    <tr>\n",
              "      <th>3.11.01</th>\n",
              "      <td>Atribuído a Sócios da Empresa Controladora</td>\n",
              "      <td>-226390.0000000000</td>\n",
              "    </tr>\n",
              "    <tr>\n",
              "      <th>3.11.02</th>\n",
              "      <td>Atribuído a Sócios Não Controladores</td>\n",
              "      <td>0.0000000000</td>\n",
              "    </tr>\n",
              "    <tr>\n",
              "      <th>3.99</th>\n",
              "      <td>Lucro por Ação - (Reais / Ação)</td>\n",
              "      <td>0.0000000000</td>\n",
              "    </tr>\n",
              "    <tr>\n",
              "      <th>3.99.01</th>\n",
              "      <td>Lucro Básico por Ação</td>\n",
              "      <td>0.0000000000</td>\n",
              "    </tr>\n",
              "    <tr>\n",
              "      <th>3.99.01.01</th>\n",
              "      <td>ON</td>\n",
              "      <td>-0.4312000000</td>\n",
              "    </tr>\n",
              "    <tr>\n",
              "      <th>3.99.02</th>\n",
              "      <td>Lucro Diluído por Ação</td>\n",
              "      <td>0.0000000000</td>\n",
              "    </tr>\n",
              "    <tr>\n",
              "      <th>3.99.02.01</th>\n",
              "      <td>ON</td>\n",
              "      <td>-0.4273000000</td>\n",
              "    </tr>\n",
              "  </tbody>\n",
              "</table>\n",
              "</div>"
            ]
          },
          "metadata": {
            "tags": []
          },
          "execution_count": 97
        }
      ]
    }
  ]
}