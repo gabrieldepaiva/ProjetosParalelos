{
 "cells": [
  {
   "cell_type": "markdown",
   "metadata": {
    "colab_type": "text",
    "id": "view-in-github"
   },
   "source": [
    "<a href=\"https://colab.research.google.com/github/gabrieldepaiva/ProjetosParalelos/blob/main/WebScriping_Cotacoes_Yahoo_Finance.ipynb\" target=\"_parent\"><img src=\"https://colab.research.google.com/assets/colab-badge.svg\" alt=\"Open In Colab\"/></a>"
   ]
  },
  {
   "cell_type": "markdown",
   "metadata": {
    "id": "7yFURio4JTBl"
   },
   "source": [
    "## Importação das Bibliotecas Necessárias"
   ]
  },
  {
   "cell_type": "code",
   "execution_count": 2,
   "metadata": {
    "id": "ITnVdDYZJa3C"
   },
   "outputs": [
    {
     "ename": "ModuleNotFoundError",
     "evalue": "No module named 'pandas_datareader'",
     "output_type": "error",
     "traceback": [
      "\u001b[1;31m---------------------------------------------------------------------------\u001b[0m",
      "\u001b[1;31mModuleNotFoundError\u001b[0m                       Traceback (most recent call last)",
      "\u001b[1;32m<ipython-input-2-45c0ffb888b0>\u001b[0m in \u001b[0;36m<module>\u001b[1;34m\u001b[0m\n\u001b[0;32m      1\u001b[0m \u001b[1;32mimport\u001b[0m \u001b[0mnumpy\u001b[0m \u001b[1;32mas\u001b[0m \u001b[0mnp\u001b[0m\u001b[1;33m\u001b[0m\u001b[1;33m\u001b[0m\u001b[0m\n\u001b[0;32m      2\u001b[0m \u001b[1;32mimport\u001b[0m \u001b[0mpandas\u001b[0m \u001b[1;32mas\u001b[0m \u001b[0mpd\u001b[0m\u001b[1;33m\u001b[0m\u001b[1;33m\u001b[0m\u001b[0m\n\u001b[1;32m----> 3\u001b[1;33m \u001b[1;32mfrom\u001b[0m \u001b[0mpandas_datareader\u001b[0m \u001b[1;32mimport\u001b[0m \u001b[0mdata\u001b[0m \u001b[1;32mas\u001b[0m \u001b[0mwb\u001b[0m\u001b[1;33m\u001b[0m\u001b[1;33m\u001b[0m\u001b[0m\n\u001b[0m\u001b[0;32m      4\u001b[0m \u001b[1;32mimport\u001b[0m \u001b[0mmatplotlib\u001b[0m\u001b[1;33m.\u001b[0m\u001b[0mpyplot\u001b[0m \u001b[1;32mas\u001b[0m \u001b[0mplt\u001b[0m\u001b[1;33m\u001b[0m\u001b[1;33m\u001b[0m\u001b[0m\n",
      "\u001b[1;31mModuleNotFoundError\u001b[0m: No module named 'pandas_datareader'"
     ]
    }
   ],
   "source": [
    "import numpy as np\n",
    "import pandas as pd\n",
    "from pandas_datareader import data as wb\n",
    "import matplotlib.pyplot as plt"
   ]
  },
  {
   "cell_type": "markdown",
   "metadata": {
    "id": "jlg0nU6uKa5t"
   },
   "source": [
    "## Importação dos dados do Yahoo Finance"
   ]
  },
  {
   "cell_type": "code",
   "execution_count": 10,
   "metadata": {
    "id": "mk7qWKczKnVk"
   },
   "outputs": [],
   "source": [
    "# Será utilizada apenas uma empresa para a realização das análises.\n",
    "# Para o exemplo foram utilizadas as cotações da empresa Procter & Gamble nas datas desde 01/01/2020 até hoje.\n",
    "\n",
    "data = wb.DataReader('PG', data_source = 'yahoo', start = '2020-1-1')\n",
    "data.head() # primeiros cinco registros"
   ]
  },
  {
   "cell_type": "markdown",
   "metadata": {
    "id": "Q7iQ59lXOHu0"
   },
   "source": [
    "## Adição de uma coluna referente às variações diárias"
   ]
  },
  {
   "cell_type": "code",
   "execution_count": 24,
   "metadata": {
    "colab": {
     "base_uri": "https://localhost:8080/",
     "height": 225
    },
    "id": "K9YwvUlwOZX3",
    "outputId": "598c9524-4192-43ff-952e-89e8941933b0"
   },
   "outputs": [
    {
     "data": {
      "text/html": [
       "<div>\n",
       "<style scoped>\n",
       "    .dataframe tbody tr th:only-of-type {\n",
       "        vertical-align: middle;\n",
       "    }\n",
       "\n",
       "    .dataframe tbody tr th {\n",
       "        vertical-align: top;\n",
       "    }\n",
       "\n",
       "    .dataframe thead th {\n",
       "        text-align: right;\n",
       "    }\n",
       "</style>\n",
       "<table border=\"1\" class=\"dataframe\">\n",
       "  <thead>\n",
       "    <tr style=\"text-align: right;\">\n",
       "      <th></th>\n",
       "      <th>High</th>\n",
       "      <th>Low</th>\n",
       "      <th>Open</th>\n",
       "      <th>Close</th>\n",
       "      <th>Volume</th>\n",
       "      <th>Adj Close</th>\n",
       "      <th>variacao</th>\n",
       "    </tr>\n",
       "    <tr>\n",
       "      <th>Date</th>\n",
       "      <th></th>\n",
       "      <th></th>\n",
       "      <th></th>\n",
       "      <th></th>\n",
       "      <th></th>\n",
       "      <th></th>\n",
       "      <th></th>\n",
       "    </tr>\n",
       "  </thead>\n",
       "  <tbody>\n",
       "    <tr>\n",
       "      <th>2020-01-02</th>\n",
       "      <td>124.730003</td>\n",
       "      <td>122.940002</td>\n",
       "      <td>124.500000</td>\n",
       "      <td>123.410004</td>\n",
       "      <td>8130800.0</td>\n",
       "      <td>120.435463</td>\n",
       "      <td>NaN</td>\n",
       "    </tr>\n",
       "    <tr>\n",
       "      <th>2020-01-03</th>\n",
       "      <td>123.529999</td>\n",
       "      <td>121.860001</td>\n",
       "      <td>122.160004</td>\n",
       "      <td>122.580002</td>\n",
       "      <td>7970500.0</td>\n",
       "      <td>119.625465</td>\n",
       "      <td>-0.006726</td>\n",
       "    </tr>\n",
       "    <tr>\n",
       "      <th>2020-01-06</th>\n",
       "      <td>123.190002</td>\n",
       "      <td>122.379997</td>\n",
       "      <td>122.570000</td>\n",
       "      <td>122.750000</td>\n",
       "      <td>6674400.0</td>\n",
       "      <td>119.791367</td>\n",
       "      <td>0.001387</td>\n",
       "    </tr>\n",
       "    <tr>\n",
       "      <th>2020-01-07</th>\n",
       "      <td>123.209999</td>\n",
       "      <td>121.870003</td>\n",
       "      <td>122.879997</td>\n",
       "      <td>121.989998</td>\n",
       "      <td>7583400.0</td>\n",
       "      <td>119.049675</td>\n",
       "      <td>-0.006192</td>\n",
       "    </tr>\n",
       "    <tr>\n",
       "      <th>2020-01-08</th>\n",
       "      <td>123.430000</td>\n",
       "      <td>122.000000</td>\n",
       "      <td>122.190002</td>\n",
       "      <td>122.510002</td>\n",
       "      <td>5385100.0</td>\n",
       "      <td>119.557144</td>\n",
       "      <td>0.004263</td>\n",
       "    </tr>\n",
       "  </tbody>\n",
       "</table>\n",
       "</div>"
      ],
      "text/plain": [
       "                  High         Low        Open  ...     Volume   Adj Close  variacao\n",
       "Date                                            ...                                 \n",
       "2020-01-02  124.730003  122.940002  124.500000  ...  8130800.0  120.435463       NaN\n",
       "2020-01-03  123.529999  121.860001  122.160004  ...  7970500.0  119.625465 -0.006726\n",
       "2020-01-06  123.190002  122.379997  122.570000  ...  6674400.0  119.791367  0.001387\n",
       "2020-01-07  123.209999  121.870003  122.879997  ...  7583400.0  119.049675 -0.006192\n",
       "2020-01-08  123.430000  122.000000  122.190002  ...  5385100.0  119.557144  0.004263\n",
       "\n",
       "[5 rows x 7 columns]"
      ]
     },
     "execution_count": 24,
     "metadata": {
      "tags": []
     },
     "output_type": "execute_result"
    }
   ],
   "source": [
    "data['variacao'] = (data['Adj Close']/data['Adj Close'].shift(+1))-1 #-> o \"shift(+1) ou shift(-1) representa o movimento de \n",
    "data.head()"
   ]
  },
  {
   "cell_type": "markdown",
   "metadata": {
    "id": "j5NKN4_IRKy-"
   },
   "source": [
    "## Primeiro gráfico referente aos dados importados"
   ]
  },
  {
   "cell_type": "code",
   "execution_count": 35,
   "metadata": {
    "colab": {
     "base_uri": "https://localhost:8080/",
     "height": 265
    },
    "id": "n47aUgYXRHPj",
    "outputId": "d1462c86-ecae-4a19-f3a5-20b39595a5e5"
   },
   "outputs": [
    {
     "data": {
      "image/png": "[encoded data removed]",
      "text/plain": [
       "<Figure size 432x288 with 1 Axes>"
      ]
     },
     "metadata": {
      "needs_background": "light",
      "tags": []
     },
     "output_type": "display_data"
    }
   ],
   "source": [
    "plt.plot(data['variacao'])\n",
    "plt.show()"
   ]
  },
  {
   "cell_type": "markdown",
   "metadata": {},
   "source": [
    "## Cálculo da média dos retornos"
   ]
  },
  {
   "cell_type": "code",
   "execution_count": 1,
   "metadata": {},
   "outputs": [
    {
     "ename": "SyntaxError",
     "evalue": "invalid syntax (<ipython-input-1-a3b8df316aeb>, line 2)",
     "output_type": "error",
     "traceback": [
      "\u001b[1;36m  File \u001b[1;32m\"<ipython-input-1-a3b8df316aeb>\"\u001b[1;36m, line \u001b[1;32m2\u001b[0m\n\u001b[1;33m    print(str(round(media_retorno*252*,4)*100+'%'))\u001b[0m\n\u001b[1;37m                                      ^\u001b[0m\n\u001b[1;31mSyntaxError\u001b[0m\u001b[1;31m:\u001b[0m invalid syntax\n"
     ]
    }
   ],
   "source": [
    "media_retorno = data['variacao'].mean()\n",
    "round(media_retorno*252,4) # arredondamento para 4 casas decimais depois de multiplicar pelo ano over - 252 dias úteis\n",
    "print(str(round(media_retorno*252,4)*100)+'%') # deixando a saída de código mais legível"
   ]
  },
  {
   "cell_type": "markdown",
   "metadata": {},
   "source": [
    "## Adição de uma nova coluna com logarítmo natural"
   ]
  },
  {
   "cell_type": "code",
   "execution_count": null,
   "metadata": {},
   "outputs": [],
   "source": [
    "data['ret_logaritmo'] = (np.log(data['Adj Close']/data['Adj Close'].shift(+1)))\n",
    "data.head()"
   ]
  },
  {
   "cell_type": "markdown",
   "metadata": {},
   "source": [
    "## Comparação entre a variação das duas colunas (Variação e Retorno Logarítmico)"
   ]
  },
  {
   "cell_type": "code",
   "execution_count": null,
   "metadata": {},
   "outputs": [],
   "source": [
    "plt.plot(data['ret_logaritmo'])\n",
    "plt.plot(data['variacao'])\n",
    "figsize=20"
   ]
  },
  {
   "cell_type": "markdown",
   "metadata": {},
   "source": [
    "## Comparação entre os retornos (Variação e Retorno Logarítmico)"
   ]
  },
  {
   "cell_type": "code",
   "execution_count": null,
   "metadata": {},
   "outputs": [],
   "source": [
    "media_retorno = data['variacao'].mean()\n",
    "med_ret = str(round(media_retorno*252,4)*100)+'%'\n",
    "print(f'Retorno usando variações sem logarítmo - {med_ret}')\n",
    "\n",
    "media_retorno_log = data['ret_logaritmo'].mean()\n",
    "med_ret_log = str(round(media_retorno_log*252,3)*100)+'%'\n",
    "print(f'Retorno usando variações com logarítmo - {med_ret_log}')"
   ]
  }
 ],
 "metadata": {
  "colab": {
   "authorship_tag": "ABX9TyNyRukcsX+CWkS1tf4T5CXe",
   "include_colab_link": true,
   "name": "WebScriping-Cotacoes_Yahoo_Finance.ipynb",
   "provenance": []
  },
  "kernelspec": {
   "display_name": "Python 3",
   "language": "python",
   "name": "python3"
  },
  "language_info": {
   "codemirror_mode": {
    "name": "ipython",
    "version": 3
   },
   "file_extension": ".py",
   "mimetype": "text/x-python",
   "name": "python",
   "nbconvert_exporter": "python",
   "pygments_lexer": "ipython3",
   "version": "3.7.6"
  }
 },
 "nbformat": 4,
 "nbformat_minor": 1
}
