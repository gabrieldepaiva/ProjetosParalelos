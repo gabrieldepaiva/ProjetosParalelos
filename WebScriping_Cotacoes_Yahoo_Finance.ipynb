{
  "nbformat": 4,
  "nbformat_minor": 0,
  "metadata": {
    "colab": {
      "name": "WebScriping-Cotacoes_Yahoo_Finance.ipynb",
      "provenance": [],
      "authorship_tag": "ABX9TyPxw+Y1hWdbW3zDiTre2WJj",
      "include_colab_link": true
    },
    "kernelspec": {
      "name": "python3",
      "display_name": "Python 3"
    }
  },
  "cells": [
    {
      "cell_type": "markdown",
      "metadata": {
        "id": "view-in-github",
        "colab_type": "text"
      },
      "source": [
        "<a href=\"https://colab.research.google.com/github/gabrieldepaiva/ProjetosParalelos/blob/main/WebScriping_Cotacoes_Yahoo_Finance.ipynb\" target=\"_parent\"><img src=\"https://colab.research.google.com/assets/colab-badge.svg\" alt=\"Open In Colab\"/></a>"
      ]
    },
    {
      "cell_type": "markdown",
      "metadata": {
        "id": "7yFURio4JTBl"
      },
      "source": [
        "## Importação das Bibliotecas Necessárias"
      ]
    },
    {
      "cell_type": "code",
      "metadata": {
        "id": "ITnVdDYZJa3C"
      },
      "source": [
        "import numpy as np\n",
        "import pandas as pd\n",
        "from pandas_datareader import data as wb\n",
        "import matplotlib.pyplot as plt"
      ],
      "execution_count": 1,
      "outputs": []
    },
    {
      "cell_type": "markdown",
      "metadata": {
        "id": "jlg0nU6uKa5t"
      },
      "source": [
        "## Importação dos dados do Yahoo Finance"
      ]
    },
    {
      "cell_type": "code",
      "metadata": {
        "id": "mk7qWKczKnVk",
        "colab": {
          "base_uri": "https://localhost:8080/",
          "height": 235
        },
        "outputId": "619308fe-bed8-4314-cf9a-4b4ac72f7474"
      },
      "source": [
        "# Será usado apenas uma empresa para a realização das análises.\n",
        "# Para o exemplo foram utilizadas as cotações da empresa Procter & Gamble nas datas desde 01/01/2020 até hoje.\n",
        "\n",
        "data = wb.DataReader('PG', data_source = 'yahoo', start = '2020-1-1')\n",
        "data.head() # primeiros cinco registros"
      ],
      "execution_count": 2,
      "outputs": [
        {
          "output_type": "execute_result",
          "data": {
            "text/html": [
              "<div>\n",
              "<style scoped>\n",
              "    .dataframe tbody tr th:only-of-type {\n",
              "        vertical-align: middle;\n",
              "    }\n",
              "\n",
              "    .dataframe tbody tr th {\n",
              "        vertical-align: top;\n",
              "    }\n",
              "\n",
              "    .dataframe thead th {\n",
              "        text-align: right;\n",
              "    }\n",
              "</style>\n",
              "<table border=\"1\" class=\"dataframe\">\n",
              "  <thead>\n",
              "    <tr style=\"text-align: right;\">\n",
              "      <th></th>\n",
              "      <th>High</th>\n",
              "      <th>Low</th>\n",
              "      <th>Open</th>\n",
              "      <th>Close</th>\n",
              "      <th>Volume</th>\n",
              "      <th>Adj Close</th>\n",
              "    </tr>\n",
              "    <tr>\n",
              "      <th>Date</th>\n",
              "      <th></th>\n",
              "      <th></th>\n",
              "      <th></th>\n",
              "      <th></th>\n",
              "      <th></th>\n",
              "      <th></th>\n",
              "    </tr>\n",
              "  </thead>\n",
              "  <tbody>\n",
              "    <tr>\n",
              "      <th>2020-01-02</th>\n",
              "      <td>124.730003</td>\n",
              "      <td>122.940002</td>\n",
              "      <td>124.500000</td>\n",
              "      <td>123.410004</td>\n",
              "      <td>8130800.0</td>\n",
              "      <td>120.435463</td>\n",
              "    </tr>\n",
              "    <tr>\n",
              "      <th>2020-01-03</th>\n",
              "      <td>123.529999</td>\n",
              "      <td>121.860001</td>\n",
              "      <td>122.160004</td>\n",
              "      <td>122.580002</td>\n",
              "      <td>7970500.0</td>\n",
              "      <td>119.625465</td>\n",
              "    </tr>\n",
              "    <tr>\n",
              "      <th>2020-01-06</th>\n",
              "      <td>123.190002</td>\n",
              "      <td>122.379997</td>\n",
              "      <td>122.570000</td>\n",
              "      <td>122.750000</td>\n",
              "      <td>6674400.0</td>\n",
              "      <td>119.791367</td>\n",
              "    </tr>\n",
              "    <tr>\n",
              "      <th>2020-01-07</th>\n",
              "      <td>123.209999</td>\n",
              "      <td>121.870003</td>\n",
              "      <td>122.879997</td>\n",
              "      <td>121.989998</td>\n",
              "      <td>7583400.0</td>\n",
              "      <td>119.049675</td>\n",
              "    </tr>\n",
              "    <tr>\n",
              "      <th>2020-01-08</th>\n",
              "      <td>123.430000</td>\n",
              "      <td>122.000000</td>\n",
              "      <td>122.190002</td>\n",
              "      <td>122.510002</td>\n",
              "      <td>5385100.0</td>\n",
              "      <td>119.557144</td>\n",
              "    </tr>\n",
              "  </tbody>\n",
              "</table>\n",
              "</div>"
            ],
            "text/plain": [
              "                  High         Low  ...     Volume   Adj Close\n",
              "Date                                ...                       \n",
              "2020-01-02  124.730003  122.940002  ...  8130800.0  120.435463\n",
              "2020-01-03  123.529999  121.860001  ...  7970500.0  119.625465\n",
              "2020-01-06  123.190002  122.379997  ...  6674400.0  119.791367\n",
              "2020-01-07  123.209999  121.870003  ...  7583400.0  119.049675\n",
              "2020-01-08  123.430000  122.000000  ...  5385100.0  119.557144\n",
              "\n",
              "[5 rows x 6 columns]"
            ]
          },
          "metadata": {
            "tags": []
          },
          "execution_count": 2
        }
      ]
    },
    {
      "cell_type": "markdown",
      "metadata": {
        "id": "Q7iQ59lXOHu0"
      },
      "source": [
        "## Adição de uma coluna referente às variações diárias"
      ]
    },
    {
      "cell_type": "code",
      "metadata": {
        "colab": {
          "base_uri": "https://localhost:8080/",
          "height": 235
        },
        "id": "K9YwvUlwOZX3",
        "outputId": "226eb536-5c69-4fda-a45e-f753833d8e04"
      },
      "source": [
        "data['variacao'] = (data['Adj Close']/data['Adj Close'].shift(+1))-1 #-> o \"shift(+1) ou shift(-1) representa o movimento de \n",
        "data.head()"
      ],
      "execution_count": 3,
      "outputs": [
        {
          "output_type": "execute_result",
          "data": {
            "text/html": [
              "<div>\n",
              "<style scoped>\n",
              "    .dataframe tbody tr th:only-of-type {\n",
              "        vertical-align: middle;\n",
              "    }\n",
              "\n",
              "    .dataframe tbody tr th {\n",
              "        vertical-align: top;\n",
              "    }\n",
              "\n",
              "    .dataframe thead th {\n",
              "        text-align: right;\n",
              "    }\n",
              "</style>\n",
              "<table border=\"1\" class=\"dataframe\">\n",
              "  <thead>\n",
              "    <tr style=\"text-align: right;\">\n",
              "      <th></th>\n",
              "      <th>High</th>\n",
              "      <th>Low</th>\n",
              "      <th>Open</th>\n",
              "      <th>Close</th>\n",
              "      <th>Volume</th>\n",
              "      <th>Adj Close</th>\n",
              "      <th>variacao</th>\n",
              "    </tr>\n",
              "    <tr>\n",
              "      <th>Date</th>\n",
              "      <th></th>\n",
              "      <th></th>\n",
              "      <th></th>\n",
              "      <th></th>\n",
              "      <th></th>\n",
              "      <th></th>\n",
              "      <th></th>\n",
              "    </tr>\n",
              "  </thead>\n",
              "  <tbody>\n",
              "    <tr>\n",
              "      <th>2020-01-02</th>\n",
              "      <td>124.730003</td>\n",
              "      <td>122.940002</td>\n",
              "      <td>124.500000</td>\n",
              "      <td>123.410004</td>\n",
              "      <td>8130800.0</td>\n",
              "      <td>120.435463</td>\n",
              "      <td>NaN</td>\n",
              "    </tr>\n",
              "    <tr>\n",
              "      <th>2020-01-03</th>\n",
              "      <td>123.529999</td>\n",
              "      <td>121.860001</td>\n",
              "      <td>122.160004</td>\n",
              "      <td>122.580002</td>\n",
              "      <td>7970500.0</td>\n",
              "      <td>119.625465</td>\n",
              "      <td>-0.006726</td>\n",
              "    </tr>\n",
              "    <tr>\n",
              "      <th>2020-01-06</th>\n",
              "      <td>123.190002</td>\n",
              "      <td>122.379997</td>\n",
              "      <td>122.570000</td>\n",
              "      <td>122.750000</td>\n",
              "      <td>6674400.0</td>\n",
              "      <td>119.791367</td>\n",
              "      <td>0.001387</td>\n",
              "    </tr>\n",
              "    <tr>\n",
              "      <th>2020-01-07</th>\n",
              "      <td>123.209999</td>\n",
              "      <td>121.870003</td>\n",
              "      <td>122.879997</td>\n",
              "      <td>121.989998</td>\n",
              "      <td>7583400.0</td>\n",
              "      <td>119.049675</td>\n",
              "      <td>-0.006192</td>\n",
              "    </tr>\n",
              "    <tr>\n",
              "      <th>2020-01-08</th>\n",
              "      <td>123.430000</td>\n",
              "      <td>122.000000</td>\n",
              "      <td>122.190002</td>\n",
              "      <td>122.510002</td>\n",
              "      <td>5385100.0</td>\n",
              "      <td>119.557144</td>\n",
              "      <td>0.004263</td>\n",
              "    </tr>\n",
              "  </tbody>\n",
              "</table>\n",
              "</div>"
            ],
            "text/plain": [
              "                  High         Low        Open  ...     Volume   Adj Close  variacao\n",
              "Date                                            ...                                 \n",
              "2020-01-02  124.730003  122.940002  124.500000  ...  8130800.0  120.435463       NaN\n",
              "2020-01-03  123.529999  121.860001  122.160004  ...  7970500.0  119.625465 -0.006726\n",
              "2020-01-06  123.190002  122.379997  122.570000  ...  6674400.0  119.791367  0.001387\n",
              "2020-01-07  123.209999  121.870003  122.879997  ...  7583400.0  119.049675 -0.006192\n",
              "2020-01-08  123.430000  122.000000  122.190002  ...  5385100.0  119.557144  0.004263\n",
              "\n",
              "[5 rows x 7 columns]"
            ]
          },
          "metadata": {
            "tags": []
          },
          "execution_count": 3
        }
      ]
    },
    {
      "cell_type": "markdown",
      "metadata": {
        "id": "j5NKN4_IRKy-"
      },
      "source": [
        "## Primeiro gráfico referente aos dados importados"
      ]
    },
    {
      "cell_type": "code",
      "metadata": {
        "colab": {
          "base_uri": "https://localhost:8080/",
          "height": 265
        },
        "id": "n47aUgYXRHPj",
        "outputId": "30f99347-a3c0-4c70-db2a-5ee1cd4fda69"
      },
      "source": [
        "plt.plot(data['variacao'])\n",
        "plt.plot(figsize=(30))\n",
        "plt.show()"
      ],
      "execution_count": 4,
      "outputs": [
        {
          "output_type": "display_data",
          "data": {
            "image/png": "[encoded data removed]",
            "text/plain": [
              "<Figure size 432x288 with 1 Axes>"
            ]
          },
          "metadata": {
            "tags": [],
            "needs_background": "light"
          }
        }
      ]
    },
    {
      "cell_type": "markdown",
      "metadata": {
        "id": "387BfBOKL1rj"
      },
      "source": [
        "## Cálculo das Médias dos Retornos"
      ]
    },
    {
      "cell_type": "code",
      "metadata": {
        "id": "fLoyup1-KM4M",
        "colab": {
          "base_uri": "https://localhost:8080/"
        },
        "outputId": "2b970885-0cf5-4d53-af62-0f1a39133b59"
      },
      "source": [
        "media_retorno = data['variacao'].mean()\n",
        "round(media_retorno*252,4) # arredondamento para 4 casas decimais depois de multiplicar pelo ano over - 252 dias úteis\n",
        "print(str(round(media_retorno*252,4)*100)+'%') # deixando a saída de código mais legível"
      ],
      "execution_count": 5,
      "outputs": [
        {
          "output_type": "stream",
          "text": [
            "19.85%\n"
          ],
          "name": "stdout"
        }
      ]
    },
    {
      "cell_type": "markdown",
      "metadata": {
        "id": "z2c3ZsJeQswI"
      },
      "source": [
        "## Adição de uma nova coluna com logarítmo natural"
      ]
    },
    {
      "cell_type": "code",
      "metadata": {
        "id": "qAAaXuqjQ1X3",
        "colab": {
          "base_uri": "https://localhost:8080/",
          "height": 235
        },
        "outputId": "fd67d647-1e3e-44cb-9764-48a4164af531"
      },
      "source": [
        "data['ret_logaritmo'] = (np.log(data['Adj Close']/data['Adj Close'].shift(+1)))\n",
        "data.head()"
      ],
      "execution_count": 6,
      "outputs": [
        {
          "output_type": "execute_result",
          "data": {
            "text/html": [
              "<div>\n",
              "<style scoped>\n",
              "    .dataframe tbody tr th:only-of-type {\n",
              "        vertical-align: middle;\n",
              "    }\n",
              "\n",
              "    .dataframe tbody tr th {\n",
              "        vertical-align: top;\n",
              "    }\n",
              "\n",
              "    .dataframe thead th {\n",
              "        text-align: right;\n",
              "    }\n",
              "</style>\n",
              "<table border=\"1\" class=\"dataframe\">\n",
              "  <thead>\n",
              "    <tr style=\"text-align: right;\">\n",
              "      <th></th>\n",
              "      <th>High</th>\n",
              "      <th>Low</th>\n",
              "      <th>Open</th>\n",
              "      <th>Close</th>\n",
              "      <th>Volume</th>\n",
              "      <th>Adj Close</th>\n",
              "      <th>variacao</th>\n",
              "      <th>ret_logaritmo</th>\n",
              "    </tr>\n",
              "    <tr>\n",
              "      <th>Date</th>\n",
              "      <th></th>\n",
              "      <th></th>\n",
              "      <th></th>\n",
              "      <th></th>\n",
              "      <th></th>\n",
              "      <th></th>\n",
              "      <th></th>\n",
              "      <th></th>\n",
              "    </tr>\n",
              "  </thead>\n",
              "  <tbody>\n",
              "    <tr>\n",
              "      <th>2020-01-02</th>\n",
              "      <td>124.730003</td>\n",
              "      <td>122.940002</td>\n",
              "      <td>124.500000</td>\n",
              "      <td>123.410004</td>\n",
              "      <td>8130800.0</td>\n",
              "      <td>120.435463</td>\n",
              "      <td>NaN</td>\n",
              "      <td>NaN</td>\n",
              "    </tr>\n",
              "    <tr>\n",
              "      <th>2020-01-03</th>\n",
              "      <td>123.529999</td>\n",
              "      <td>121.860001</td>\n",
              "      <td>122.160004</td>\n",
              "      <td>122.580002</td>\n",
              "      <td>7970500.0</td>\n",
              "      <td>119.625465</td>\n",
              "      <td>-0.006726</td>\n",
              "      <td>-0.006748</td>\n",
              "    </tr>\n",
              "    <tr>\n",
              "      <th>2020-01-06</th>\n",
              "      <td>123.190002</td>\n",
              "      <td>122.379997</td>\n",
              "      <td>122.570000</td>\n",
              "      <td>122.750000</td>\n",
              "      <td>6674400.0</td>\n",
              "      <td>119.791367</td>\n",
              "      <td>0.001387</td>\n",
              "      <td>0.001386</td>\n",
              "    </tr>\n",
              "    <tr>\n",
              "      <th>2020-01-07</th>\n",
              "      <td>123.209999</td>\n",
              "      <td>121.870003</td>\n",
              "      <td>122.879997</td>\n",
              "      <td>121.989998</td>\n",
              "      <td>7583400.0</td>\n",
              "      <td>119.049675</td>\n",
              "      <td>-0.006192</td>\n",
              "      <td>-0.006211</td>\n",
              "    </tr>\n",
              "    <tr>\n",
              "      <th>2020-01-08</th>\n",
              "      <td>123.430000</td>\n",
              "      <td>122.000000</td>\n",
              "      <td>122.190002</td>\n",
              "      <td>122.510002</td>\n",
              "      <td>5385100.0</td>\n",
              "      <td>119.557144</td>\n",
              "      <td>0.004263</td>\n",
              "      <td>0.004254</td>\n",
              "    </tr>\n",
              "  </tbody>\n",
              "</table>\n",
              "</div>"
            ],
            "text/plain": [
              "                  High         Low  ...  variacao  ret_logaritmo\n",
              "Date                                ...                         \n",
              "2020-01-02  124.730003  122.940002  ...       NaN            NaN\n",
              "2020-01-03  123.529999  121.860001  ... -0.006726      -0.006748\n",
              "2020-01-06  123.190002  122.379997  ...  0.001387       0.001386\n",
              "2020-01-07  123.209999  121.870003  ... -0.006192      -0.006211\n",
              "2020-01-08  123.430000  122.000000  ...  0.004263       0.004254\n",
              "\n",
              "[5 rows x 8 columns]"
            ]
          },
          "metadata": {
            "tags": []
          },
          "execution_count": 6
        }
      ]
    },
    {
      "cell_type": "markdown",
      "metadata": {
        "id": "ERbjkXQ1SfGr"
      },
      "source": [
        "## Comparação entre a variação das duas colunas (Variação e Retorno Logarítmico)"
      ]
    },
    {
      "cell_type": "code",
      "metadata": {
        "id": "L8-WyBmMSfcO",
        "colab": {
          "base_uri": "https://localhost:8080/",
          "height": 265
        },
        "outputId": "5c82308e-baa1-4839-93f5-d507d2fbc0b2"
      },
      "source": [
        "plt.plot(data['ret_logaritmo'])\n",
        "plt.plot(data['variacao'])\n",
        "figsize=20"
      ],
      "execution_count": 7,
      "outputs": [
        {
          "output_type": "display_data",
          "data": {
            "image/png": "[encoded data removed]",
            "text/plain": [
              "<Figure size 432x288 with 1 Axes>"
            ]
          },
          "metadata": {
            "tags": [],
            "needs_background": "light"
          }
        }
      ]
    },
    {
      "cell_type": "markdown",
      "metadata": {
        "id": "1ZGr1aWwTeCT"
      },
      "source": [
        "## Comparação entre os retornos (Variação e Retorno Logarítmico)"
      ]
    },
    {
      "cell_type": "code",
      "metadata": {
        "id": "WXTmFHIeThR-",
        "colab": {
          "base_uri": "https://localhost:8080/"
        },
        "outputId": "a97d47f9-e2ac-487b-cce2-43e5e98e6c02"
      },
      "source": [
        "media_retorno = data['variacao'].mean()\n",
        "med_ret = str(round(media_retorno*252,4)*100)+'%'\n",
        "print(f'Retorno usando variações sem logarítmo - {med_ret}')\n",
        "\n",
        "media_retorno_log = data['ret_logaritmo'].mean()\n",
        "med_ret_log = str(round(media_retorno_log*252,3)*100)+'%'\n",
        "print(f'Retorno usando variações com logarítmo - {med_ret_log}')"
      ],
      "execution_count": 8,
      "outputs": [
        {
          "output_type": "stream",
          "text": [
            "Retorno usando variações sem logarítmo - 19.85%\n",
            "Retorno usando variações com logarítmo - 14.2%\n"
          ],
          "name": "stdout"
        }
      ]
    }
  ]
}